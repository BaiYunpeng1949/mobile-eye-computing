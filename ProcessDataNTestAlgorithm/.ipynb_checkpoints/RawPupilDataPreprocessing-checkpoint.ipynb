{
 "cells": [
  {
   "cell_type": "markdown",
   "id": "11221662",
   "metadata": {},
   "source": [
    "## Raw pupil data preprocessing"
   ]
  },
  {
   "cell_type": "markdown",
   "id": "cd93970d",
   "metadata": {},
   "source": [
    "### Reference"
   ]
  },
  {
   "cell_type": "markdown",
   "id": "2024040e",
   "metadata": {},
   "source": [
    "Major referenced papers:\n",
    "1. Total VREcall, https://dl-acm-org.libproxy1.nus.edu.sg/doi/10.1145/3534615 \n",
    "2. GazeR: A Package for Processing Gaze Position and Pupil Size Data. https://pubmed.ncbi.nlm.nih.gov/32291732/ \n",
    "3. ComputationalMR. https://github.com/eth-ait/ComputationalMR "
   ]
  },
  {
   "cell_type": "code",
   "execution_count": 1,
   "id": "ef2d9d0c",
   "metadata": {},
   "outputs": [],
   "source": [
    "import pandas as pd\n",
    "from matplotlib import pyplot as plt\n",
    "import numpy as np\n",
    "from numba import jit\n",
    "import math\n",
    "\n",
    "def plotter(ax, data1, data2, param_dict):\n",
    "    out = ax.plot(data1, data2, **param_dict)\n",
    "    return out"
   ]
  },
  {
   "cell_type": "markdown",
   "id": "2c962dda",
   "metadata": {},
   "source": [
    "### Read raw data"
   ]
  },
  {
   "cell_type": "code",
   "execution_count": 2,
   "id": "8ada7035",
   "metadata": {},
   "outputs": [],
   "source": [
    "read_file_path = '../Data/RawData/23-08-16-00-walk_simpath-hard/left2D_75Hz.csv'\n",
    "SAMPLING_RATE = int((read_file_path.split('_')[-1]).split('Hz')[0])\n",
    "data = pd.read_csv(read_file_path)"
   ]
  },
  {
   "cell_type": "code",
   "execution_count": 3,
   "id": "ecde1faa",
   "metadata": {},
   "outputs": [
    {
     "data": {
      "text/html": [
       "<div>\n",
       "<style scoped>\n",
       "    .dataframe tbody tr th:only-of-type {\n",
       "        vertical-align: middle;\n",
       "    }\n",
       "\n",
       "    .dataframe tbody tr th {\n",
       "        vertical-align: top;\n",
       "    }\n",
       "\n",
       "    .dataframe thead th {\n",
       "        text-align: right;\n",
       "    }\n",
       "</style>\n",
       "<table border=\"1\" class=\"dataframe\">\n",
       "  <thead>\n",
       "    <tr style=\"text-align: right;\">\n",
       "      <th></th>\n",
       "      <th>Timestamp</th>\n",
       "      <th>Confidence</th>\n",
       "      <th>Diameter</th>\n",
       "      <th>Event</th>\n",
       "    </tr>\n",
       "  </thead>\n",
       "  <tbody>\n",
       "    <tr>\n",
       "      <th>0</th>\n",
       "      <td>618274.506373</td>\n",
       "      <td>0.899145</td>\n",
       "      <td>22.097637</td>\n",
       "      <td>default</td>\n",
       "    </tr>\n",
       "    <tr>\n",
       "      <th>1</th>\n",
       "      <td>618274.516462</td>\n",
       "      <td>0.799786</td>\n",
       "      <td>22.149349</td>\n",
       "      <td>default</td>\n",
       "    </tr>\n",
       "    <tr>\n",
       "      <th>2</th>\n",
       "      <td>618274.529712</td>\n",
       "      <td>0.848935</td>\n",
       "      <td>21.738550</td>\n",
       "      <td>default</td>\n",
       "    </tr>\n",
       "    <tr>\n",
       "      <th>3</th>\n",
       "      <td>618274.539211</td>\n",
       "      <td>0.785822</td>\n",
       "      <td>21.739740</td>\n",
       "      <td>default</td>\n",
       "    </tr>\n",
       "    <tr>\n",
       "      <th>4</th>\n",
       "      <td>618274.551533</td>\n",
       "      <td>0.810524</td>\n",
       "      <td>21.727039</td>\n",
       "      <td>default</td>\n",
       "    </tr>\n",
       "    <tr>\n",
       "      <th>...</th>\n",
       "      <td>...</td>\n",
       "      <td>...</td>\n",
       "      <td>...</td>\n",
       "      <td>...</td>\n",
       "    </tr>\n",
       "    <tr>\n",
       "      <th>9338</th>\n",
       "      <td>618397.927577</td>\n",
       "      <td>0.701227</td>\n",
       "      <td>24.097033</td>\n",
       "      <td>sitting</td>\n",
       "    </tr>\n",
       "    <tr>\n",
       "      <th>9339</th>\n",
       "      <td>618397.940309</td>\n",
       "      <td>0.614431</td>\n",
       "      <td>23.949997</td>\n",
       "      <td>sitting</td>\n",
       "    </tr>\n",
       "    <tr>\n",
       "      <th>9340</th>\n",
       "      <td>618397.959018</td>\n",
       "      <td>0.592954</td>\n",
       "      <td>24.216206</td>\n",
       "      <td>sitting</td>\n",
       "    </tr>\n",
       "    <tr>\n",
       "      <th>9341</th>\n",
       "      <td>618397.979127</td>\n",
       "      <td>0.710958</td>\n",
       "      <td>24.809454</td>\n",
       "      <td>sitting</td>\n",
       "    </tr>\n",
       "    <tr>\n",
       "      <th>9342</th>\n",
       "      <td>618397.991423</td>\n",
       "      <td>0.595467</td>\n",
       "      <td>24.531050</td>\n",
       "      <td>sitting</td>\n",
       "    </tr>\n",
       "  </tbody>\n",
       "</table>\n",
       "<p>9343 rows × 4 columns</p>\n",
       "</div>"
      ],
      "text/plain": [
       "          Timestamp  Confidence   Diameter    Event\n",
       "0     618274.506373    0.899145  22.097637  default\n",
       "1     618274.516462    0.799786  22.149349  default\n",
       "2     618274.529712    0.848935  21.738550  default\n",
       "3     618274.539211    0.785822  21.739740  default\n",
       "4     618274.551533    0.810524  21.727039  default\n",
       "...             ...         ...        ...      ...\n",
       "9338  618397.927577    0.701227  24.097033  sitting\n",
       "9339  618397.940309    0.614431  23.949997  sitting\n",
       "9340  618397.959018    0.592954  24.216206  sitting\n",
       "9341  618397.979127    0.710958  24.809454  sitting\n",
       "9342  618397.991423    0.595467  24.531050  sitting\n",
       "\n",
       "[9343 rows x 4 columns]"
      ]
     },
     "execution_count": 3,
     "metadata": {},
     "output_type": "execute_result"
    }
   ],
   "source": [
    "df = data[['Timestamp','Confidence','Diameter','Event']].copy()\n",
    "df"
   ]
  },
  {
   "cell_type": "markdown",
   "id": "f93e9d7d",
   "metadata": {},
   "source": [
    "### De-blinking and remove data with low confidence"
   ]
  },
  {
   "cell_type": "markdown",
   "id": "44fb06c4",
   "metadata": {},
   "source": [
    "#### Extending blinks"
   ]
  },
  {
   "cell_type": "code",
   "execution_count": 4,
   "id": "1880a52b",
   "metadata": {},
   "outputs": [],
   "source": [
    "## Check how David Linderbaure's group deal with the blinks. Use confidence to identify blinks. They removed the data within 200ms. However, they did not interpolate the eliminated ones.\n",
    "## Here I clean data before and after 200ms of blinks. The input is the numpy data list of the \"confidence\" conlumn. Then return a list that marks which indecies are blinks. \n",
    "def mark_blinks(data):\n",
    "    # Variables initialization:\n",
    "    blinks = []\n",
    "    \n",
    "    min_num_blinks = 2\n",
    "    num_samples = len(data)\n",
    "    i = 0\n",
    "    min_conf = 0.25\n",
    "    \n",
    "    duration_sample_remove_ms = 200\n",
    "    num_samples_removed = int(math.ceil(SAMPLING_RATE / (1000 / duration_sample_remove_ms)))\n",
    "    \n",
    "    # Find blinks, identified by low confidence data.##TODO: get the data into a class.\n",
    "    while i < num_samples:\n",
    "        if data[i] < min_conf and i < num_samples - 1:\n",
    "            runner = 1\n",
    "            next_data = data[i + runner]\n",
    "            while next_data < min_conf:\n",
    "                runner = runner + 1\n",
    "                if i + runner >= num_samples:\n",
    "                    break\n",
    "                next_data = data[i + runner]\n",
    "            \n",
    "            if runner >= min_num_blinks:\n",
    "                blinks.append((i, runner))\n",
    "                \n",
    "            i = i + runner  # This blink is over, update to the next.\n",
    "        else:\n",
    "            i = i + 1\n",
    "    \n",
    "    # Mark data before and after 200ms of blinks.\n",
    "    blink_markers = np.ones(num_samples)\n",
    "    for i in range(len(blinks)):\n",
    "        blink_index = blinks[i][0]\n",
    "        blink_length = blinks[i][1]\n",
    "        \n",
    "        for j in range(0, blink_length):\n",
    "            blink_markers[blink_index + j] = 0\n",
    "        \n",
    "        for j in range(0, num_samples_removed):\n",
    "            decrement_index = blink_index - j\n",
    "            increment_index = blink_index + blink_length + j\n",
    "            \n",
    "            # Check the boundary conditions.\n",
    "            if decrement_index >=0:\n",
    "                blink_markers[decrement_index] = 0\n",
    "            \n",
    "            if increment_index < num_samples:\n",
    "                blink_markers[increment_index] = 0\n",
    "    \n",
    "    return blink_markers"
   ]
  },
  {
   "cell_type": "code",
   "execution_count": 5,
   "id": "7696fd6e",
   "metadata": {},
   "outputs": [
    {
     "data": {
      "text/plain": [
       "0       0.899145\n",
       "1       0.799786\n",
       "2       0.848935\n",
       "3       0.785822\n",
       "4       0.810524\n",
       "          ...   \n",
       "9338    0.701227\n",
       "9339    0.614431\n",
       "9340    0.592954\n",
       "9341    0.710958\n",
       "9342    0.595467\n",
       "Name: Confidence, Length: 9343, dtype: float64"
      ]
     },
     "execution_count": 5,
     "metadata": {},
     "output_type": "execute_result"
    }
   ],
   "source": [
    "## Get confidence column.\n",
    "data_conf = df['Confidence'].copy()\n",
    "data_conf"
   ]
  },
  {
   "cell_type": "code",
   "execution_count": 6,
   "id": "c46699fa",
   "metadata": {},
   "outputs": [
    {
     "data": {
      "text/plain": [
       "array([1., 1., 1., ..., 1., 1., 1.])"
      ]
     },
     "execution_count": 6,
     "metadata": {},
     "output_type": "execute_result"
    }
   ],
   "source": [
    "blink_markers = mark_blinks(data=data_conf)\n",
    "blink_markers"
   ]
  },
  {
   "cell_type": "code",
   "execution_count": 7,
   "id": "397a9bcc",
   "metadata": {},
   "outputs": [
    {
     "name": "stdout",
     "output_type": "stream",
     "text": [
      "3270\n"
     ]
    }
   ],
   "source": [
    "## Count the number of data that marked as blinks.\n",
    "print(len(blink_markers[np.where(blink_markers==0)]))"
   ]
  },
  {
   "cell_type": "code",
   "execution_count": 8,
   "id": "1ee191cb",
   "metadata": {},
   "outputs": [
    {
     "data": {
      "text/html": [
       "<div>\n",
       "<style scoped>\n",
       "    .dataframe tbody tr th:only-of-type {\n",
       "        vertical-align: middle;\n",
       "    }\n",
       "\n",
       "    .dataframe tbody tr th {\n",
       "        vertical-align: top;\n",
       "    }\n",
       "\n",
       "    .dataframe thead th {\n",
       "        text-align: right;\n",
       "    }\n",
       "</style>\n",
       "<table border=\"1\" class=\"dataframe\">\n",
       "  <thead>\n",
       "    <tr style=\"text-align: right;\">\n",
       "      <th></th>\n",
       "      <th>Timestamp</th>\n",
       "      <th>Confidence</th>\n",
       "      <th>Diameter</th>\n",
       "      <th>Event</th>\n",
       "      <th>Blink_marks</th>\n",
       "    </tr>\n",
       "  </thead>\n",
       "  <tbody>\n",
       "    <tr>\n",
       "      <th>0</th>\n",
       "      <td>618274.506373</td>\n",
       "      <td>0.899145</td>\n",
       "      <td>22.097637</td>\n",
       "      <td>default</td>\n",
       "      <td>1.0</td>\n",
       "    </tr>\n",
       "    <tr>\n",
       "      <th>1</th>\n",
       "      <td>618274.516462</td>\n",
       "      <td>0.799786</td>\n",
       "      <td>22.149349</td>\n",
       "      <td>default</td>\n",
       "      <td>1.0</td>\n",
       "    </tr>\n",
       "    <tr>\n",
       "      <th>2</th>\n",
       "      <td>618274.529712</td>\n",
       "      <td>0.848935</td>\n",
       "      <td>21.738550</td>\n",
       "      <td>default</td>\n",
       "      <td>1.0</td>\n",
       "    </tr>\n",
       "    <tr>\n",
       "      <th>3</th>\n",
       "      <td>618274.539211</td>\n",
       "      <td>0.785822</td>\n",
       "      <td>21.739740</td>\n",
       "      <td>default</td>\n",
       "      <td>1.0</td>\n",
       "    </tr>\n",
       "    <tr>\n",
       "      <th>4</th>\n",
       "      <td>618274.551533</td>\n",
       "      <td>0.810524</td>\n",
       "      <td>21.727039</td>\n",
       "      <td>default</td>\n",
       "      <td>1.0</td>\n",
       "    </tr>\n",
       "    <tr>\n",
       "      <th>...</th>\n",
       "      <td>...</td>\n",
       "      <td>...</td>\n",
       "      <td>...</td>\n",
       "      <td>...</td>\n",
       "      <td>...</td>\n",
       "    </tr>\n",
       "    <tr>\n",
       "      <th>9338</th>\n",
       "      <td>618397.927577</td>\n",
       "      <td>0.701227</td>\n",
       "      <td>24.097033</td>\n",
       "      <td>sitting</td>\n",
       "      <td>1.0</td>\n",
       "    </tr>\n",
       "    <tr>\n",
       "      <th>9339</th>\n",
       "      <td>618397.940309</td>\n",
       "      <td>0.614431</td>\n",
       "      <td>23.949997</td>\n",
       "      <td>sitting</td>\n",
       "      <td>1.0</td>\n",
       "    </tr>\n",
       "    <tr>\n",
       "      <th>9340</th>\n",
       "      <td>618397.959018</td>\n",
       "      <td>0.592954</td>\n",
       "      <td>24.216206</td>\n",
       "      <td>sitting</td>\n",
       "      <td>1.0</td>\n",
       "    </tr>\n",
       "    <tr>\n",
       "      <th>9341</th>\n",
       "      <td>618397.979127</td>\n",
       "      <td>0.710958</td>\n",
       "      <td>24.809454</td>\n",
       "      <td>sitting</td>\n",
       "      <td>1.0</td>\n",
       "    </tr>\n",
       "    <tr>\n",
       "      <th>9342</th>\n",
       "      <td>618397.991423</td>\n",
       "      <td>0.595467</td>\n",
       "      <td>24.531050</td>\n",
       "      <td>sitting</td>\n",
       "      <td>1.0</td>\n",
       "    </tr>\n",
       "  </tbody>\n",
       "</table>\n",
       "<p>9343 rows × 5 columns</p>\n",
       "</div>"
      ],
      "text/plain": [
       "          Timestamp  Confidence   Diameter    Event  Blink_marks\n",
       "0     618274.506373    0.899145  22.097637  default          1.0\n",
       "1     618274.516462    0.799786  22.149349  default          1.0\n",
       "2     618274.529712    0.848935  21.738550  default          1.0\n",
       "3     618274.539211    0.785822  21.739740  default          1.0\n",
       "4     618274.551533    0.810524  21.727039  default          1.0\n",
       "...             ...         ...        ...      ...          ...\n",
       "9338  618397.927577    0.701227  24.097033  sitting          1.0\n",
       "9339  618397.940309    0.614431  23.949997  sitting          1.0\n",
       "9340  618397.959018    0.592954  24.216206  sitting          1.0\n",
       "9341  618397.979127    0.710958  24.809454  sitting          1.0\n",
       "9342  618397.991423    0.595467  24.531050  sitting          1.0\n",
       "\n",
       "[9343 rows x 5 columns]"
      ]
     },
     "execution_count": 8,
     "metadata": {},
     "output_type": "execute_result"
    }
   ],
   "source": [
    "## Add this column into the dataframe.\n",
    "df['Blink_marks'] = blink_markers\n",
    "df"
   ]
  },
  {
   "cell_type": "code",
   "execution_count": 9,
   "id": "002cb88f",
   "metadata": {},
   "outputs": [
    {
     "name": "stdout",
     "output_type": "stream",
     "text": [
      "3270\n",
      "3270\n"
     ]
    }
   ],
   "source": [
    "## Remove the blinks.\n",
    "df_no_blinks = df.copy()\n",
    "df_no_blinks['Dia_Deblinked'] = df_no_blinks['Diameter'].copy()\n",
    "df_no_blinks.loc[(df_no_blinks.Blink_marks == 0),'Dia_Deblinked'] = np.nan\n",
    "print(df_no_blinks['Dia_Deblinked'].isna().sum())\n",
    "\n",
    "## Remove data with low confidence.\n",
    "threshold_low_conf = 0.6\n",
    "df_no_low_conf = df_no_blinks.copy()\n",
    "df_no_low_conf.loc[(df_no_low_conf.Blink_marks <= threshold_low_conf),'Dia_Deblinked'] = np.nan\n",
    "print(df_no_low_conf['Dia_Deblinked'].isna().sum())"
   ]
  },
  {
   "cell_type": "code",
   "execution_count": 10,
   "id": "8dcc368b",
   "metadata": {},
   "outputs": [
    {
     "data": {
      "text/plain": [
       "<AxesSubplot:>"
      ]
     },
     "execution_count": 10,
     "metadata": {},
     "output_type": "execute_result"
    },
    {
     "data": {
      "image/png": "[encoded data removed]",
      "text/plain": [
       "<Figure size 432x288 with 1 Axes>"
      ]
     },
     "metadata": {
      "needs_background": "light"
     },
     "output_type": "display_data"
    }
   ],
   "source": [
    "df_de_blinks = df_no_low_conf.copy()\n",
    "df_de_blinks.Dia_Deblinked.plot()"
   ]
  },
  {
   "cell_type": "markdown",
   "id": "c63acc4e",
   "metadata": {},
   "source": [
    "#### Smoothing"
   ]
  },
  {
   "cell_type": "code",
   "execution_count": 11,
   "id": "e80b5626",
   "metadata": {},
   "outputs": [
    {
     "data": {
      "text/plain": [
       "<AxesSubplot:>"
      ]
     },
     "execution_count": 11,
     "metadata": {},
     "output_type": "execute_result"
    },
    {
     "data": {
      "image/png": "[encoded data removed]",
      "text/plain": [
       "<Figure size 432x288 with 1 Axes>"
      ]
     },
     "metadata": {
      "needs_background": "light"
     },
     "output_type": "display_data"
    }
   ],
   "source": [
    "## Smoothing via Moving average or Hanning window.\n",
    "# Hanning window moving average.\n",
    "df_hann = df_de_blinks.copy()\n",
    "df_hann['Dia_Hann'] = df_hann['Dia_Deblinked'].rolling(window=5, center=True, win_type='hann').mean()\n",
    "\n",
    "# Plot.\n",
    "df_hann.Dia_Deblinked.plot()\n",
    "df_hann.Dia_Hann.plot()"
   ]
  },
  {
   "cell_type": "code",
   "execution_count": 12,
   "id": "cf0303fe",
   "metadata": {},
   "outputs": [
    {
     "data": {
      "text/plain": [
       "<AxesSubplot:>"
      ]
     },
     "execution_count": 12,
     "metadata": {},
     "output_type": "execute_result"
    },
    {
     "data": {
      "image/png": "[encoded data removed]",
      "text/plain": [
       "<Figure size 432x288 with 1 Axes>"
      ]
     },
     "metadata": {
      "needs_background": "light"
     },
     "output_type": "display_data"
    }
   ],
   "source": [
    "## Check one data portion.\n",
    "df_hann.Dia_Deblinked.plot(xlim=(2000,3000))\n",
    "df_hann.Dia_Hann.plot()"
   ]
  },
  {
   "cell_type": "markdown",
   "id": "f59c32ab",
   "metadata": {},
   "source": [
    "#### Interpolation"
   ]
  },
  {
   "cell_type": "code",
   "execution_count": 13,
   "id": "8bf7be97",
   "metadata": {},
   "outputs": [],
   "source": [
    "## Interpolation (linear and spline)\n",
    "df_interpolate = df_hann.copy()\n",
    "df_interpolate['Dia_Spline3'] = df_interpolate['Dia_Hann'].interpolate(method='spline',order=3)\n",
    "df_interpolate['Dia_Linear'] = df_interpolate['Dia_Hann'].interpolate(method='linear') # piecewise and linear look almost the same\n",
    "df_interpolate['Dia_Cubic'] = df_interpolate['Dia_Hann'].interpolate(method='cubic')\n",
    "df_interpolate['Dia_PiecewisePoly'] = df_interpolate['Dia_Hann'].interpolate(method='piecewise_polynomial')"
   ]
  },
  {
   "cell_type": "code",
   "execution_count": 14,
   "id": "659a0550",
   "metadata": {},
   "outputs": [
    {
     "data": {
      "text/plain": [
       "<AxesSubplot:>"
      ]
     },
     "execution_count": 14,
     "metadata": {},
     "output_type": "execute_result"
    },
    {
     "data": {
      "image/png": "[encoded data removed]",
      "text/plain": [
       "<Figure size 432x288 with 1 Axes>"
      ]
     },
     "metadata": {
      "needs_background": "light"
     },
     "output_type": "display_data"
    }
   ],
   "source": [
    "# Plot and see the curves.\n",
    "# Initialize boundaries.\n",
    "# xlim_low = 0\n",
    "# xlim_high = 3000\n",
    "# ylim_low = 10\n",
    "# ylim_high = 35\n",
    "\n",
    "# df_interpolate.Dia_Spline3.plot(xlim=(xlim_low,xlim_high),ylim=(ylim_low,ylim_high))\n",
    "df_interpolate.Dia_Spline3.plot() # Feels this interpolation tactic is better.\n",
    "df_interpolate.Dia_Linear.plot()\n",
    "df_interpolate.Dia_Hann.plot()\n",
    "# df_interpolate.Dia_Cubic.plot()\n",
    "# df_interpolate.Dia_PiecewisePoly.plot()  # This seems good as well. Transitions are smooth and natural."
   ]
  },
  {
   "cell_type": "markdown",
   "id": "0f6de0d9",
   "metadata": {},
   "source": [
    "### Artifact rejection"
   ]
  },
  {
   "cell_type": "code",
   "execution_count": 15,
   "id": "19a16254",
   "metadata": {},
   "outputs": [],
   "source": [
    "## This part is directly cited from Sam's work.\n",
    "\n",
    "# Filtering outliers \n",
    "# Lan et al. 2020 - median filter with sliding window of 10s\n",
    "# Testing with numba optimised for-loop implementation of a Hampel Filter\n",
    "# Note to self: I think this filter is also commonly used for pupil diameter filtering\n",
    "\n",
    "@jit(nopython=True)\n",
    "def hampel_filter_forloop_numba(input_series, window_size, n_sigmas=3):\n",
    "    \n",
    "    n = len(input_series)\n",
    "    new_series = input_series.copy()\n",
    "    k = 1.4826 # scale factor for Gaussian distribution\n",
    "    indices = []\n",
    "    \n",
    "    for i in range((window_size),(n - window_size)):\n",
    "        x0 = np.nanmedian(input_series[(i - window_size):(i + window_size)])\n",
    "        S0 = k * np.nanmedian(np.abs(input_series[(i - window_size):(i + window_size)] - x0))\n",
    "        if (np.abs(input_series[i] - x0) > n_sigmas * S0):\n",
    "            new_series[i] = x0\n",
    "            indices.append(i)\n",
    "    \n",
    "    return new_series, indices"
   ]
  },
  {
   "cell_type": "code",
   "execution_count": 16,
   "id": "f6019d9a",
   "metadata": {},
   "outputs": [],
   "source": [
    "df_outlier_reject = df_interpolate.copy()\n",
    "\n",
    "x_SP3, outlier_x_SP3 = hampel_filter_forloop_numba(df_outlier_reject.Dia_Spline3.to_numpy(), 10) #applying hampel filter with win size 10\n",
    "x_L, outlier_x_L = hampel_filter_forloop_numba(df_outlier_reject.Dia_Linear.to_numpy(), 10)\n",
    "df_outlier_reject['Dia_Spline3_Ham'] = x_SP3.tolist()\n",
    "df_outlier_reject['Dia_Linear_Ham'] = x_L.tolist()"
   ]
  },
  {
   "cell_type": "code",
   "execution_count": 17,
   "id": "0faad156",
   "metadata": {},
   "outputs": [
    {
     "data": {
      "text/plain": [
       "<AxesSubplot:>"
      ]
     },
     "execution_count": 17,
     "metadata": {},
     "output_type": "execute_result"
    },
    {
     "data": {
      "image/png": "[encoded data removed]",
      "text/plain": [
       "<Figure size 432x288 with 1 Axes>"
      ]
     },
     "metadata": {
      "needs_background": "light"
     },
     "output_type": "display_data"
    }
   ],
   "source": [
    "# Test spline curve.\n",
    "df_outlier_reject.Dia_Spline3.plot()\n",
    "df_outlier_reject.Dia_Spline3_Ham.plot()"
   ]
  },
  {
   "cell_type": "code",
   "execution_count": 18,
   "id": "bbcc9894",
   "metadata": {},
   "outputs": [
    {
     "data": {
      "text/plain": [
       "<AxesSubplot:>"
      ]
     },
     "execution_count": 18,
     "metadata": {},
     "output_type": "execute_result"
    },
    {
     "data": {
      "image/png": "[encoded data removed]",
      "text/plain": [
       "<Figure size 432x288 with 1 Axes>"
      ]
     },
     "metadata": {
      "needs_background": "light"
     },
     "output_type": "display_data"
    }
   ],
   "source": [
    "# Test linear curve.\n",
    "df_outlier_reject.Dia_Linear.plot()\n",
    "df_outlier_reject.Dia_Linear_Ham.plot()"
   ]
  },
  {
   "cell_type": "markdown",
   "id": "32aa0fc5",
   "metadata": {},
   "source": [
    "### Baseline correction (subtractive)"
   ]
  },
  {
   "cell_type": "code",
   "execution_count": 19,
   "id": "0b4b2a8f",
   "metadata": {},
   "outputs": [
    {
     "data": {
      "text/html": [
       "<div>\n",
       "<style scoped>\n",
       "    .dataframe tbody tr th:only-of-type {\n",
       "        vertical-align: middle;\n",
       "    }\n",
       "\n",
       "    .dataframe tbody tr th {\n",
       "        vertical-align: top;\n",
       "    }\n",
       "\n",
       "    .dataframe thead th {\n",
       "        text-align: right;\n",
       "    }\n",
       "</style>\n",
       "<table border=\"1\" class=\"dataframe\">\n",
       "  <thead>\n",
       "    <tr style=\"text-align: right;\">\n",
       "      <th></th>\n",
       "      <th>Timestamp</th>\n",
       "      <th>Confidence</th>\n",
       "      <th>Diameter</th>\n",
       "      <th>Event</th>\n",
       "      <th>Blink_marks</th>\n",
       "      <th>Dia_Deblinked</th>\n",
       "      <th>Dia_Hann</th>\n",
       "      <th>Dia_Spline3</th>\n",
       "      <th>Dia_Linear</th>\n",
       "      <th>Dia_Cubic</th>\n",
       "      <th>Dia_PiecewisePoly</th>\n",
       "      <th>Dia_Spline3_Ham</th>\n",
       "      <th>Dia_Linear_Ham</th>\n",
       "    </tr>\n",
       "  </thead>\n",
       "  <tbody>\n",
       "    <tr>\n",
       "      <th>0</th>\n",
       "      <td>618274.506373</td>\n",
       "      <td>0.899145</td>\n",
       "      <td>22.097637</td>\n",
       "      <td>default</td>\n",
       "      <td>1.0</td>\n",
       "      <td>22.097637</td>\n",
       "      <td>NaN</td>\n",
       "      <td>NaN</td>\n",
       "      <td>NaN</td>\n",
       "      <td>NaN</td>\n",
       "      <td>NaN</td>\n",
       "      <td>NaN</td>\n",
       "      <td>NaN</td>\n",
       "    </tr>\n",
       "    <tr>\n",
       "      <th>1</th>\n",
       "      <td>618274.516462</td>\n",
       "      <td>0.799786</td>\n",
       "      <td>22.149349</td>\n",
       "      <td>default</td>\n",
       "      <td>1.0</td>\n",
       "      <td>22.149349</td>\n",
       "      <td>NaN</td>\n",
       "      <td>NaN</td>\n",
       "      <td>NaN</td>\n",
       "      <td>NaN</td>\n",
       "      <td>NaN</td>\n",
       "      <td>NaN</td>\n",
       "      <td>NaN</td>\n",
       "    </tr>\n",
       "    <tr>\n",
       "      <th>2</th>\n",
       "      <td>618274.529712</td>\n",
       "      <td>0.848935</td>\n",
       "      <td>21.738550</td>\n",
       "      <td>default</td>\n",
       "      <td>1.0</td>\n",
       "      <td>21.738550</td>\n",
       "      <td>21.841547</td>\n",
       "      <td>21.841547</td>\n",
       "      <td>21.841547</td>\n",
       "      <td>21.841547</td>\n",
       "      <td>21.841547</td>\n",
       "      <td>21.841547</td>\n",
       "      <td>21.841547</td>\n",
       "    </tr>\n",
       "    <tr>\n",
       "      <th>3</th>\n",
       "      <td>618274.539211</td>\n",
       "      <td>0.785822</td>\n",
       "      <td>21.739740</td>\n",
       "      <td>default</td>\n",
       "      <td>1.0</td>\n",
       "      <td>21.739740</td>\n",
       "      <td>21.736268</td>\n",
       "      <td>21.736268</td>\n",
       "      <td>21.736268</td>\n",
       "      <td>21.736268</td>\n",
       "      <td>21.736268</td>\n",
       "      <td>21.736268</td>\n",
       "      <td>21.736268</td>\n",
       "    </tr>\n",
       "    <tr>\n",
       "      <th>4</th>\n",
       "      <td>618274.551533</td>\n",
       "      <td>0.810524</td>\n",
       "      <td>21.727039</td>\n",
       "      <td>default</td>\n",
       "      <td>1.0</td>\n",
       "      <td>21.727039</td>\n",
       "      <td>21.818830</td>\n",
       "      <td>21.818830</td>\n",
       "      <td>21.818830</td>\n",
       "      <td>21.818830</td>\n",
       "      <td>21.818830</td>\n",
       "      <td>21.818830</td>\n",
       "      <td>21.818830</td>\n",
       "    </tr>\n",
       "    <tr>\n",
       "      <th>...</th>\n",
       "      <td>...</td>\n",
       "      <td>...</td>\n",
       "      <td>...</td>\n",
       "      <td>...</td>\n",
       "      <td>...</td>\n",
       "      <td>...</td>\n",
       "      <td>...</td>\n",
       "      <td>...</td>\n",
       "      <td>...</td>\n",
       "      <td>...</td>\n",
       "      <td>...</td>\n",
       "      <td>...</td>\n",
       "      <td>...</td>\n",
       "    </tr>\n",
       "    <tr>\n",
       "      <th>786</th>\n",
       "      <td>618285.254263</td>\n",
       "      <td>0.609599</td>\n",
       "      <td>21.896591</td>\n",
       "      <td>default</td>\n",
       "      <td>1.0</td>\n",
       "      <td>21.896591</td>\n",
       "      <td>21.917292</td>\n",
       "      <td>21.917292</td>\n",
       "      <td>21.917292</td>\n",
       "      <td>21.917292</td>\n",
       "      <td>21.917292</td>\n",
       "      <td>21.917292</td>\n",
       "      <td>21.917292</td>\n",
       "    </tr>\n",
       "    <tr>\n",
       "      <th>787</th>\n",
       "      <td>618285.269441</td>\n",
       "      <td>0.684874</td>\n",
       "      <td>21.906967</td>\n",
       "      <td>default</td>\n",
       "      <td>1.0</td>\n",
       "      <td>21.906967</td>\n",
       "      <td>21.796629</td>\n",
       "      <td>21.796629</td>\n",
       "      <td>21.796629</td>\n",
       "      <td>21.796629</td>\n",
       "      <td>21.796629</td>\n",
       "      <td>21.796629</td>\n",
       "      <td>21.796629</td>\n",
       "    </tr>\n",
       "    <tr>\n",
       "      <th>788</th>\n",
       "      <td>618285.281806</td>\n",
       "      <td>0.739846</td>\n",
       "      <td>21.475990</td>\n",
       "      <td>default</td>\n",
       "      <td>1.0</td>\n",
       "      <td>21.475990</td>\n",
       "      <td>21.490786</td>\n",
       "      <td>21.490786</td>\n",
       "      <td>21.490786</td>\n",
       "      <td>21.490786</td>\n",
       "      <td>21.490786</td>\n",
       "      <td>21.490786</td>\n",
       "      <td>21.490786</td>\n",
       "    </tr>\n",
       "    <tr>\n",
       "      <th>789</th>\n",
       "      <td>618285.294162</td>\n",
       "      <td>0.712612</td>\n",
       "      <td>21.104195</td>\n",
       "      <td>default</td>\n",
       "      <td>1.0</td>\n",
       "      <td>21.104195</td>\n",
       "      <td>21.198407</td>\n",
       "      <td>21.198407</td>\n",
       "      <td>21.198407</td>\n",
       "      <td>21.198407</td>\n",
       "      <td>21.198407</td>\n",
       "      <td>21.198407</td>\n",
       "      <td>21.198407</td>\n",
       "    </tr>\n",
       "    <tr>\n",
       "      <th>790</th>\n",
       "      <td>618285.304195</td>\n",
       "      <td>0.727927</td>\n",
       "      <td>21.109247</td>\n",
       "      <td>default</td>\n",
       "      <td>1.0</td>\n",
       "      <td>21.109247</td>\n",
       "      <td>21.266102</td>\n",
       "      <td>21.266102</td>\n",
       "      <td>21.266102</td>\n",
       "      <td>21.266102</td>\n",
       "      <td>21.266102</td>\n",
       "      <td>21.266102</td>\n",
       "      <td>21.266102</td>\n",
       "    </tr>\n",
       "  </tbody>\n",
       "</table>\n",
       "<p>791 rows × 13 columns</p>\n",
       "</div>"
      ],
      "text/plain": [
       "         Timestamp  Confidence   Diameter    Event  Blink_marks  \\\n",
       "0    618274.506373    0.899145  22.097637  default          1.0   \n",
       "1    618274.516462    0.799786  22.149349  default          1.0   \n",
       "2    618274.529712    0.848935  21.738550  default          1.0   \n",
       "3    618274.539211    0.785822  21.739740  default          1.0   \n",
       "4    618274.551533    0.810524  21.727039  default          1.0   \n",
       "..             ...         ...        ...      ...          ...   \n",
       "786  618285.254263    0.609599  21.896591  default          1.0   \n",
       "787  618285.269441    0.684874  21.906967  default          1.0   \n",
       "788  618285.281806    0.739846  21.475990  default          1.0   \n",
       "789  618285.294162    0.712612  21.104195  default          1.0   \n",
       "790  618285.304195    0.727927  21.109247  default          1.0   \n",
       "\n",
       "     Dia_Deblinked   Dia_Hann  Dia_Spline3  Dia_Linear  Dia_Cubic  \\\n",
       "0        22.097637        NaN          NaN         NaN        NaN   \n",
       "1        22.149349        NaN          NaN         NaN        NaN   \n",
       "2        21.738550  21.841547    21.841547   21.841547  21.841547   \n",
       "3        21.739740  21.736268    21.736268   21.736268  21.736268   \n",
       "4        21.727039  21.818830    21.818830   21.818830  21.818830   \n",
       "..             ...        ...          ...         ...        ...   \n",
       "786      21.896591  21.917292    21.917292   21.917292  21.917292   \n",
       "787      21.906967  21.796629    21.796629   21.796629  21.796629   \n",
       "788      21.475990  21.490786    21.490786   21.490786  21.490786   \n",
       "789      21.104195  21.198407    21.198407   21.198407  21.198407   \n",
       "790      21.109247  21.266102    21.266102   21.266102  21.266102   \n",
       "\n",
       "     Dia_PiecewisePoly  Dia_Spline3_Ham  Dia_Linear_Ham  \n",
       "0                  NaN              NaN             NaN  \n",
       "1                  NaN              NaN             NaN  \n",
       "2            21.841547        21.841547       21.841547  \n",
       "3            21.736268        21.736268       21.736268  \n",
       "4            21.818830        21.818830       21.818830  \n",
       "..                 ...              ...             ...  \n",
       "786          21.917292        21.917292       21.917292  \n",
       "787          21.796629        21.796629       21.796629  \n",
       "788          21.490786        21.490786       21.490786  \n",
       "789          21.198407        21.198407       21.198407  \n",
       "790          21.266102        21.266102       21.266102  \n",
       "\n",
       "[791 rows x 13 columns]"
      ]
     },
     "execution_count": 19,
     "metadata": {},
     "output_type": "execute_result"
    }
   ],
   "source": [
    "df_baseline_corr = df_outlier_reject.copy()\n",
    "df_baseline = df_baseline_corr[(df_outlier_reject.Event == 'default')]\n",
    "df_baseline"
   ]
  },
  {
   "cell_type": "code",
   "execution_count": 20,
   "id": "549428e2",
   "metadata": {},
   "outputs": [
    {
     "data": {
      "text/html": [
       "<div>\n",
       "<style scoped>\n",
       "    .dataframe tbody tr th:only-of-type {\n",
       "        vertical-align: middle;\n",
       "    }\n",
       "\n",
       "    .dataframe tbody tr th {\n",
       "        vertical-align: top;\n",
       "    }\n",
       "\n",
       "    .dataframe thead th {\n",
       "        text-align: right;\n",
       "    }\n",
       "</style>\n",
       "<table border=\"1\" class=\"dataframe\">\n",
       "  <thead>\n",
       "    <tr style=\"text-align: right;\">\n",
       "      <th></th>\n",
       "      <th>Timestamp</th>\n",
       "      <th>Confidence</th>\n",
       "      <th>Diameter</th>\n",
       "      <th>Event</th>\n",
       "      <th>Blink_marks</th>\n",
       "      <th>Dia_Deblinked</th>\n",
       "      <th>Dia_Hann</th>\n",
       "      <th>Dia_Spline3</th>\n",
       "      <th>Dia_Linear</th>\n",
       "      <th>Dia_Cubic</th>\n",
       "      <th>Dia_PiecewisePoly</th>\n",
       "      <th>Dia_Spline3_Ham</th>\n",
       "      <th>Dia_Linear_Ham</th>\n",
       "      <th>Dia_Spline3_Base</th>\n",
       "    </tr>\n",
       "  </thead>\n",
       "  <tbody>\n",
       "    <tr>\n",
       "      <th>0</th>\n",
       "      <td>618274.506373</td>\n",
       "      <td>0.899145</td>\n",
       "      <td>22.097637</td>\n",
       "      <td>default</td>\n",
       "      <td>1.0</td>\n",
       "      <td>22.097637</td>\n",
       "      <td>NaN</td>\n",
       "      <td>NaN</td>\n",
       "      <td>NaN</td>\n",
       "      <td>NaN</td>\n",
       "      <td>NaN</td>\n",
       "      <td>NaN</td>\n",
       "      <td>NaN</td>\n",
       "      <td>NaN</td>\n",
       "    </tr>\n",
       "    <tr>\n",
       "      <th>1</th>\n",
       "      <td>618274.516462</td>\n",
       "      <td>0.799786</td>\n",
       "      <td>22.149349</td>\n",
       "      <td>default</td>\n",
       "      <td>1.0</td>\n",
       "      <td>22.149349</td>\n",
       "      <td>NaN</td>\n",
       "      <td>NaN</td>\n",
       "      <td>NaN</td>\n",
       "      <td>NaN</td>\n",
       "      <td>NaN</td>\n",
       "      <td>NaN</td>\n",
       "      <td>NaN</td>\n",
       "      <td>NaN</td>\n",
       "    </tr>\n",
       "    <tr>\n",
       "      <th>2</th>\n",
       "      <td>618274.529712</td>\n",
       "      <td>0.848935</td>\n",
       "      <td>21.738550</td>\n",
       "      <td>default</td>\n",
       "      <td>1.0</td>\n",
       "      <td>21.738550</td>\n",
       "      <td>21.841547</td>\n",
       "      <td>21.841547</td>\n",
       "      <td>21.841547</td>\n",
       "      <td>21.841547</td>\n",
       "      <td>21.841547</td>\n",
       "      <td>21.841547</td>\n",
       "      <td>21.841547</td>\n",
       "      <td>-1.919369</td>\n",
       "    </tr>\n",
       "    <tr>\n",
       "      <th>3</th>\n",
       "      <td>618274.539211</td>\n",
       "      <td>0.785822</td>\n",
       "      <td>21.739740</td>\n",
       "      <td>default</td>\n",
       "      <td>1.0</td>\n",
       "      <td>21.739740</td>\n",
       "      <td>21.736268</td>\n",
       "      <td>21.736268</td>\n",
       "      <td>21.736268</td>\n",
       "      <td>21.736268</td>\n",
       "      <td>21.736268</td>\n",
       "      <td>21.736268</td>\n",
       "      <td>21.736268</td>\n",
       "      <td>-2.024649</td>\n",
       "    </tr>\n",
       "    <tr>\n",
       "      <th>4</th>\n",
       "      <td>618274.551533</td>\n",
       "      <td>0.810524</td>\n",
       "      <td>21.727039</td>\n",
       "      <td>default</td>\n",
       "      <td>1.0</td>\n",
       "      <td>21.727039</td>\n",
       "      <td>21.818830</td>\n",
       "      <td>21.818830</td>\n",
       "      <td>21.818830</td>\n",
       "      <td>21.818830</td>\n",
       "      <td>21.818830</td>\n",
       "      <td>21.818830</td>\n",
       "      <td>21.818830</td>\n",
       "      <td>-1.942087</td>\n",
       "    </tr>\n",
       "    <tr>\n",
       "      <th>...</th>\n",
       "      <td>...</td>\n",
       "      <td>...</td>\n",
       "      <td>...</td>\n",
       "      <td>...</td>\n",
       "      <td>...</td>\n",
       "      <td>...</td>\n",
       "      <td>...</td>\n",
       "      <td>...</td>\n",
       "      <td>...</td>\n",
       "      <td>...</td>\n",
       "      <td>...</td>\n",
       "      <td>...</td>\n",
       "      <td>...</td>\n",
       "      <td>...</td>\n",
       "    </tr>\n",
       "    <tr>\n",
       "      <th>9338</th>\n",
       "      <td>618397.927577</td>\n",
       "      <td>0.701227</td>\n",
       "      <td>24.097033</td>\n",
       "      <td>sitting</td>\n",
       "      <td>1.0</td>\n",
       "      <td>24.097033</td>\n",
       "      <td>18.036016</td>\n",
       "      <td>18.036016</td>\n",
       "      <td>18.036016</td>\n",
       "      <td>18.036016</td>\n",
       "      <td>18.036016</td>\n",
       "      <td>18.036016</td>\n",
       "      <td>18.036016</td>\n",
       "      <td>-5.724901</td>\n",
       "    </tr>\n",
       "    <tr>\n",
       "      <th>9339</th>\n",
       "      <td>618397.940309</td>\n",
       "      <td>0.614431</td>\n",
       "      <td>23.949997</td>\n",
       "      <td>sitting</td>\n",
       "      <td>1.0</td>\n",
       "      <td>23.949997</td>\n",
       "      <td>24.053308</td>\n",
       "      <td>24.053308</td>\n",
       "      <td>24.053308</td>\n",
       "      <td>24.053308</td>\n",
       "      <td>24.053308</td>\n",
       "      <td>24.053308</td>\n",
       "      <td>24.053308</td>\n",
       "      <td>0.292392</td>\n",
       "    </tr>\n",
       "    <tr>\n",
       "      <th>9340</th>\n",
       "      <td>618397.959018</td>\n",
       "      <td>0.592954</td>\n",
       "      <td>24.216206</td>\n",
       "      <td>sitting</td>\n",
       "      <td>1.0</td>\n",
       "      <td>24.216206</td>\n",
       "      <td>24.297966</td>\n",
       "      <td>24.297966</td>\n",
       "      <td>24.297966</td>\n",
       "      <td>24.297966</td>\n",
       "      <td>24.297966</td>\n",
       "      <td>24.297966</td>\n",
       "      <td>24.297966</td>\n",
       "      <td>0.537049</td>\n",
       "    </tr>\n",
       "    <tr>\n",
       "      <th>9341</th>\n",
       "      <td>618397.979127</td>\n",
       "      <td>0.710958</td>\n",
       "      <td>24.809454</td>\n",
       "      <td>sitting</td>\n",
       "      <td>1.0</td>\n",
       "      <td>24.809454</td>\n",
       "      <td>NaN</td>\n",
       "      <td>32.807388</td>\n",
       "      <td>24.297966</td>\n",
       "      <td>NaN</td>\n",
       "      <td>NaN</td>\n",
       "      <td>32.807388</td>\n",
       "      <td>24.297966</td>\n",
       "      <td>9.046472</td>\n",
       "    </tr>\n",
       "    <tr>\n",
       "      <th>9342</th>\n",
       "      <td>618397.991423</td>\n",
       "      <td>0.595467</td>\n",
       "      <td>24.531050</td>\n",
       "      <td>sitting</td>\n",
       "      <td>1.0</td>\n",
       "      <td>24.531050</td>\n",
       "      <td>NaN</td>\n",
       "      <td>40.873902</td>\n",
       "      <td>24.297966</td>\n",
       "      <td>NaN</td>\n",
       "      <td>NaN</td>\n",
       "      <td>40.873902</td>\n",
       "      <td>24.297966</td>\n",
       "      <td>17.112985</td>\n",
       "    </tr>\n",
       "  </tbody>\n",
       "</table>\n",
       "<p>9343 rows × 14 columns</p>\n",
       "</div>"
      ],
      "text/plain": [
       "          Timestamp  Confidence   Diameter    Event  Blink_marks  \\\n",
       "0     618274.506373    0.899145  22.097637  default          1.0   \n",
       "1     618274.516462    0.799786  22.149349  default          1.0   \n",
       "2     618274.529712    0.848935  21.738550  default          1.0   \n",
       "3     618274.539211    0.785822  21.739740  default          1.0   \n",
       "4     618274.551533    0.810524  21.727039  default          1.0   \n",
       "...             ...         ...        ...      ...          ...   \n",
       "9338  618397.927577    0.701227  24.097033  sitting          1.0   \n",
       "9339  618397.940309    0.614431  23.949997  sitting          1.0   \n",
       "9340  618397.959018    0.592954  24.216206  sitting          1.0   \n",
       "9341  618397.979127    0.710958  24.809454  sitting          1.0   \n",
       "9342  618397.991423    0.595467  24.531050  sitting          1.0   \n",
       "\n",
       "      Dia_Deblinked   Dia_Hann  Dia_Spline3  Dia_Linear  Dia_Cubic  \\\n",
       "0         22.097637        NaN          NaN         NaN        NaN   \n",
       "1         22.149349        NaN          NaN         NaN        NaN   \n",
       "2         21.738550  21.841547    21.841547   21.841547  21.841547   \n",
       "3         21.739740  21.736268    21.736268   21.736268  21.736268   \n",
       "4         21.727039  21.818830    21.818830   21.818830  21.818830   \n",
       "...             ...        ...          ...         ...        ...   \n",
       "9338      24.097033  18.036016    18.036016   18.036016  18.036016   \n",
       "9339      23.949997  24.053308    24.053308   24.053308  24.053308   \n",
       "9340      24.216206  24.297966    24.297966   24.297966  24.297966   \n",
       "9341      24.809454        NaN    32.807388   24.297966        NaN   \n",
       "9342      24.531050        NaN    40.873902   24.297966        NaN   \n",
       "\n",
       "      Dia_PiecewisePoly  Dia_Spline3_Ham  Dia_Linear_Ham  Dia_Spline3_Base  \n",
       "0                   NaN              NaN             NaN               NaN  \n",
       "1                   NaN              NaN             NaN               NaN  \n",
       "2             21.841547        21.841547       21.841547         -1.919369  \n",
       "3             21.736268        21.736268       21.736268         -2.024649  \n",
       "4             21.818830        21.818830       21.818830         -1.942087  \n",
       "...                 ...              ...             ...               ...  \n",
       "9338          18.036016        18.036016       18.036016         -5.724901  \n",
       "9339          24.053308        24.053308       24.053308          0.292392  \n",
       "9340          24.297966        24.297966       24.297966          0.537049  \n",
       "9341                NaN        32.807388       24.297966          9.046472  \n",
       "9342                NaN        40.873902       24.297966         17.112985  \n",
       "\n",
       "[9343 rows x 14 columns]"
      ]
     },
     "execution_count": 20,
     "metadata": {},
     "output_type": "execute_result"
    }
   ],
   "source": [
    "base_median = df_baseline.Dia_Spline3_Ham.median()\n",
    "df_baseline_corr['Dia_Spline3_Base'] = df_baseline_corr['Dia_Spline3_Ham'] - base_median\n",
    "# df_baseline_corr['Dia_Spline3_Base'] = df_baseline_corr['Dia_Spline3_Ham'] / base_median\n",
    "df_baseline_corr"
   ]
  },
  {
   "cell_type": "code",
   "execution_count": 21,
   "id": "a4c39add",
   "metadata": {},
   "outputs": [
    {
     "data": {
      "text/plain": [
       "<AxesSubplot:>"
      ]
     },
     "execution_count": 21,
     "metadata": {},
     "output_type": "execute_result"
    },
    {
     "data": {
      "image/png": "[encoded data removed]",
      "text/plain": [
       "<Figure size 432x288 with 1 Axes>"
      ]
     },
     "metadata": {
      "needs_background": "light"
     },
     "output_type": "display_data"
    }
   ],
   "source": [
    "# Test with plots.\n",
    "df_baseline_corr.Dia_Spline3_Ham.plot()\n",
    "df_baseline_corr.Dia_Spline3_Base.plot()"
   ]
  },
  {
   "cell_type": "code",
   "execution_count": 22,
   "id": "694a4742",
   "metadata": {},
   "outputs": [],
   "source": [
    "# Split data according to different events. Return one-d arrays that could be directly processed later.\n",
    "diameter_default = df_baseline_corr[(df_baseline_corr.Event == 'default')].Dia_Spline3_Base\n",
    "diameter_sitting = df_baseline_corr[(df_baseline_corr.Event == 'sitting')].Dia_Spline3_Base\n",
    "diameter_reading_sitting = df_baseline_corr[(df_baseline_corr.Event == 'reading-sitting')].Dia_Spline3_Base"
   ]
  },
  {
   "cell_type": "markdown",
   "id": "9ff86356",
   "metadata": {},
   "source": [
    "### Export data to csv for processing"
   ]
  },
  {
   "cell_type": "code",
   "execution_count": 23,
   "id": "692b05cc",
   "metadata": {},
   "outputs": [
    {
     "data": {
      "text/html": [
       "<div>\n",
       "<style scoped>\n",
       "    .dataframe tbody tr th:only-of-type {\n",
       "        vertical-align: middle;\n",
       "    }\n",
       "\n",
       "    .dataframe tbody tr th {\n",
       "        vertical-align: top;\n",
       "    }\n",
       "\n",
       "    .dataframe thead th {\n",
       "        text-align: right;\n",
       "    }\n",
       "</style>\n",
       "<table border=\"1\" class=\"dataframe\">\n",
       "  <thead>\n",
       "    <tr style=\"text-align: right;\">\n",
       "      <th></th>\n",
       "      <th>Dia_Spline3_Base</th>\n",
       "      <th>Event</th>\n",
       "    </tr>\n",
       "  </thead>\n",
       "  <tbody>\n",
       "    <tr>\n",
       "      <th>2</th>\n",
       "      <td>-1.919369</td>\n",
       "      <td>default</td>\n",
       "    </tr>\n",
       "    <tr>\n",
       "      <th>3</th>\n",
       "      <td>-2.024649</td>\n",
       "      <td>default</td>\n",
       "    </tr>\n",
       "    <tr>\n",
       "      <th>4</th>\n",
       "      <td>-1.942087</td>\n",
       "      <td>default</td>\n",
       "    </tr>\n",
       "    <tr>\n",
       "      <th>5</th>\n",
       "      <td>-1.793602</td>\n",
       "      <td>default</td>\n",
       "    </tr>\n",
       "    <tr>\n",
       "      <th>6</th>\n",
       "      <td>-1.671847</td>\n",
       "      <td>default</td>\n",
       "    </tr>\n",
       "    <tr>\n",
       "      <th>...</th>\n",
       "      <td>...</td>\n",
       "      <td>...</td>\n",
       "    </tr>\n",
       "    <tr>\n",
       "      <th>9338</th>\n",
       "      <td>-5.724901</td>\n",
       "      <td>sitting</td>\n",
       "    </tr>\n",
       "    <tr>\n",
       "      <th>9339</th>\n",
       "      <td>0.292392</td>\n",
       "      <td>sitting</td>\n",
       "    </tr>\n",
       "    <tr>\n",
       "      <th>9340</th>\n",
       "      <td>0.537049</td>\n",
       "      <td>sitting</td>\n",
       "    </tr>\n",
       "    <tr>\n",
       "      <th>9341</th>\n",
       "      <td>9.046472</td>\n",
       "      <td>sitting</td>\n",
       "    </tr>\n",
       "    <tr>\n",
       "      <th>9342</th>\n",
       "      <td>17.112985</td>\n",
       "      <td>sitting</td>\n",
       "    </tr>\n",
       "  </tbody>\n",
       "</table>\n",
       "<p>9341 rows × 2 columns</p>\n",
       "</div>"
      ],
      "text/plain": [
       "      Dia_Spline3_Base    Event\n",
       "2            -1.919369  default\n",
       "3            -2.024649  default\n",
       "4            -1.942087  default\n",
       "5            -1.793602  default\n",
       "6            -1.671847  default\n",
       "...                ...      ...\n",
       "9338         -5.724901  sitting\n",
       "9339          0.292392  sitting\n",
       "9340          0.537049  sitting\n",
       "9341          9.046472  sitting\n",
       "9342         17.112985  sitting\n",
       "\n",
       "[9341 rows x 2 columns]"
      ]
     },
     "execution_count": 23,
     "metadata": {},
     "output_type": "execute_result"
    }
   ],
   "source": [
    "df_export = df_baseline_corr[['Dia_Spline3_Base', 'Event']].copy()\n",
    "# Get rid of the nan values.\n",
    "df_export = df_export.dropna()\n",
    "df_export"
   ]
  },
  {
   "cell_type": "code",
   "execution_count": 24,
   "id": "d6f41d28",
   "metadata": {},
   "outputs": [],
   "source": [
    "# Export data.\n",
    "file_name = read_file_path.split('/')[-2:]\n",
    "write_file_path = '../Data/PreprocessedData/' + file_name[0] + '/' + file_name[1]\n",
    "df_export.to_csv(write_file_path)"
   ]
  },
  {
   "cell_type": "code",
   "execution_count": 25,
   "id": "fc5774ce",
   "metadata": {},
   "outputs": [
    {
     "name": "stdout",
     "output_type": "stream",
     "text": [
      "Stored 'write_file_path' (str)\n",
      "Stored 'SAMPLING_RATE' (int)\n"
     ]
    }
   ],
   "source": [
    "# Store the file name to be used in computing file.\n",
    "%store write_file_path\n",
    "\n",
    "# Store the sampling rate to be used in the computing file.\n",
    "%store SAMPLING_RATE"
   ]
  }
 ],
 "metadata": {
  "kernelspec": {
   "display_name": "Python 3 (ipykernel)",
   "language": "python",
   "name": "python3"
  },
  "language_info": {
   "codemirror_mode": {
    "name": "ipython",
    "version": 3
   },
   "file_extension": ".py",
   "mimetype": "text/x-python",
   "name": "python",
   "nbconvert_exporter": "python",
   "pygments_lexer": "ipython3",
   "version": "3.9.12"
  }
 },
 "nbformat": 4,
 "nbformat_minor": 5
}
