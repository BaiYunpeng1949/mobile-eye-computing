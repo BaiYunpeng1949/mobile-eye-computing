{
 "cells": [
  {
   "cell_type": "markdown",
   "id": "7529b3a1",
   "metadata": {},
   "source": [
    "## Preprocessed Pupil Data IPA Computing"
   ]
  },
  {
   "cell_type": "markdown",
   "id": "79ac2def",
   "metadata": {},
   "source": [
    "### Reference"
   ]
  },
  {
   "cell_type": "markdown",
   "id": "f56b4f28",
   "metadata": {},
   "source": [
    "Mayjor Referenced papaers:\n",
    "1. The Index of Pupillary Activity: Measuring Cognitive Load vis-à-vis Task Difficulty with Pupil Oscillation,https://dl.acm.org/doi/pdf/10.1145/3173574.3173856.\n",
    "2. The Low/High Index of Pupillary Activity,https://dl.acm.org/doi/pdf/10.1145/3313831.3376394.\n",
    "3. ComputationalMR. https://github.com/eth-ait/ComputationalMR."
   ]
  },
  {
   "cell_type": "code",
   "execution_count": 2,
   "id": "d8447b44",
   "metadata": {},
   "outputs": [],
   "source": [
    "import pandas as pd\n",
    "from matplotlib import pyplot as plt\n",
    "import numpy as np\n",
    "from numba import jit\n",
    "import math"
   ]
  },
  {
   "cell_type": "markdown",
   "id": "94687d05",
   "metadata": {},
   "source": [
    "### Read preprocessed data"
   ]
  },
  {
   "cell_type": "code",
   "execution_count": 3,
   "id": "00177fbc",
   "metadata": {},
   "outputs": [],
   "source": [
    "read_file_path = '../Data/PreprocessedData/19-08-10-09/left2D_113Hz.csv'\n",
    "data = pd.read_csv(read_file_path)"
   ]
  },
  {
   "cell_type": "code",
   "execution_count": 4,
   "id": "00a34ee4",
   "metadata": {},
   "outputs": [
    {
     "data": {
      "text/html": [
       "<div>\n",
       "<style scoped>\n",
       "    .dataframe tbody tr th:only-of-type {\n",
       "        vertical-align: middle;\n",
       "    }\n",
       "\n",
       "    .dataframe tbody tr th {\n",
       "        vertical-align: top;\n",
       "    }\n",
       "\n",
       "    .dataframe thead th {\n",
       "        text-align: right;\n",
       "    }\n",
       "</style>\n",
       "<table border=\"1\" class=\"dataframe\">\n",
       "  <thead>\n",
       "    <tr style=\"text-align: right;\">\n",
       "      <th></th>\n",
       "      <th>Dia_Spline3_Base</th>\n",
       "      <th>Event</th>\n",
       "    </tr>\n",
       "  </thead>\n",
       "  <tbody>\n",
       "    <tr>\n",
       "      <th>0</th>\n",
       "      <td>-1.290053</td>\n",
       "      <td>default</td>\n",
       "    </tr>\n",
       "    <tr>\n",
       "      <th>1</th>\n",
       "      <td>-1.224629</td>\n",
       "      <td>default</td>\n",
       "    </tr>\n",
       "    <tr>\n",
       "      <th>2</th>\n",
       "      <td>-1.066550</td>\n",
       "      <td>default</td>\n",
       "    </tr>\n",
       "    <tr>\n",
       "      <th>3</th>\n",
       "      <td>-1.097081</td>\n",
       "      <td>default</td>\n",
       "    </tr>\n",
       "    <tr>\n",
       "      <th>4</th>\n",
       "      <td>-1.196157</td>\n",
       "      <td>default</td>\n",
       "    </tr>\n",
       "    <tr>\n",
       "      <th>...</th>\n",
       "      <td>...</td>\n",
       "      <td>...</td>\n",
       "    </tr>\n",
       "    <tr>\n",
       "      <th>3112</th>\n",
       "      <td>-2.040259</td>\n",
       "      <td>reading-sitting</td>\n",
       "    </tr>\n",
       "    <tr>\n",
       "      <th>3113</th>\n",
       "      <td>-1.836286</td>\n",
       "      <td>reading-sitting</td>\n",
       "    </tr>\n",
       "    <tr>\n",
       "      <th>3114</th>\n",
       "      <td>-1.520160</td>\n",
       "      <td>reading-sitting</td>\n",
       "    </tr>\n",
       "    <tr>\n",
       "      <th>3115</th>\n",
       "      <td>-3.280662</td>\n",
       "      <td>reading-sitting</td>\n",
       "    </tr>\n",
       "    <tr>\n",
       "      <th>3116</th>\n",
       "      <td>-3.759032</td>\n",
       "      <td>reading-sitting</td>\n",
       "    </tr>\n",
       "  </tbody>\n",
       "</table>\n",
       "<p>3117 rows × 2 columns</p>\n",
       "</div>"
      ],
      "text/plain": [
       "      Dia_Spline3_Base            Event\n",
       "0            -1.290053          default\n",
       "1            -1.224629          default\n",
       "2            -1.066550          default\n",
       "3            -1.097081          default\n",
       "4            -1.196157          default\n",
       "...                ...              ...\n",
       "3112         -2.040259  reading-sitting\n",
       "3113         -1.836286  reading-sitting\n",
       "3114         -1.520160  reading-sitting\n",
       "3115         -3.280662  reading-sitting\n",
       "3116         -3.759032  reading-sitting\n",
       "\n",
       "[3117 rows x 2 columns]"
      ]
     },
     "execution_count": 4,
     "metadata": {},
     "output_type": "execute_result"
    }
   ],
   "source": [
    "df = data[['Dia_Spline3_Base', 'Event']].copy()\n",
    "df"
   ]
  },
  {
   "cell_type": "code",
   "execution_count": null,
   "id": "a0594fa8",
   "metadata": {},
   "outputs": [],
   "source": []
  }
 ],
 "metadata": {
  "kernelspec": {
   "display_name": "Python 3 (ipykernel)",
   "language": "python",
   "name": "python3"
  },
  "language_info": {
   "codemirror_mode": {
    "name": "ipython",
    "version": 3
   },
   "file_extension": ".py",
   "mimetype": "text/x-python",
   "name": "python",
   "nbconvert_exporter": "python",
   "pygments_lexer": "ipython3",
   "version": "3.9.12"
  }
 },
 "nbformat": 4,
 "nbformat_minor": 5
}
