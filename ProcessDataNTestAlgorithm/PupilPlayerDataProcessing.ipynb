{
 "cells": [
  {
   "cell_type": "markdown",
   "id": "f908e093",
   "metadata": {},
   "source": [
    "## Pupil Player: Analysis of pupil data"
   ]
  },
  {
   "cell_type": "markdown",
   "id": "01236bb9",
   "metadata": {},
   "source": [
    "### Reference"
   ]
  },
  {
   "cell_type": "markdown",
   "id": "02944d3b",
   "metadata": {},
   "source": [
    "This is referenced from https://pyplr.github.io/cvd_pupillometry/04d_analysis.html  \\\n",
    "This is a python software for researching the pupillary light reflex, ideal data source: pupil labs'."
   ]
  },
  {
   "cell_type": "markdown",
   "id": "2da80f93",
   "metadata": {},
   "source": [
    "### Export with Pupil Player"
   ]
  },
  {
   "cell_type": "code",
   "execution_count": 1,
   "id": "785f2d76",
   "metadata": {},
   "outputs": [],
   "source": [
    "from pyplr import utils\n",
    "# Pupil Labs recording directory\n",
    "rec_dir = '/Users/jtm/OneDrive - Nexus365/protocols/pipr_protocol/JTM'\n",
    "utils.print_file_structure(rec_dir)"
   ]
  },
  {
   "cell_type": "markdown",
   "id": "20961cd2",
   "metadata": {},
   "source": [
    "### Load exported data"
   ]
  },
  {
   "cell_type": "code",
   "execution_count": 2,
   "id": "72d4f7dc",
   "metadata": {},
   "outputs": [
    {
     "ename": "FileNotFoundError",
     "evalue": "\"/Users/jtm/OneDrive - Nexus365/protocols/pipr_protocol/JTM\" does not appear to exist.",
     "output_type": "error",
     "traceback": [
      "\u001b[1;31m---------------------------------------------------------------------------\u001b[0m",
      "\u001b[1;31mFileNotFoundError\u001b[0m                         Traceback (most recent call last)",
      "\u001b[1;32m<ipython-input-2-8d6d0048dcbb>\u001b[0m in \u001b[0;36m<module>\u001b[1;34m\u001b[0m\n\u001b[0;32m      8\u001b[0m \u001b[1;33m\u001b[0m\u001b[0m\n\u001b[0;32m      9\u001b[0m \u001b[1;31m# Get a handle on a subject\u001b[0m\u001b[1;33m\u001b[0m\u001b[1;33m\u001b[0m\u001b[1;33m\u001b[0m\u001b[0m\n\u001b[1;32m---> 10\u001b[1;33m s = utils.new_subject(\n\u001b[0m\u001b[0;32m     11\u001b[0m     rec_dir, export='000', out_dir_nm='pyplr_analysis')\n\u001b[0;32m     12\u001b[0m \u001b[1;33m\u001b[0m\u001b[0m\n",
      "\u001b[1;32mD:\\Users\\91584\\anaconda3\\lib\\site-packages\\pyplr\\utils.py\u001b[0m in \u001b[0;36mnew_subject\u001b[1;34m(rec_dir, export, out_dir_nm)\u001b[0m\n\u001b[0;32m     49\u001b[0m     \"\"\"\n\u001b[0;32m     50\u001b[0m     \u001b[1;32mif\u001b[0m \u001b[1;32mnot\u001b[0m \u001b[0mop\u001b[0m\u001b[1;33m.\u001b[0m\u001b[0misdir\u001b[0m\u001b[1;33m(\u001b[0m\u001b[0mrec_dir\u001b[0m\u001b[1;33m)\u001b[0m\u001b[1;33m:\u001b[0m\u001b[1;33m\u001b[0m\u001b[1;33m\u001b[0m\u001b[0m\n\u001b[1;32m---> 51\u001b[1;33m         raise FileNotFoundError(\n\u001b[0m\u001b[0;32m     52\u001b[0m             '\"{}\" does not appear to exist.'.format(rec_dir))\n\u001b[0;32m     53\u001b[0m     \u001b[0mroot\u001b[0m \u001b[1;33m=\u001b[0m \u001b[0mop\u001b[0m\u001b[1;33m.\u001b[0m\u001b[0mabspath\u001b[0m\u001b[1;33m(\u001b[0m\u001b[0mrec_dir\u001b[0m\u001b[1;33m)\u001b[0m\u001b[1;33m\u001b[0m\u001b[1;33m\u001b[0m\u001b[0m\n",
      "\u001b[1;31mFileNotFoundError\u001b[0m: \"/Users/jtm/OneDrive - Nexus365/protocols/pipr_protocol/JTM\" does not appear to exist."
     ]
    }
   ],
   "source": [
    "# Columns to load\n",
    "use_cols = ['confidence',\n",
    "            'method',\n",
    "            'pupil_timestamp',\n",
    "            'eye_id',\n",
    "            'diameter_3d',\n",
    "            'diameter']\n",
    "\n",
    "# Get a handle on a subject\n",
    "s = utils.new_subject(\n",
    "    rec_dir, export='000', out_dir_nm='pyplr_analysis')\n",
    "\n",
    "# Load pupil data\n",
    "samples = utils.load_pupil(\n",
    "    s['data_dir'], eye_id='best', cols=use_cols)\n",
    "samples"
   ]
  }
 ],
 "metadata": {
  "kernelspec": {
   "display_name": "Python 3",
   "language": "python",
   "name": "python3"
  },
  "language_info": {
   "codemirror_mode": {
    "name": "ipython",
    "version": 3
   },
   "file_extension": ".py",
   "mimetype": "text/x-python",
   "name": "python",
   "nbconvert_exporter": "python",
   "pygments_lexer": "ipython3",
   "version": "3.8.8"
  }
 },
 "nbformat": 4,
 "nbformat_minor": 5
}
