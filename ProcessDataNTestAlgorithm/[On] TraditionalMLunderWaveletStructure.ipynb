{
 "cells": [
  {
   "cell_type": "markdown",
   "id": "40c0caa8",
   "metadata": {},
   "source": [
    "## Traditional ML classification models under wavelet analysis structures"
   ]
  },
  {
   "cell_type": "code",
   "execution_count": 1,
   "id": "eb78a8df",
   "metadata": {},
   "outputs": [],
   "source": [
    "import numpy as np\n",
    "from sklearn.pipeline import make_pipeline\n",
    "from sklearn.preprocessing import StandardScaler\n",
    "from sklearn.svm import SVC\n",
    "import pandas as pd\n",
    "import sklearn\n",
    "import scipy \n",
    "import argparse\n",
    "from sklearn.metrics import accuracy_score\n",
    "import seaborn as sns\n",
    "from sklearn.neighbors import KNeighborsClassifier\n",
    "from sklearn.linear_model import LinearRegression\n",
    "from sklearn.model_selection import train_test_split\n",
    "from sklearn.metrics import confusion_matrix\n",
    "from sklearn.metrics import ConfusionMatrixDisplay\n",
    "from sklearn.ensemble import RandomForestClassifier\n",
    "from sklearn.metrics import f1_score\n",
    "import matplotlib.pyplot as plt"
   ]
  },
  {
   "cell_type": "markdown",
   "id": "8eae526d",
   "metadata": {},
   "source": [
    "### Implementations\n",
    "#### Configurations"
   ]
  },
  {
   "cell_type": "code",
   "execution_count": 2,
   "id": "005e23c5",
   "metadata": {},
   "outputs": [],
   "source": [
    "# Configurations - Feature names\n",
    "LOWLUX = 'lowlux'\n",
    "MIDLUX = 'middlelux'\n",
    "HIGHLUX = 'highlux'\n",
    "NOBACK = 'nothing'\n",
    "ONEBACK = 'ONEBACK'\n",
    "TWOBACK = 'TWOBACK'\n",
    "THREEBACK = 'THREEBACK'\n",
    "FILENAME = 'Filename'\n",
    "IPA2 = 'IPA 2'\n",
    "INDEX = 'index'\n",
    "LUX = 'Luminance'\n",
    "LABELS = 'Labels'\n",
    "ISBLINK_LEFT = 'isBlink-Left'\n",
    "ISBLINK_RIGHT = 'isBlink-Right'\n",
    "PID = 'PID'\n",
    "AVE_DM = 'Averaged Diameter'\n",
    "DIFF_DM = 'Difference Diameter'\n",
    "\n",
    "IPA_LEFT = 'IPA Left'\n",
    "IPA_RIGHT = 'IPA Right'\n",
    "\n",
    "LHIPA_LEFT = 'LHIPA Left'\n",
    "LHIPA_RIGHT = 'LHIPA Right'\n",
    "\n",
    "MEAN_LEFT = 'Mean Left'\n",
    "MEAN_RIGHT = 'Mean Right'\n",
    "\n",
    "STD_LEFT = 'STD Left'\n",
    "STD_RIGHT = 'STD Right'\n",
    "\n",
    "SKEW_LEFT = 'Skew Left'\n",
    "SKEW_RIGHT = 'Skew Right'\n",
    "\n",
    "MAX_LEFT = 'MAX Left'\n",
    "MAX_RIGHT = 'MAX Right'\n",
    "\n",
    "MED_LEFT = 'Med Left'\n",
    "MED_RIGHT = 'Med Right'\n",
    "\n",
    "VAR_LEFT = 'Var Left'\n",
    "VAR_RIGHT = 'Var Right'\n",
    "\n",
    "\n",
    "# Model names.\n",
    "KNN = 'KNN'\n",
    "SVM = 'SVM'\n",
    "RF = 'Random Forest'\n",
    "\n",
    "# # Training and testing ratio.\n",
    "# TEST_SIZE_PCT = 0.1\n",
    "\n",
    "# # Hyper-parameters tuning.\n",
    "# # Setting thresholds for 2 eyes' blinking rates.\n",
    "# THRES_BLINKING_RATE = 1.00 # The default value.\n",
    "# # The random forest layers.\n",
    "# RF_DEPTH = 10"
   ]
  },
  {
   "cell_type": "markdown",
   "id": "dd971e00",
   "metadata": {},
   "source": [
    "#### Encoder\n",
    "\n",
    "This part encodes features into numeric values."
   ]
  },
  {
   "cell_type": "code",
   "execution_count": 3,
   "id": "90e40da3",
   "metadata": {},
   "outputs": [],
   "source": [
    "# Encoding Lux and Labeling\n",
    "def encode(df_input):\n",
    "    luxes = []\n",
    "    nbacks = []\n",
    "#     df_numeric_features = df_raw_features.copy()\n",
    "    df_numeric_features = df_input.copy()\n",
    "\n",
    "    for index, row in df_numeric_features.iterrows():\n",
    "        # Label luxes\n",
    "        if LOWLUX in row[LUX]:\n",
    "            luxes.append(1)\n",
    "        elif MIDLUX in row[LUX]:\n",
    "            luxes.append(2)\n",
    "        elif HIGHLUX in row[LUX]:\n",
    "            luxes.append(3)\n",
    "\n",
    "        # Label task difficulties\n",
    "        if NOBACK in row[LABELS]:\n",
    "            nbacks.append(0)\n",
    "        elif ONEBACK in row[LABELS]:\n",
    "            nbacks.append(1)\n",
    "        elif TWOBACK in row[LABELS]:\n",
    "            nbacks.append(2)\n",
    "        elif THREEBACK in row[LABELS]:\n",
    "            nbacks.append(3)\n",
    "\n",
    "    df_numeric_features[LUX] = luxes\n",
    "    df_numeric_features[LABELS] = nbacks\n",
    "    \n",
    "    # Output the results\n",
    "    df_output = df_numeric_features.copy()\n",
    "    return df_output"
   ]
  },
  {
   "cell_type": "markdown",
   "id": "5470af68",
   "metadata": {},
   "source": [
    "#### Data visualization"
   ]
  },
  {
   "cell_type": "code",
   "execution_count": 4,
   "id": "174a70af",
   "metadata": {},
   "outputs": [],
   "source": [
    "# sns.pairplot(df_labels_IPA2, hue=LABELS)"
   ]
  },
  {
   "cell_type": "markdown",
   "id": "99ce1adb",
   "metadata": {},
   "source": [
    "#### Auxiliary functions"
   ]
  },
  {
   "cell_type": "code",
   "execution_count": 5,
   "id": "5ef57894",
   "metadata": {},
   "outputs": [],
   "source": [
    "# Show machine learning models' performance.\n",
    "def show_performance(y_true, y_pred, model_name):\n",
    "    # Get the accuracy score.\n",
    "    acc_score = accuracy_score(y_true, y_pred)\n",
    "    \n",
    "    # Get the F1 score.\n",
    "    # I chose the macro for worrying about the imbanlance of labels. In my case, since I don't filter instances bsed on blinking rates, I use micro.\n",
    "    # Ref: https://datascience.stackexchange.com/questions/40900/whats-the-difference-between-sklearn-f1-score-micro-and-weighted-for-a-mult. The 'micro' uses the global number of TP, FN, FP and calculates the F1 directly without favouring any classes.\n",
    "    f1_score = sklearn.metrics.f1_score(y_true, y_pred, average='macro')  # Before resetting the 0-back time equals to the 1,2,3-backs, I use the macro.\n",
    "    \n",
    "    # Get the confusion matrices and display them.\n",
    "    cm = confusion_matrix(y_true, y_pred)\n",
    "    cm_display = ConfusionMatrixDisplay(cm)\n",
    "    \n",
    "    # Plot the confusion matrix.\n",
    "    ax = plt.figure().subplots()\n",
    "    ax.set(title=model_name + \" MODEL\")\n",
    "    \n",
    "    cm_display.plot(ax=ax)\n",
    "    plt.show()\n",
    "    \n",
    "    return acc_score, f1_score"
   ]
  },
  {
   "cell_type": "code",
   "execution_count": 6,
   "id": "6fb5c6ca",
   "metadata": {},
   "outputs": [],
   "source": [
    "# Plot class distributions with a bar chart.\n",
    "# Learnt from the quora here.https://stackoverflow.com/questions/63650646/add-labels-and-title-to-a-plot-made-using-pandas.\n",
    "def plot_class_distribution(df_input, title, x_label, y_label, class_column):\n",
    "    df = df_input.copy()\n",
    "    ax = pd.Series(df[class_column]).value_counts().sort_index()\n",
    "    plt.title(title)\n",
    "    plt.xlabel(x_label)\n",
    "    plt.ylabel(y_label)\n",
    "    ax.plot(kind='bar')\n",
    "    plt.show()\n",
    "    return None"
   ]
  },
  {
   "cell_type": "markdown",
   "id": "7d208aa8",
   "metadata": {},
   "source": [
    "#### Clean the instances and features"
   ]
  },
  {
   "cell_type": "code",
   "execution_count": 7,
   "id": "e9232c4e",
   "metadata": {},
   "outputs": [],
   "source": [
    "# Select validated rows/instances by thresholdings.\n",
    "def validate_instances(args, df_input):\n",
    "    df = df_input.copy()\n",
    "    \n",
    "#     # Plot the original class distributions.\n",
    "#     plot_class_distribution(df_input=df, title='Original instances - class distribution', x_label='Classes', y_label='Instances', class_column=LABELS) # class distributions before.\n",
    "    \n",
    "    # Remove instances with high blinking rates.\n",
    "    before_blinking_filter = len(df)\n",
    "    df = df.loc[df[ISBLINK_LEFT] <= args.blinking_rate_threshold]\n",
    "    df = df.loc[df[ISBLINK_RIGHT] <= args.blinking_rate_threshold]\n",
    "    after_blinking_filter = len(df)\n",
    "    lost_data_num = before_blinking_filter - after_blinking_filter\n",
    "    print('The blinking threshold is: ' + str(args.blinking_rate_threshold) + '. Before there was: ' + str(before_blinking_filter) + ' instances, then there is : ' + str(after_blinking_filter) + ' instances. ' + str(lost_data_num) + ' instances are lost.')\n",
    "    plot_class_distribution(df_input=df, title='Tuned instances - class distribution', x_label='Classes', y_label='Instances', class_column=LABELS) # Show the class distributions after tuning.\n",
    "    \n",
    "#     # Try with less classes.\n",
    "#     df = df.loc[df[LABELS] < 3] # Try with 3 labels: 0, 1, 2 since LHIPA was not sensitive to the THREEBACKs.\n",
    "#     df = df.loc[df[LABELS] != 1] # Try with 3 labels: 0, 2 since LHIPA was not sensitive to these 2 classes. dfObj[(dfObj['Sale'] > 30) & (dfObj['Sale'] < 33) ]\n",
    "    \n",
    "    df_train = df.loc[df[PID] != 8] # <TODO: this part needs to be improved>\n",
    "    df_test = df.loc[df[PID] == 8]\n",
    "    \n",
    "    \n",
    "#     # Reset the index.\n",
    "#     df = df.reset_index()\n",
    "#     df = df.loc[:, df.columns != 'index']\n",
    "    \n",
    "    # Get the output.\n",
    "    df_output = df.copy()\n",
    "    \n",
    "    df_output_train = df_train.copy()\n",
    "    df_output_test = df_test.copy()\n",
    "    \n",
    "    return df_output_train, df_output_test"
   ]
  },
  {
   "cell_type": "code",
   "execution_count": 8,
   "id": "53d2337e",
   "metadata": {},
   "outputs": [],
   "source": [
    "def select_features(df_input, selected_feature_sets, dropped_feature_sets):\n",
    "    df = df_input.copy()\n",
    "    \n",
    "    # Feature selection\n",
    "    # Remove PID label / feature.\n",
    "    df = df.loc[:, df.columns != PID]\n",
    "    \n",
    "    # Remove lux\n",
    "    df = df.loc[:, df.columns != LUX]\n",
    "    \n",
    "    # Remove the blinking rates related features.\n",
    "    df = df.loc[:, df.columns != ISBLINK_LEFT]\n",
    "    df = df.loc[:, df.columns != ISBLINK_RIGHT]\n",
    "    \n",
    "    # Select features according to needs.\n",
    "    if dropped_feature_sets is False and selected_feature_sets is not False:\n",
    "#         selected_feature_sets.append(ISBLINK_LEFT)\n",
    "#         selected_feature_sets.append(ISBLINK_RIGHT)\n",
    "#         selected_feature_sets.append(LUX)\n",
    "        \n",
    "        selected_feature_sets.append(LABELS)\n",
    "        df_output = df[selected_feature_sets] \n",
    "        \n",
    "        # Remove appended features.\n",
    "        selected_feature_sets.remove(LABELS)\n",
    "#         selected_feature_sets.remove(ISBLINK_LEFT)\n",
    "#         selected_feature_sets.remove(ISBLINK_RIGHT)\n",
    "#         selected_feature_sets.remove(LUX)\n",
    "    elif selected_feature_sets is False and dropped_feature_sets is not False:\n",
    "        for feature in dropped_feature_sets:\n",
    "            df = df.loc[:, df.columns != feature]\n",
    "        df_output = df.copy()\n",
    "    elif dropped_feature_sets is False and selected_feature_sets is False:\n",
    "        df_output = df.copy()\n",
    "    \n",
    "    return df_output"
   ]
  },
  {
   "cell_type": "markdown",
   "id": "a4804740",
   "metadata": {},
   "source": [
    "#### Train the models"
   ]
  },
  {
   "cell_type": "code",
   "execution_count": 9,
   "id": "b077763d",
   "metadata": {},
   "outputs": [],
   "source": [
    "# Run the models, get the results.\n",
    "def train_test_models(args, df_input, df_test, label_string): # <TODO> need to modify later.\n",
    "    df = df_input.copy()\n",
    "    \n",
    "    # Split dataset.\n",
    "    \n",
    "    # K-fold way.\n",
    "#     # Get the X and y sets.\n",
    "#     X = df.loc[:, df.columns != LABELS].to_numpy()\n",
    "#     y = df.loc[:, df.columns == LABELS].to_numpy()\n",
    "#     y = np.reshape(y, -1)\n",
    "    \n",
    "#     # Split the data into training dataset and validation dataset.\n",
    "#     X_train, X_test, y_train, y_test = train_test_split(X, y, test_size=args.test_size_pct, random_state=999)\n",
    "\n",
    "###################################### Testing area #################################\n",
    "    df_test = df_test.copy()\n",
    "    \n",
    "    X_train = df.loc[:, df.columns != LABELS].to_numpy()\n",
    "    y_train = df.loc[:, df.columns == LABELS].to_numpy()\n",
    "    y_train = np.reshape(y_train, -1)\n",
    "    \n",
    "    X_test = df_test.loc[:, df_test.columns != LABELS].to_numpy()\n",
    "    y_test = df_test.loc[:, df_test.columns == LABELS].to_numpy()\n",
    "    y_test = np.reshape(y_test, -1)\n",
    "######################################################################################\n",
    "    \n",
    "    # Train with models.\n",
    "    print('------------------------------------------------' + label_string + ' Model ------------------------------------------------')\n",
    "    \n",
    "#     # SVM model. TODO: try the SVM model mentioned in 2022 ISMAR and boosting method, and also feature selection method.\n",
    "#     clf_svm = make_pipeline(StandardScaler(),SVC(kernel='poly', degree=7)) #SVC(kernel='rbf', gamma='auto'))\n",
    "#     # Try SVM, bacause it is one of the most widely used models in cognitive workload claissfications.\n",
    "#     clf_svm.fit(X_train, y_train)\n",
    "#     y_pred_svm = clf_svm.predict(X_test)\n",
    "#     score_svm = show_performance(y_true=y_test, y_pred=y_pred_svm, model_name = SVM)\n",
    "    acc_score_svm = 0\n",
    "    \n",
    "    # KNN model.\n",
    "    clf_knn = KNeighborsClassifier(n_neighbors=5)\n",
    "    # Train the model.\n",
    "    clf_knn.fit(X_train, y_train)\n",
    "    # Test.\n",
    "    y_pred_knn = clf_knn.predict(X_test)\n",
    "    acc_score_knn, f1_score_knn = show_performance(y_true=y_test, y_pred=y_pred_knn, model_name = KNN)\n",
    "    \n",
    "    # Random Forest model.\n",
    "    clf_rf = RandomForestClassifier(max_depth=args.rf_depth, random_state=999)\n",
    "    # Train the model.\n",
    "    clf_rf.fit(X_train, y_train)\n",
    "    # Test.\n",
    "    y_pred_rf = clf_rf.predict(X_test)\n",
    "    acc_score_rf, f1_score_rf = show_performance(y_true=y_test, y_pred=y_pred_rf, model_name = RF)\n",
    "    \n",
    "    # Print the results.\n",
    "    print('\\nThe KNN accuracy is: ' + str(acc_score_knn) +  '\\nThe RF accuracy is: ' + str(acc_score_rf))\n",
    "    print('\\nThe KNN F1 is: ' + str(f1_score_knn) +  '\\nThe RF F1 is: ' + str(f1_score_rf))\n",
    "    print('\\nThe used features are: ') # Briefly display the features utilized.\n",
    "    print(df)\n",
    "    \n",
    "    # Output the data.\n",
    "    df_output = df.copy()\n",
    "    return df_output"
   ]
  },
  {
   "cell_type": "markdown",
   "id": "ca86c0f1",
   "metadata": {},
   "source": [
    "#### Machine Learning Pipeline"
   ]
  },
  {
   "cell_type": "code",
   "execution_count": 10,
   "id": "386c4d8c",
   "metadata": {
    "scrolled": false
   },
   "outputs": [],
   "source": [
    "# The pipeline for experiments.\n",
    "def run(args):\n",
    "    # Read in data from the csv file.\n",
    "    filepath = args.path\n",
    "    df_raw_features = pd.read_csv(filepath)\n",
    "    \n",
    "    # Encode features into numeric values.\n",
    "    df_numeric_features = encode(df_input=df_raw_features)\n",
    "\n",
    "    # Get validated instances.\n",
    "    df_train, df_test = validate_instances(args=args, df_input=df_numeric_features)\n",
    "\n",
    "\n",
    "    # Looping and fine-tuning hyper-parameters. <TODO>\n",
    "\n",
    "    # Compare different features.\n",
    "    # Time-domain baseline feature sets.\n",
    "    time_domain_features = [AVE_DM, DIFF_DM, MEAN_LEFT, MEAN_RIGHT, VAR_LEFT, VAR_RIGHT, STD_LEFT, STD_RIGHT, MAX_LEFT, MAX_RIGHT, SKEW_LEFT, SKEW_RIGHT, MED_LEFT, MED_RIGHT]\n",
    "    df_baseline_time_features = select_features(df_input=df_train, selected_feature_sets=time_domain_features, dropped_feature_sets=False)\n",
    "    # train_test_models(df_input=df_baseline_time_features, label_string='Time-domain-based Features')\n",
    "\n",
    "    df_baseline_time_features_test = select_features(df_input=df_test, selected_feature_sets=time_domain_features, dropped_feature_sets=False)\n",
    "    train_test_models(args=args, df_input=df_baseline_time_features, df_test=df_baseline_time_features_test, label_string='Time-domain-based Features')\n",
    "\n",
    "    # # Freqeuncy baseline feature sets.\n",
    "    # freq_domain_ipa_features = [IPA_LEFT, IPA_RIGHT]\n",
    "    # df_baseline_freq_features_ipa = select_features(df_input=df_all_features, selected_feature_sets=freq_domain_ipa_features, dropped_feature_sets=False)\n",
    "    # train_test_models(df_input=df_baseline_freq_features_ipa, label_string='Freq-domain-based IPA Features')\n",
    "\n",
    "    # freq_domain_lhipa_features = [LHIPA_LEFT, LHIPA_RIGHT]\n",
    "    # df_baseline_freq_features_lhipa = select_features(df_input=df_all_features, selected_feature_sets=freq_domain_lhipa_features, dropped_feature_sets=False)\n",
    "    # train_test_models(df_input=df_baseline_freq_features_lhipa, label_string='Freq-domain-based LHIPA Features')\n",
    "\n",
    "    # # Only wavelet coefficients features.\n",
    "    # dropped_IPA_LHIPA_AVE_DIFF = [AVE_DM, DIFF_DM, IPA_LEFT, IPA_RIGHT, LHIPA_LEFT, LHIPA_RIGHT]\n",
    "    # df_only_coefs = select_features(df_input=df_all_features, selected_feature_sets=False, dropped_feature_sets=dropped_IPA_LHIPA_AVE_DIFF)\n",
    "    # train_test_models(df_input=df_only_coefs, label_string='Only Wavelet Coefficients Features')\n",
    "\n",
    "    # IPA LHIPA and AVE_DM + DF_DM features.\n",
    "    freq_time_baseline_features = [AVE_DM, DIFF_DM, MEAN_LEFT, MEAN_RIGHT, VAR_LEFT, VAR_RIGHT, STD_LEFT, STD_RIGHT, MAX_LEFT, MAX_RIGHT, SKEW_LEFT, SKEW_RIGHT, MED_LEFT, MED_RIGHT,IPA_LEFT, IPA_RIGHT, LHIPA_LEFT, LHIPA_RIGHT]\n",
    "    df_baselines = select_features(df_input=df_train, selected_feature_sets=freq_time_baseline_features, dropped_feature_sets=False)\n",
    "    # train_test_models(df_input=df_baselines, label_string='All Time and Frequency Domain Baseline Features')\n",
    "\n",
    "    df_baselines_test = select_features(df_input=df_test, selected_feature_sets=freq_time_baseline_features, dropped_feature_sets=False)\n",
    "    train_test_models(args=args, df_input=df_baselines, df_test=df_baselines_test, label_string='All Time and Frequency Domain Baseline Features')\n",
    "\n",
    "\n",
    "\n",
    "    # My proposed feature based features.\n",
    "    dropped_IPA_LHIPA_features = [IPA_LEFT, IPA_RIGHT, LHIPA_LEFT, LHIPA_RIGHT]\n",
    "    df_proposed = select_features(df_input=df_train, selected_feature_sets=False, dropped_feature_sets=dropped_IPA_LHIPA_features)\n",
    "    # train_test_models(df_input=df_proposed, label_string='My Proposed Features')\n",
    "\n",
    "    df_proposed_test = select_features(df_input=df_test, selected_feature_sets=False, dropped_feature_sets=dropped_IPA_LHIPA_features)\n",
    "    train_test_models(args=args, df_input=df_proposed, df_test=df_proposed_test, label_string='My Proposed Features')\n",
    "\n",
    "\n",
    "    # # All features baseline.\n",
    "    # df_all_baseline = select_features(df_input=df_all_features, selected_feature_sets=False, dropped_feature_sets=False)\n",
    "    # train_test_models(df_input=df_all_baseline, label_string='All Features')\n",
    "    return"
   ]
  },
  {
   "cell_type": "markdown",
   "id": "4dea4a36",
   "metadata": {},
   "source": [
    "#### Implementation - My Console"
   ]
  },
  {
   "cell_type": "code",
   "execution_count": 11,
   "id": "ba4dd1e7",
   "metadata": {},
   "outputs": [],
   "source": [
    "# Allocate arguments.\n",
    "def parse_args():\n",
    "    parser = argparse.ArgumentParser()\n",
    "    parser.add_argument('-f')\n",
    "    parser.add_argument(\"--path\", type=str, default='../Data/Results/23-11-16-17/results.csv', \n",
    "                        help=\"The path to read processed features.\")\n",
    "#     parser.add_argument('--using_cuda', type=bool, default=True,\n",
    "#                         help='cuda/cpu')\n",
    "#     parser.add_argument('--gpu_ids', type=bool, default=[0],\n",
    "#                         help='cuda/cpu')\n",
    "#     parser.add_argument('--argument_save_path', type=str, default='../Data/Results/',  # TODO: add the results output stream.\n",
    "#                         help='The path to save arguments.')\n",
    "#     parser.add_argument('--results_save_path', type=str, default='../Data/Results/',\n",
    "#                     help='The path to save processed data and generated features.')\n",
    "#     parser.add_argument('--results_csv_filename', type=str, default='results.csv',\n",
    "#                     help='The result csv filename.')\n",
    "    parser.add_argument('--test_size_pct', type=float, default=0.1,\n",
    "                        help='The percentage of the test size.')\n",
    "    parser.add_argument('--blinking_rate_threshold', type=float, default=1.00,\n",
    "                        help='The threshold of filtering invalid data with low blinking rates.')\n",
    "    parser.add_argument('--rf_depth', type=int, default=10,\n",
    "                        help='The max depth of the random forest model.')\n",
    "    return parser.parse_args(args = [])"
   ]
  },
  {
   "cell_type": "code",
   "execution_count": 12,
   "id": "0ab14d9c",
   "metadata": {},
   "outputs": [
    {
     "name": "stdout",
     "output_type": "stream",
     "text": [
      "The blinking threshold is: 1.0. Before there was: 10690 instances, then there is : 10690 instances. 0 instances are lost.\n"
     ]
    },
    {
     "data": {
      "image/png": "[encoded data removed]",
      "text/plain": [
       "<Figure size 432x288 with 1 Axes>"
      ]
     },
     "metadata": {
      "needs_background": "light"
     },
     "output_type": "display_data"
    },
    {
     "name": "stdout",
     "output_type": "stream",
     "text": [
      "------------------------------------------------Time-domain-based Features Model ------------------------------------------------\n"
     ]
    },
    {
     "data": {
      "image/png": "[encoded data removed]",
      "text/plain": [
       "<Figure size 432x288 with 2 Axes>"
      ]
     },
     "metadata": {
      "needs_background": "light"
     },
     "output_type": "display_data"
    },
    {
     "data": {
      "image/png": "[encoded data removed]",
      "text/plain": [
       "<Figure size 432x288 with 2 Axes>"
      ]
     },
     "metadata": {
      "needs_background": "light"
     },
     "output_type": "display_data"
    },
    {
     "name": "stdout",
     "output_type": "stream",
     "text": [
      "\n",
      "The KNN accuracy is: 0.27904328018223234\n",
      "The RF accuracy is: 0.275626423690205\n",
      "\n",
      "The KNN F1 is: 0.24409634611337566\n",
      "The RF F1 is: 0.2401579110038131\n",
      "\n",
      "The used features are: \n",
      "       Averaged Diameter  Difference Diameter  Mean Left  Mean Right  \\\n",
      "0              46.345515            -2.967561  44.861734   49.251587   \n",
      "1              46.310302            -2.970814  44.824895   49.251587   \n",
      "2              46.262647            -2.944221  44.790537   49.251587   \n",
      "3              46.196961            -2.897179  44.748371   49.251587   \n",
      "4              46.140701            -2.861161  44.710120   49.251587   \n",
      "...                  ...                  ...        ...         ...   \n",
      "10685          46.141200             0.966951  46.624676   45.475067   \n",
      "10686          46.121692             1.005967  46.624676   45.475067   \n",
      "10687          46.103429             1.042494  46.624676   45.475067   \n",
      "10688          46.075288             1.098775  46.624676   45.475067   \n",
      "10689          46.049872             1.149608  46.624676   45.475067   \n",
      "\n",
      "       Var Left  Var Right  STD Left  STD Right   MAX Left  MAX Right  \\\n",
      "0      0.190063   0.143005  0.435963   0.378160  46.571411  48.836193   \n",
      "1      0.198361   0.136231  0.445377   0.369094  46.571411  48.836193   \n",
      "2      0.216425   0.150474  0.465215   0.387910  46.571411  48.836193   \n",
      "3      0.236820   0.230274  0.486641   0.479868  46.571411  48.717941   \n",
      "4      0.256613   0.318382  0.506569   0.564253  46.571411  48.717941   \n",
      "...         ...        ...       ...        ...        ...        ...   \n",
      "10685  0.000000   0.094499  0.000000   0.307407  46.624676  46.260868   \n",
      "10686  0.000000   0.112280  0.000000   0.335082  46.624676  46.260868   \n",
      "10687  0.000000   0.127856  0.000000   0.357570  46.624676  46.260868   \n",
      "10688  0.000000   0.140126  0.000000   0.374334  46.624676  46.015957   \n",
      "10689  0.000000   0.155569  0.000000   0.394423  46.624676  46.015957   \n",
      "\n",
      "       Skew Left  Skew Right   Med Left  Med Right  Labels  \n",
      "0       0.474472   -0.119281  44.835669  47.854472       0  \n",
      "1       0.505909    0.008419  44.799225  47.808282       0  \n",
      "2       0.466743   -0.129783  44.773462  47.766716       0  \n",
      "3       0.489478   -0.896618  44.702301  47.700790       0  \n",
      "4       0.511874   -0.922345  44.628348  47.634362       0  \n",
      "...          ...         ...        ...        ...     ...  \n",
      "10685   0.000000   -1.471384  46.624676  45.735457       3  \n",
      "10686   0.000000   -1.138926  46.624676  45.715159       3  \n",
      "10687   0.000000   -0.886028  46.624676  45.704050       3  \n",
      "10688   0.000000   -0.737039  46.624676  45.677089       3  \n",
      "10689   0.000000   -0.539804  46.624676  45.651575       3  \n",
      "\n",
      "[8056 rows x 15 columns]\n",
      "------------------------------------------------All Time and Frequency Domain Baseline Features Model ------------------------------------------------\n"
     ]
    },
    {
     "data": {
      "image/png": "[encoded data removed]",
      "text/plain": [
       "<Figure size 432x288 with 2 Axes>"
      ]
     },
     "metadata": {
      "needs_background": "light"
     },
     "output_type": "display_data"
    },
    {
     "data": {
      "image/png": "[encoded data removed]",
      "text/plain": [
       "<Figure size 432x288 with 2 Axes>"
      ]
     },
     "metadata": {
      "needs_background": "light"
     },
     "output_type": "display_data"
    },
    {
     "name": "stdout",
     "output_type": "stream",
     "text": [
      "\n",
      "The KNN accuracy is: 0.2820804859529233\n",
      "The RF accuracy is: 0.2870159453302961\n",
      "\n",
      "The KNN F1 is: 0.24837400002904528\n",
      "The RF F1 is: 0.2528467846774389\n",
      "\n",
      "The used features are: \n",
      "       Averaged Diameter  Difference Diameter  Mean Left  Mean Right  \\\n",
      "0              46.345515            -2.967561  44.861734   49.251587   \n",
      "1              46.310302            -2.970814  44.824895   49.251587   \n",
      "2              46.262647            -2.944221  44.790537   49.251587   \n",
      "3              46.196961            -2.897179  44.748371   49.251587   \n",
      "4              46.140701            -2.861161  44.710120   49.251587   \n",
      "...                  ...                  ...        ...         ...   \n",
      "10685          46.141200             0.966951  46.624676   45.475067   \n",
      "10686          46.121692             1.005967  46.624676   45.475067   \n",
      "10687          46.103429             1.042494  46.624676   45.475067   \n",
      "10688          46.075288             1.098775  46.624676   45.475067   \n",
      "10689          46.049872             1.149608  46.624676   45.475067   \n",
      "\n",
      "       Var Left  Var Right  STD Left  STD Right   MAX Left  MAX Right  \\\n",
      "0      0.190063   0.143005  0.435963   0.378160  46.571411  48.836193   \n",
      "1      0.198361   0.136231  0.445377   0.369094  46.571411  48.836193   \n",
      "2      0.216425   0.150474  0.465215   0.387910  46.571411  48.836193   \n",
      "3      0.236820   0.230274  0.486641   0.479868  46.571411  48.717941   \n",
      "4      0.256613   0.318382  0.506569   0.564253  46.571411  48.717941   \n",
      "...         ...        ...       ...        ...        ...        ...   \n",
      "10685  0.000000   0.094499  0.000000   0.307407  46.624676  46.260868   \n",
      "10686  0.000000   0.112280  0.000000   0.335082  46.624676  46.260868   \n",
      "10687  0.000000   0.127856  0.000000   0.357570  46.624676  46.260868   \n",
      "10688  0.000000   0.140126  0.000000   0.374334  46.624676  46.015957   \n",
      "10689  0.000000   0.155569  0.000000   0.394423  46.624676  46.015957   \n",
      "\n",
      "       Skew Left  Skew Right   Med Left  Med Right  IPA Left  IPA Right  \\\n",
      "0       0.474472   -0.119281  44.835669  47.854472       0.3        0.3   \n",
      "1       0.505909    0.008419  44.799225  47.808282       0.3        0.3   \n",
      "2       0.466743   -0.129783  44.773462  47.766716       0.4        0.3   \n",
      "3       0.489478   -0.896618  44.702301  47.700790       0.2        0.3   \n",
      "4       0.511874   -0.922345  44.628348  47.634362       0.1        0.2   \n",
      "...          ...         ...        ...        ...       ...        ...   \n",
      "10685   0.000000   -1.471384  46.624676  45.735457       0.1        0.5   \n",
      "10686   0.000000   -1.138926  46.624676  45.715159       0.1        0.6   \n",
      "10687   0.000000   -0.886028  46.624676  45.704050       0.1        0.5   \n",
      "10688   0.000000   -0.737039  46.624676  45.677089       0.1        0.5   \n",
      "10689   0.000000   -0.539804  46.624676  45.651575       0.1        0.4   \n",
      "\n",
      "       LHIPA Left  LHIPA Right  Labels  \n",
      "0             8.7          9.2       0  \n",
      "1             8.4          8.8       0  \n",
      "2             8.4          8.8       0  \n",
      "3             8.8          8.9       0  \n",
      "4             8.8          8.8       0  \n",
      "...           ...          ...     ...  \n",
      "10685         0.0          6.9       3  \n",
      "10686         0.0          7.1       3  \n",
      "10687         0.0          7.1       3  \n",
      "10688         0.0          7.2       3  \n",
      "10689         0.0          7.0       3  \n",
      "\n",
      "[8056 rows x 19 columns]\n",
      "------------------------------------------------My Proposed Features Model ------------------------------------------------\n"
     ]
    },
    {
     "data": {
      "image/png": "[encoded data removed]",
      "text/plain": [
       "<Figure size 432x288 with 2 Axes>"
      ]
     },
     "metadata": {
      "needs_background": "light"
     },
     "output_type": "display_data"
    },
    {
     "data": {
      "image/png": "[encoded data removed]",
      "text/plain": [
       "<Figure size 432x288 with 2 Axes>"
      ]
     },
     "metadata": {
      "needs_background": "light"
     },
     "output_type": "display_data"
    },
    {
     "name": "stdout",
     "output_type": "stream",
     "text": [
      "\n",
      "The KNN accuracy is: 0.23348519362186787\n",
      "The RF accuracy is: 0.20045558086560364\n",
      "\n",
      "The KNN F1 is: 0.19499607319303355\n",
      "The RF F1 is: 0.16920209023768668\n",
      "\n",
      "The used features are: \n",
      "          Left-0     Left-1     Left-2     Left-3     Left-4     Left-5  \\\n",
      "0      91.034258  89.989285  89.446541  90.484821  90.426471  90.335952   \n",
      "1      89.189282  90.032590  90.520370  90.535173  89.393462  89.260975   \n",
      "2      89.405825  90.062178  89.889318  90.441738  90.071239  89.969749   \n",
      "3      89.058885  89.907091  89.644695  89.760700  89.699774  89.692021   \n",
      "4      89.923877  90.984776  90.424379  90.550879  90.366908  90.284532   \n",
      "...          ...        ...        ...        ...        ...        ...   \n",
      "10685  93.249352  93.249352  93.249352  93.249352  93.249352  93.249352   \n",
      "10686  93.249352  93.249352  93.249352  93.249352  93.249352  93.249352   \n",
      "10687  93.249352  93.249352  93.249352  93.249352  93.249352  93.249352   \n",
      "10688  93.249352  93.249352  93.249352  93.249352  93.249352  93.249352   \n",
      "10689  93.249352  93.249352  93.249352  93.249352  93.249352  93.249352   \n",
      "\n",
      "          Left-6     Left-7     Left-8     Left-9  ...  MAX Right  STD Left  \\\n",
      "0      90.534715  90.501256  90.304912  90.299277  ...  48.836193  0.435963   \n",
      "1      89.723475  89.739829  89.843400  89.386548  ...  48.836193  0.445377   \n",
      "2      89.973210  89.938218  89.923749  89.902937  ...  48.836193  0.465215   \n",
      "3      89.670517  89.651260  89.632876  89.609174  ...  48.717941  0.486641   \n",
      "4      90.175600  90.071465  89.966849  89.862239  ...  48.717941  0.506569   \n",
      "...          ...        ...        ...        ...  ...        ...       ...   \n",
      "10685  93.249352  93.249352  93.249352  93.249352  ...  46.260868  0.000000   \n",
      "10686  93.249352  93.249352  93.249352  93.249352  ...  46.260868  0.000000   \n",
      "10687  93.249352  93.249352  93.249352  93.249352  ...  46.260868  0.000000   \n",
      "10688  93.249352  93.249352  93.249352  93.249352  ...  46.015957  0.000000   \n",
      "10689  93.249352  93.249352  93.249352  93.249352  ...  46.015957  0.000000   \n",
      "\n",
      "       STD Right  Skew Left  Skew Right   Med Left  Med Right  Var Left  \\\n",
      "0       0.378160   0.474472   -0.119281  44.835669  47.854472  0.190063   \n",
      "1       0.369094   0.505909    0.008419  44.799225  47.808282  0.198361   \n",
      "2       0.387910   0.466743   -0.129783  44.773462  47.766716  0.216425   \n",
      "3       0.479868   0.489478   -0.896618  44.702301  47.700790  0.236820   \n",
      "4       0.564253   0.511874   -0.922345  44.628348  47.634362  0.256613   \n",
      "...          ...        ...         ...        ...        ...       ...   \n",
      "10685   0.307407   0.000000   -1.471384  46.624676  45.735457  0.000000   \n",
      "10686   0.335082   0.000000   -1.138926  46.624676  45.715159  0.000000   \n",
      "10687   0.357570   0.000000   -0.886028  46.624676  45.704050  0.000000   \n",
      "10688   0.374334   0.000000   -0.737039  46.624676  45.677089  0.000000   \n",
      "10689   0.394423   0.000000   -0.539804  46.624676  45.651575  0.000000   \n",
      "\n",
      "       Var Right  Labels  \n",
      "0       0.143005       0  \n",
      "1       0.136231       0  \n",
      "2       0.150474       0  \n",
      "3       0.230274       0  \n",
      "4       0.318382       0  \n",
      "...          ...     ...  \n",
      "10685   0.094499       3  \n",
      "10686   0.112280       3  \n",
      "10687   0.127856       3  \n",
      "10688   0.140126       3  \n",
      "10689   0.155569       3  \n",
      "\n",
      "[8056 rows x 615 columns]\n"
     ]
    }
   ],
   "source": [
    "# Implement.\n",
    "# Get arguments.\n",
    "args = parse_args()\n",
    "# Run the pipeline\n",
    "run(args=args)"
   ]
  },
  {
   "cell_type": "code",
   "execution_count": 13,
   "id": "d16cc75f",
   "metadata": {},
   "outputs": [],
   "source": [
    "# Read data and make them into processable formalities.\n",
    "# filepath = '../Data/Results/21-11-13-13/results.csv' # Without ipa and lhipa features.\n",
    "# filepath = '../Data/Results/22-11-22-23/results.csv' # With ipa and lhipa features. Sliding window: 5:3.\n",
    "# filepath = '../Data/Results/23-11-09-08/results.csv' # With ipa and lhipa features. Sliding window: 5:4.\n",
    "# filepath = '../Data/Results/23-11-09-51/results.csv' # With ipa and lhipa features. Sliding window: 2:1.6\n",
    "# filepath = '../Data/Results/23-11-12-48/results.csv' # With ipa and lhipa features. Sliding window: 8-7\n",
    "# filepath = '../Data/Results/23-11-14-06/results.csv' # With ipa and lhipa features. Sliding window: 10-8 \n",
    "# filepath = '../Data/Results/23-11-14-24/results.csv' # With ipa and lhipa features. Sliding window: 10-9.5 --> # The longer the window, the more data, the better.\n",
    "# filepath = '../Data/Results/23-11-15-59/results.csv' # Inclueded the PD statistical features. The best. Sliding window: 5-4.5 --> 0.98 --> Without lux, blinking rates, the pure time baseline and baseline + IPA, LHIPA would be still be great: 0.94; 0.96\n",
    "# filepath = '../Data/Results/23-11-16-17/results.csv'# Inclueded the PD statistical features. Sliding window: 10-9.5 --> 0.988;0.989\n",
    "# filepath = '../Data/Results/23-11-16-24/results.csv'# Inclueded the PD statistical features. Sliding window: 4-3.5 --> 0.92;0.88\n",
    "# filepath = '../Data/Results/23-11-16-55/results.csv'# Inclueded the PD statistical features. Sliding window: 4-3 --> 0.96;0.96\n",
    "# filepath = '../Data/Results/23-11-16-36/results.csv'# Inclueded the PD statistical features. Sliding window: 5-4 --> 0.94;0.95\n",
    "# filepath = '../Data/Results/23-11-16-43/results.csv'# Inclueded the PD statistical features. Sliding window: 5-2.5 --> 0.88;0.89\n",
    "\n",
    "# filepath = '../Data/Results/23-11-18-07/results.csv'# Inclueded the PD statistical features. All participants, include RZ(04) and ZL (05). Sliding window: 4-3 -->"
   ]
  }
 ],
 "metadata": {
  "kernelspec": {
   "display_name": "Python 3 (ipykernel)",
   "language": "python",
   "name": "python3"
  },
  "language_info": {
   "codemirror_mode": {
    "name": "ipython",
    "version": 3
   },
   "file_extension": ".py",
   "mimetype": "text/x-python",
   "name": "python",
   "nbconvert_exporter": "python",
   "pygments_lexer": "ipython3",
   "version": "3.9.12"
  }
 },
 "nbformat": 4,
 "nbformat_minor": 5
}
