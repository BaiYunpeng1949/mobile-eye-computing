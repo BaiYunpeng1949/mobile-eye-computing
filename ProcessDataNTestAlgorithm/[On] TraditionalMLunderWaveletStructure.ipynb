{
 "cells": [
  {
   "cell_type": "markdown",
   "id": "40c0caa8",
   "metadata": {},
   "source": [
    "# Traditional ML classification models under wavelet analysis structures\n",
    "## Introuduction\n",
    "This file provides my trials of initial investigation of machine learning models.\n",
    "\n",
    "## Reference\n",
    "\n",
    "1. The [Nested Cross Validation Understanding Tutorial](https://www.analyticsvidhya.com/blog/2021/03/a-step-by-step-guide-to-nested-cross-validation/).\n",
    "2. The [Nested Cross Validation Sklearn Template](https://scikit-learn.org/stable/auto_examples/model_selection/plot_nested_cross_validation_iris.html).\n",
    "\n",
    "## Implementation"
   ]
  },
  {
   "cell_type": "code",
   "execution_count": 1,
   "id": "eb78a8df",
   "metadata": {},
   "outputs": [],
   "source": [
    "import numpy as np\n",
    "from sklearn.pipeline import make_pipeline\n",
    "from sklearn.preprocessing import StandardScaler\n",
    "from sklearn.svm import SVC\n",
    "import pandas as pd\n",
    "import sklearn\n",
    "import scipy \n",
    "import argparse\n",
    "from sklearn.metrics import accuracy_score\n",
    "import seaborn as sns\n",
    "from sklearn.neighbors import KNeighborsClassifier\n",
    "from sklearn.linear_model import LinearRegression\n",
    "from sklearn.model_selection import train_test_split\n",
    "from sklearn.metrics import confusion_matrix\n",
    "from sklearn.metrics import ConfusionMatrixDisplay\n",
    "from sklearn.ensemble import RandomForestClassifier\n",
    "from sklearn.preprocessing import StandardScaler\n",
    "from sklearn.metrics import f1_score\n",
    "from sklearn.model_selection import GridSearchCV, cross_val_score, KFold\n",
    "from sklearn.pipeline import Pipeline\n",
    "from sklearn.feature_selection import SelectFromModel\n",
    "from sklearn.svm import LinearSVC\n",
    "import matplotlib.pyplot as plt\n",
    "import xgboost as xgb\n",
    "import datetime"
   ]
  },
  {
   "cell_type": "markdown",
   "id": "8eae526d",
   "metadata": {},
   "source": [
    "## Implementations\n",
    "### Configurations"
   ]
  },
  {
   "cell_type": "code",
   "execution_count": 2,
   "id": "005e23c5",
   "metadata": {},
   "outputs": [],
   "source": [
    "#######################################################################################\n",
    "# Configurations - Feature names\n",
    "LOWLUX = 'lowlux'\n",
    "MIDLUX = 'middlelux'\n",
    "HIGHLUX = 'highlux'\n",
    "NOBACK = 'nothing'\n",
    "ONEBACK = 'ONEBACK'\n",
    "TWOBACK = 'TWOBACK'\n",
    "THREEBACK = 'THREEBACK'\n",
    "FILENAME = 'Filename'\n",
    "IPA2 = 'IPA 2'\n",
    "INDEX = 'index'\n",
    "LUX = 'Luminance'\n",
    "LABELS = 'Labels'\n",
    "ISBLINK_LEFT = 'isBlink-Left'\n",
    "ISBLINK_RIGHT = 'isBlink-Right'\n",
    "PID = 'PID'\n",
    "AVE_DM = 'Averaged Diameter'\n",
    "DIFF_DM = 'Difference Diameter'\n",
    "\n",
    "IPA_LEFT = 'IPA Left'\n",
    "IPA_RIGHT = 'IPA Right'\n",
    "\n",
    "LHIPA_LEFT = 'LHIPA Left'\n",
    "LHIPA_RIGHT = 'LHIPA Right'\n",
    "\n",
    "MEAN_LEFT = 'Mean Left'\n",
    "MEAN_RIGHT = 'Mean Right'\n",
    "\n",
    "STD_LEFT = 'STD Left'\n",
    "STD_RIGHT = 'STD Right'\n",
    "\n",
    "SKEW_LEFT = 'Skew Left'\n",
    "SKEW_RIGHT = 'Skew Right'\n",
    "\n",
    "MAX_LEFT = 'MAX Left'\n",
    "MAX_RIGHT = 'MAX Right'\n",
    "\n",
    "MED_LEFT = 'Med Left'\n",
    "MED_RIGHT = 'Med Right'\n",
    "\n",
    "VAR_LEFT = 'Var Left'\n",
    "VAR_RIGHT = 'Var Right'\n",
    "\n",
    "#######################################################################################\n",
    "# Model names.\n",
    "KNN = 'KNN'\n",
    "SVM = 'SVM'\n",
    "RF = 'Random Forest'\n",
    "XGB = 'XGBoost'\n",
    "\n",
    "# Hyperparameters.\n",
    "RANDOM_STATE = 99\n",
    "\n",
    "#######################################################################################\n",
    "# Configuration for Time-Series Cross Validation.\n",
    "TRAIN_TEST_SPLIT = LABELS + ' Train and Test'\n",
    "VALIDATION_SPLIT = LABELS + ' Validation'\n",
    "TRAIN = 'train'\n",
    "VALIDATION = 'val'\n",
    "TEST = 'test'\n",
    "\n",
    "# Machine learning pipeline configurations output.\n",
    "ML_LOG_FILE_NAME = 'ml_config.txt'\n",
    "MODEL_PERFORMANCES = []\n",
    "NUM_CLASS = 4"
   ]
  },
  {
   "cell_type": "markdown",
   "id": "dd971e00",
   "metadata": {},
   "source": [
    "### Encoder\n",
    "\n",
    "This part encodes features into numeric values."
   ]
  },
  {
   "cell_type": "code",
   "execution_count": 3,
   "id": "90e40da3",
   "metadata": {},
   "outputs": [],
   "source": [
    "# Encoding Lux and Labeling\n",
    "def encode(df_input):\n",
    "    luxes = []\n",
    "    nbacks = []\n",
    "#     df_numeric_features = df_raw_features.copy()\n",
    "    df_numeric_features = df_input.copy()\n",
    "\n",
    "    for index, row in df_numeric_features.iterrows():\n",
    "        # Label luxes\n",
    "        if LOWLUX in row[LUX]:\n",
    "            luxes.append(1)\n",
    "        elif MIDLUX in row[LUX]:\n",
    "            luxes.append(2)\n",
    "        elif HIGHLUX in row[LUX]:\n",
    "            luxes.append(3)\n",
    "\n",
    "        # Label task difficulties\n",
    "        if NOBACK in row[LABELS]:\n",
    "            nbacks.append(0)\n",
    "        elif ONEBACK in row[LABELS]:\n",
    "            nbacks.append(1)\n",
    "        elif TWOBACK in row[LABELS]:\n",
    "            nbacks.append(2)\n",
    "        elif THREEBACK in row[LABELS]:\n",
    "            nbacks.append(3)\n",
    "\n",
    "    df_numeric_features[LUX] = luxes\n",
    "    df_numeric_features[LABELS] = nbacks\n",
    "    \n",
    "    # Output the results\n",
    "    df_output = df_numeric_features.copy()\n",
    "    return df_output"
   ]
  },
  {
   "cell_type": "markdown",
   "id": "61611c70",
   "metadata": {},
   "source": [
    "### [Suspended] Data Pre-processing\n",
    "\n",
    "When dealing with time-series data in machine learning tasks, such as forcasting models, I should always be careful about the data leakage. That means, the future information should not be mixed with the past's [[Ref](https://stats.stackexchange.com/questions/204944/normalization-vs-standardization-for-multivariate-time-series)].\n",
    "\n",
    "Missing value, interpolation, denoising, outlier detections are all done well in the feature extraction part. Their counter parts were: synchornization, de-blinking, interpolation, smoothing (suspended), and artifect rejection. \n",
    "\n",
    "The other useful steps that are not necessary in this task: Handling Null Values, Imputation, Handling Categorical Variables, Handling Ordinal Categorical Variables, Handling Norminal Categorical Variables, One-Hot coding, Multicollinearity.\n",
    "\n",
    "In this part we just need to work on normalization/standardization. To prevent the future data leakage to the former one, I do this process separately and inside each given individual train/test dataframes.\n",
    "\n",
    "This part is suspended because my results were not good after standardization."
   ]
  },
  {
   "cell_type": "code",
   "execution_count": 4,
   "id": "67804728",
   "metadata": {},
   "outputs": [],
   "source": [
    "# I use the standardization here for less influence of outliers.\n",
    "# To tackle the data leakage problem, I do the standardization for the training datset and testing dataset separately, and within each individual dataset.\n",
    "# <See the standardization inside the split function.>"
   ]
  },
  {
   "cell_type": "markdown",
   "id": "5470af68",
   "metadata": {},
   "source": [
    "### Data visualization"
   ]
  },
  {
   "cell_type": "code",
   "execution_count": 5,
   "id": "174a70af",
   "metadata": {},
   "outputs": [],
   "source": [
    "# sns.pairplot(df_labels_IPA2, hue=LABELS)"
   ]
  },
  {
   "cell_type": "markdown",
   "id": "99ce1adb",
   "metadata": {},
   "source": [
    "### Machine Learning"
   ]
  },
  {
   "cell_type": "code",
   "execution_count": 6,
   "id": "6fb5c6ca",
   "metadata": {},
   "outputs": [],
   "source": [
    "# Plot class distributions with a bar chart.\n",
    "# Learnt from the quora here.https://stackoverflow.com/questions/63650646/add-labels-and-title-to-a-plot-made-using-pandas.\n",
    "def plot_class_distribution(df_input, title, x_label, y_label, class_column):\n",
    "    df = df_input.copy()\n",
    "    ax = pd.Series(df[class_column]).value_counts().sort_index()\n",
    "    plt.title(title)\n",
    "    plt.xlabel(x_label)\n",
    "    plt.ylabel(y_label)\n",
    "    ax.plot(kind='bar')\n",
    "    plt.show()\n",
    "    return None"
   ]
  },
  {
   "cell_type": "code",
   "execution_count": 7,
   "id": "e38e57b6",
   "metadata": {},
   "outputs": [],
   "source": [
    "# Train and report a single model.\n",
    "def train_report_model(X_train, y_train, X_test, y_test, model):\n",
    "    if model == RF:\n",
    "        clf = RandomForestClassifier(max_depth=args.rf_depth, random_state=RANDOM_STATE)\n",
    "    elif model == XGB:\n",
    "        clf = xgb.XGBClassifier(objective=\"multi:softprob\", \n",
    "                                random_state=RANDOM_STATE, \n",
    "                                eval_metric='mlogloss',\n",
    "                                use_label_encoder=False)\n",
    "    elif model == SVM:\n",
    "        pass\n",
    "    elif model == KNN:\n",
    "        pass\n",
    "    \n",
    "    \n",
    "    # Train the model.\n",
    "    clf.fit(X_train, y_train)\n",
    "    # Test.\n",
    "    y_pred = clf.predict(X_test)\n",
    "    \n",
    "    \n",
    "    # Report the results.\n",
    "    # Get the accuracy score.\n",
    "    y_true = y_test\n",
    "    \n",
    "    acc_score = accuracy_score(y_true, y_pred)\n",
    "    \n",
    "    # Get the F1 score.\n",
    "    # I chose the macro for worrying about the imbanlance of labels. In my case, since I don't filter instances bsed on blinking rates, I use micro.\n",
    "    # Ref: https://datascience.stackexchange.com/questions/40900/whats-the-difference-between-sklearn-f1-score-micro-and-weighted-for-a-mult. The 'micro' uses the global number of TP, FN, FP and calculates the F1 directly without favouring any classes.\n",
    "    f1_score = sklearn.metrics.f1_score(y_true, y_pred, average='macro')  # Before resetting the 0-back time equals to the 1,2,3-backs, I use the macro.\n",
    "    \n",
    "    # Get the confusion matrices and display them.\n",
    "    cm = confusion_matrix(y_true, y_pred)\n",
    "    cm_display = ConfusionMatrixDisplay(cm)\n",
    "    \n",
    "    # Plot the confusion matrix.\n",
    "    ax = plt.figure().subplots()\n",
    "    ax.set(title=model + \" MODEL\")\n",
    "    \n",
    "    cm_display.plot(ax=ax)\n",
    "    plt.show()\n",
    "    \n",
    "    performance = '\\nThe ' + model + ' accuracy is: ' + str(acc_score) +  '\\nThe ' + model + ' F1 is: ' + str(f1_score) + '\\n'\n",
    "    print(performance)\n",
    "    MODEL_PERFORMANCES.append(performance)\n",
    "    \n",
    "    return"
   ]
  },
  {
   "cell_type": "markdown",
   "id": "7d208aa8",
   "metadata": {},
   "source": [
    "#### Clean the Instances and Features\n",
    "\n",
    "Cross validation methods [[Ref](https://stats.stackexchange.com/questions/14099/using-k-fold-cross-validation-for-time-series-model-selection)]: \n",
    "\n",
    "1. Forward Chaining / Last Block Evaluation.\n",
    "2. hv cross validation."
   ]
  },
  {
   "cell_type": "code",
   "execution_count": 8,
   "id": "e9232c4e",
   "metadata": {},
   "outputs": [],
   "source": [
    "# Split the traing and testing dataset. Select validated rows/instances by thresholdings.\n",
    "def split_dataset(args, df_input):\n",
    "    df = df_input.copy()\n",
    "    \n",
    "#     # Plot the original class distributions.\n",
    "#     plot_class_distribution(df_input=df, title='Original instances - class distribution', x_label='Classes', y_label='Instances', class_column=LABELS) # class distributions before.\n",
    "    \n",
    "    # Remove instances with high blinking rates.\n",
    "    before_blinking_filter = len(df)\n",
    "    df = df.loc[df[ISBLINK_LEFT] <= args.blinking_rate_threshold]\n",
    "    df = df.loc[df[ISBLINK_RIGHT] <= args.blinking_rate_threshold]\n",
    "    after_blinking_filter = len(df)\n",
    "    lost_data_num = before_blinking_filter - after_blinking_filter\n",
    "    print('The blinking threshold is: ' + str(args.blinking_rate_threshold) + '. Before there was: ' + str(before_blinking_filter) + ' instances, then there is : ' + str(after_blinking_filter) + ' instances. ' + str(lost_data_num) + ' instances are lost.')\n",
    "    plot_class_distribution(df_input=df, title='Tuned instances - class distribution', x_label='Classes', y_label='Instances', class_column=LABELS) # Show the class distributions after tuning.\n",
    "    \n",
    "    # Class tuning. Sometimes I want to see the effect of just classifying certain classes with more difference.\n",
    "    for label in args.list_excluded_label:\n",
    "        df = df.loc[df[LABELS] != label]\n",
    "    \n",
    "    # I use the hv cross validation method because the raw data was time-series dataset and adjacent data points are highly dependant.\n",
    "    # Initialization.\n",
    "    list_dfs_output_trains_4_val = []\n",
    "    list_dfs_output_vals = []\n",
    "    # Specifications for different paths of validation.\n",
    "    if args.split_mode == 'Inclusive':  # It could be a magical string here because the choices are limited in the arg_parser.\n",
    "        # Traverse the dataframe's columns.\n",
    "        # Get the train and test datasets.\n",
    "        df_output_train_4_test = df.loc[df[TRAIN_TEST_SPLIT] == TRAIN]\n",
    "        df_output_test = df.loc[df[TRAIN_TEST_SPLIT] == TEST]\n",
    "        \n",
    "        # Get the trainings and validations in validation sets.\n",
    "        val_cols = df.filter(like=VALIDATION_SPLIT).columns\n",
    "        for col in val_cols:\n",
    "            df_train_4_val = df.loc[df[col] == TRAIN]\n",
    "            df_val = df.loc[df[col] == TEST]\n",
    "            list_dfs_output_trains_4_val.append(df_train_4_val)\n",
    "            list_dfs_output_vals.append(df_val)\n",
    "        # The time series dataset split ends here.\n",
    "    \n",
    "    elif args.split_mode == 'Exclusive':\n",
    "        df_output_train_4_test = df.loc[df[PID] != args.validated_pid]\n",
    "        df_output_test = df.loc[df[PID] == args.validated_pid]\n",
    "    \n",
    "#     # [Deprecated/Suspended] Standardize the features/columns.\n",
    "    \n",
    "#     # Reset the index.\n",
    "#     df = df.reset_index()\n",
    "#     df = df.loc[:, df.columns != 'index']\n",
    "    \n",
    "#     # Get the output.\n",
    "#     # Already got them in the if-else structure.\n",
    "    return df_output_train_4_test, df_output_test, list_dfs_output_trains_4_val, list_dfs_output_vals"
   ]
  },
  {
   "cell_type": "code",
   "execution_count": 9,
   "id": "53d2337e",
   "metadata": {},
   "outputs": [],
   "source": [
    "def select_features(df_input, selected_feature_sets, dropped_feature_sets):\n",
    "    df = df_input.copy()\n",
    "    \n",
    "    # Remove all the labels for spliting dataset first.\n",
    "    # The train and test split labels.\n",
    "    df = df.loc[:, df.columns != TRAIN_TEST_SPLIT]\n",
    "    # The validation's train and validation labels.\n",
    "    val_cols = df.filter(like=VALIDATION_SPLIT).columns\n",
    "    for col in val_cols:\n",
    "        df = df.loc[:, df.columns != col]\n",
    "    \n",
    "    # Feature selection\n",
    "    # Remove PID label / feature.\n",
    "    df = df.loc[:, df.columns != PID]\n",
    "    \n",
    "    # Remove lux\n",
    "    df = df.loc[:, df.columns != LUX]\n",
    "    \n",
    "    # Remove the blinking rates related features.\n",
    "    df = df.loc[:, df.columns != ISBLINK_LEFT]\n",
    "    df = df.loc[:, df.columns != ISBLINK_RIGHT]\n",
    "    \n",
    "    # Select features according to needs.\n",
    "    if dropped_feature_sets is False and selected_feature_sets is not False:\n",
    "#         selected_feature_sets.append(ISBLINK_LEFT)\n",
    "#         selected_feature_sets.append(ISBLINK_RIGHT)\n",
    "#         selected_feature_sets.append(LUX)\n",
    "        \n",
    "        selected_feature_sets.append(LABELS)\n",
    "        df_output = df[selected_feature_sets] \n",
    "        \n",
    "        # Remove appended features.\n",
    "        selected_feature_sets.remove(LABELS)\n",
    "#         selected_feature_sets.remove(ISBLINK_LEFT)\n",
    "#         selected_feature_sets.remove(ISBLINK_RIGHT)\n",
    "#         selected_feature_sets.remove(LUX)\n",
    "    elif selected_feature_sets is False and dropped_feature_sets is not False:\n",
    "        for feature in dropped_feature_sets:\n",
    "            df = df.loc[:, df.columns != feature]\n",
    "        df_output = df.copy()\n",
    "    elif dropped_feature_sets is False and selected_feature_sets is False:\n",
    "        df_output = df.copy()\n",
    "    \n",
    "    return df_output"
   ]
  },
  {
   "cell_type": "markdown",
   "id": "a4804740",
   "metadata": {},
   "source": [
    "#### Train, validate, and Predict (Test) Models"
   ]
  },
  {
   "cell_type": "code",
   "execution_count": 10,
   "id": "b077763d",
   "metadata": {},
   "outputs": [],
   "source": [
    "# Train, validate and predict(test) the models. Maybe needs to separate these parts.\n",
    "def run_baseline_models(args, df_input_train_4_test, df_input_test, list_dfs_input_trains_4_val, list_dfs_input_vals, label_string): # <TODO> need to modify later.\n",
    "    # Split dataset.\n",
    "    def _get_X_y(df):\n",
    "        X = df.loc[:, df.columns != LABELS].to_numpy()\n",
    "        y = df.loc[:, df.columns == LABELS].to_numpy()\n",
    "        y = np.reshape(y, -1)\n",
    "        return X, y\n",
    "    \n",
    "    # Get X and y for train and test.\n",
    "    X_train, y_train = _get_X_y(df=df_input_train_4_test)\n",
    "    X_test, y_test = _get_X_y(df=df_input_test)\n",
    "    \n",
    "    # <TODO> Get the Xs and ys for train in validation and validation datasets.\n",
    "    # Play with list_dfs_input_trains_4_val, list_dfs_input_vals.\n",
    "    \n",
    "    # Train models. <TODO: use the validations>\n",
    "    print('\\n################################### ' + label_string + ' Model ###################################')\n",
    "    \n",
    "#     # SVM model. TODO: try the SVM model mentioned in 2022 ISMAR and boosting method, and also feature selection method.\n",
    "\n",
    "#     # KNN model.\n",
    "\n",
    "    \n",
    "    # Random Forest model.\n",
    "    train_report_model(X_train=X_train, \n",
    "                       y_train=y_train, \n",
    "                       X_test=X_test, \n",
    "                       y_test=y_test, \n",
    "                       model=RF)\n",
    "    \n",
    "    # XGBoost. \n",
    "    train_report_model(X_train=X_train, \n",
    "                       y_train=y_train, \n",
    "                       X_test=X_test, \n",
    "                       y_test=y_test, \n",
    "                       model=XGB)\n",
    "    \n",
    "###################### Feature selection as part of a pipeline. Ref: https://scikit-learn.org/stable/modules/feature_selection.html#feature-selection-as-part-of-a-pipeline\n",
    "    print('\\n----------------------------------- After the feature selection -----------------------------------')\n",
    "    selector = SelectFromModel(estimator=RandomForestClassifier()).fit(X_train, y_train)\n",
    "    X_train_selected = selector.transform(X_train)\n",
    "    X_test_selected = selector.transform(X_test)\n",
    "    # Get useful features.\n",
    "    selected_features = selector.get_support().tolist()#.index(True)\n",
    "    feature_names = []\n",
    "    for idx, val in enumerate(selected_features):\n",
    "        if val == True:\n",
    "            feature_names.append(df_input_train_4_test.columns[idx])\n",
    "    \n",
    "    result_selected_features = '\\nThe indices of selected features are: \\n' + str(feature_names) + '\\n'\n",
    "    MODEL_PERFORMANCES.append(result_selected_features)\n",
    "    print(result_selected_features)\n",
    "    \n",
    "    # RF.\n",
    "    train_report_model(X_train=X_train_selected, \n",
    "                       y_train=y_train, \n",
    "                       X_test=X_test_selected, \n",
    "                       y_test=y_test, \n",
    "                       model=RF)\n",
    "    \n",
    "    # XGBoost.\n",
    "    train_report_model(X_train=X_train_selected, \n",
    "                       y_train=y_train, \n",
    "                       X_test=X_test_selected, \n",
    "                       y_test=y_test, \n",
    "                       model=XGB)\n",
    "\n",
    "    # Output the data.\n",
    "    return"
   ]
  },
  {
   "cell_type": "markdown",
   "id": "ca86c0f1",
   "metadata": {},
   "source": [
    "#### Machine Learning Pipeline"
   ]
  },
  {
   "cell_type": "code",
   "execution_count": 11,
   "id": "386c4d8c",
   "metadata": {
    "scrolled": false
   },
   "outputs": [],
   "source": [
    "# The pipeline for experiments.\n",
    "def run(args):\n",
    "    # Read in data from the csv file.\n",
    "    filepath = args.path\n",
    "    df_raw_features = pd.read_csv(filepath)\n",
    "    \n",
    "    # Encode features into numeric values.\n",
    "    df_numeric_features = encode(df_input=df_raw_features)\n",
    "\n",
    "    # Get validated instances.\n",
    "    df_train_4_test, df_test, list_dfs_trains_4_val, list_dfs_vals = split_dataset(args=args, df_input=df_numeric_features)\n",
    "\n",
    "    # Compare different feature sets.\n",
    "########### Time-domain baseline feature sets.###########################################################################\n",
    "    time_domain_features = [AVE_DM, DIFF_DM, MEAN_LEFT, MEAN_RIGHT, VAR_LEFT, VAR_RIGHT, STD_LEFT, STD_RIGHT, MAX_LEFT, MAX_RIGHT, SKEW_LEFT, SKEW_RIGHT, MED_LEFT, MED_RIGHT]\n",
    "    df_baseline_time_features_train = select_features(df_input=df_train_4_test, \n",
    "                                                      selected_feature_sets=time_domain_features, \n",
    "                                                      dropped_feature_sets=False)\n",
    "    df_baseline_time_features_test = select_features(df_input=df_test, \n",
    "                                                     selected_feature_sets=time_domain_features, \n",
    "                                                     dropped_feature_sets=False)\n",
    "    run_baseline_models(args=args, \n",
    "                        df_input_train_4_test=df_baseline_time_features_train, \n",
    "                        df_input_test=df_baseline_time_features_test, \n",
    "                        list_dfs_input_trains_4_val=list_dfs_trains_4_val, \n",
    "                        list_dfs_input_vals=list_dfs_vals, \n",
    "                        label_string='Time-domain-based Features')\n",
    "\n",
    "########### Freqeuncy baseline feature sets.###########################################################################\n",
    "    # freq_domain_ipa_features = [IPA_LEFT, IPA_RIGHT]\n",
    "\n",
    "    # freq_domain_lhipa_features = [LHIPA_LEFT, LHIPA_RIGHT]\n",
    "    \n",
    "    # # Only wavelet coefficients features.\n",
    "    # dropped_IPA_LHIPA_AVE_DIFF = [AVE_DM, DIFF_DM, IPA_LEFT, IPA_RIGHT, LHIPA_LEFT, LHIPA_RIGHT]\n",
    "    # df_only_coefs = select_features(df_input=df_all_features, selected_feature_sets=False, dropped_feature_sets=dropped_IPA_LHIPA_AVE_DIFF)\n",
    "\n",
    "########## IPA LHIPA and AVE_DM + DF_DM features.#################################################################\n",
    "    freq_time_baseline_features = [AVE_DM, DIFF_DM, MEAN_LEFT, MEAN_RIGHT, VAR_LEFT, VAR_RIGHT, STD_LEFT, STD_RIGHT, MAX_LEFT, MAX_RIGHT, SKEW_LEFT, SKEW_RIGHT, MED_LEFT, MED_RIGHT,IPA_LEFT, IPA_RIGHT, LHIPA_LEFT, LHIPA_RIGHT]\n",
    "    df_baselines_train = select_features(df_input=df_train_4_test, \n",
    "                                         selected_feature_sets=freq_time_baseline_features, \n",
    "                                         dropped_feature_sets=False)\n",
    "    df_baselines_test = select_features(df_input=df_test, \n",
    "                                        selected_feature_sets=freq_time_baseline_features, \n",
    "                                        dropped_feature_sets=False)\n",
    "    run_baseline_models(args=args, \n",
    "                        df_input_train_4_test=df_baselines_train, \n",
    "                        df_input_test=df_baselines_test, \n",
    "                        list_dfs_input_trains_4_val=list_dfs_trains_4_val, \n",
    "                        list_dfs_input_vals=list_dfs_vals, \n",
    "                        label_string='All Time and Frequency Domain Baseline Features')\n",
    "\n",
    "\n",
    "######### My proposed features.#################################################################\n",
    "    dropped_IPA_LHIPA_features = [IPA_LEFT, IPA_RIGHT, LHIPA_LEFT, LHIPA_RIGHT]\n",
    "#     dropped_IPA_LHIPA_features = []\n",
    "    df_proposed_train = select_features(df_input=df_train_4_test, \n",
    "                                        selected_feature_sets=False, \n",
    "                                        dropped_feature_sets=dropped_IPA_LHIPA_features)\n",
    "    df_proposed_test = select_features(df_input=df_test, \n",
    "                                       selected_feature_sets=False, \n",
    "                                       dropped_feature_sets=dropped_IPA_LHIPA_features)\n",
    "    run_baseline_models(args=args, \n",
    "                        df_input_train_4_test=df_proposed_train, \n",
    "                        df_input_test=df_proposed_test, \n",
    "                        list_dfs_input_trains_4_val=list_dfs_trains_4_val, \n",
    "                        list_dfs_input_vals=list_dfs_vals, \n",
    "                        label_string='My Proposed Features')\n",
    "\n",
    "\n",
    "########## All features baseline.#################################################################\n",
    "#     df_proposed_train = select_features(df_input=df_train_4_test, \n",
    "#                                         selected_feature_sets=False, \n",
    "#                                         dropped_feature_sets=False)\n",
    "#     df_proposed_test = select_features(df_input=df_test, \n",
    "#                                        selected_feature_sets=False, \n",
    "#                                        dropped_feature_sets=False)\n",
    "#     run_baseline_models(args=args, \n",
    "#                         df_input_train_4_test=df_proposed_train, \n",
    "#                         df_input_test=df_proposed_test, \n",
    "#                         list_dfs_input_trains_4_val=list_dfs_trains_4_val, \n",
    "#                         list_dfs_input_vals=list_dfs_vals, \n",
    "#                         label_string='All Features with a feature selection')\n",
    "\n",
    "    return"
   ]
  },
  {
   "cell_type": "markdown",
   "id": "ba80db77",
   "metadata": {},
   "source": [
    "### Data Output"
   ]
  },
  {
   "cell_type": "code",
   "execution_count": 12,
   "id": "e902cf9b",
   "metadata": {},
   "outputs": [],
   "source": [
    "# Create a new folder to store this batch of calculation results, as well as configurations.\n",
    "def output(args):\n",
    "    # Get the directory path.\n",
    "    dirpath = args.path.rsplit('/', 1)[0] + '/'\n",
    "    now = datetime.datetime.now()\n",
    "    datestamp = now.strftime(\"%d-%m-%H-%M\")\n",
    "    dir_prefix = dirpath + datestamp\n",
    "    \n",
    "    # Get the configuration values.\n",
    "    log_details = {'Split Mode' : args.split_mode,\n",
    "                   'Validated PID' : args.validated_pid,\n",
    "                   'Blinking Rate Threshold' : args.blinking_rate_threshold,\n",
    "                   'Random Forest Depth' : args.rf_depth,\n",
    "                   'Number of Classes' : NUM_CLASS - len(args.list_excluded_label) #df['hID'].nunique() - len(args.list_excluded_label)\n",
    "                   }\n",
    "#                    'The Performances' : MODEL_PERFORMANCES}\n",
    "    \n",
    "    # Write the configuration file.\n",
    "    log_file_path = dir_prefix + ML_LOG_FILE_NAME\n",
    "    with open(log_file_path, 'w') as f: \n",
    "        for key, value in log_details.items(): \n",
    "            f.write('%s:  %s\\n' % (key, value))\n",
    "        f.write('\\n ----------------- Model Performances --------------------')\n",
    "        for item in MODEL_PERFORMANCES: \n",
    "            f.write('\\n' + item + '\\n')"
   ]
  },
  {
   "cell_type": "markdown",
   "id": "ba05a585",
   "metadata": {},
   "source": [
    "## Implementation - My Console"
   ]
  },
  {
   "cell_type": "code",
   "execution_count": 13,
   "id": "76544c71",
   "metadata": {},
   "outputs": [],
   "source": [
    "# Allocate arguments.\n",
    "# Ref: https://docs.python.org/3/library/argparse.html; How to use ref: https://www.folkstalk.com/2022/09/argparse-choices-with-code-examples.html.\n",
    "def parse_args():\n",
    "    parser = argparse.ArgumentParser()\n",
    "    parser.add_argument('-f')\n",
    "    parser.add_argument(\"--path\", type=str, default='../Data/Results/01-12-16-13/VersionAll-results.csv', \n",
    "                        help=\"The path to read processed features.\")\n",
    "#     parser.add_argument('--using_cuda', type=bool, default=True,\n",
    "#                         help='cuda/cpu')\n",
    "#     parser.add_argument('--gpu_ids', type=bool, default=[0],\n",
    "#                         help='cuda/cpu')\n",
    "#     parser.add_argument('--argument_save_path', type=str, default='../Data/Results/',  # TODO: add the results output stream.\n",
    "#                         help='The path to save arguments.')\n",
    "#     parser.add_argument('--results_save_path', type=str, default='../Data/Results/',\n",
    "#                     help='The path to save processed data and generated features.')\n",
    "#     parser.add_argument('--results_csv_filename', type=str, default='results.csv',\n",
    "#                     help='The result csv filename.')\n",
    "    parser.add_argument('--split_mode', type=str, default='Exclusive',\n",
    "                        choices=['Inclusive', 'Exclusive'],\n",
    "                        help='Whether or not include one individual in both train and test dataset. Inclusive for including, Exclusive for not including.')\n",
    "    parser.add_argument('--validated_pid', type=int, default=10,\n",
    "                        choices=[1, 2, 4, 5, 7, 8, 9, 10, 11],\n",
    "                        help='The participant whose data is left out as the validation.')\n",
    "#     parser.add_argument('--list_pid_out', type=int, default=[],\n",
    "#                         help='A list of PIDs to be left out for validations. \\\n",
    "#                         1-Kat, 2-Peisen, 4-Lin, 5-Runze, 7-Yixiao, 8-Me, 9-Jennifer, 10-Me2, 11-Junjie.')\n",
    "    parser.add_argument('--blinking_rate_threshold', type=float, default=1.0,\n",
    "                        help='The threshold of filtering invalid data with low blinking rates.')\n",
    "    parser.add_argument('--rf_depth', type=int, default=10,\n",
    "                        help='The max depth of the random forest model.')\n",
    "    parser.add_argument('--list_excluded_label', type=list, default=[3], choices=[0, 1, 2, 3],\n",
    "                        help='The list of labels that are excluded.')\n",
    "    return parser.parse_args(args = [])"
   ]
  },
  {
   "cell_type": "code",
   "execution_count": 14,
   "id": "05261e9e",
   "metadata": {},
   "outputs": [
    {
     "name": "stdout",
     "output_type": "stream",
     "text": [
      "4\n",
      "The blinking threshold is: 1.0. Before there was: 6247 instances, then there is : 6247 instances. 0 instances are lost.\n"
     ]
    },
    {
     "data": {
      "image/png": "[encoded data removed]",
      "text/plain": [
       "<Figure size 432x288 with 1 Axes>"
      ]
     },
     "metadata": {
      "needs_background": "light"
     },
     "output_type": "display_data"
    },
    {
     "name": "stdout",
     "output_type": "stream",
     "text": [
      "\n",
      "################################### Time-domain-based Features Model ###################################\n"
     ]
    },
    {
     "data": {
      "image/png": "[encoded data removed]",
      "text/plain": [
       "<Figure size 432x288 with 2 Axes>"
      ]
     },
     "metadata": {
      "needs_background": "light"
     },
     "output_type": "display_data"
    },
    {
     "name": "stdout",
     "output_type": "stream",
     "text": [
      "\n",
      "The Random Forest accuracy is: 0.32815533980582523\n",
      "The Random Forest F1 is: 0.3154716387599374\n",
      "\n"
     ]
    },
    {
     "name": "stderr",
     "output_type": "stream",
     "text": [
      "D:\\Users\\91584\\anaconda3\\lib\\site-packages\\xgboost\\sklearn.py:1421: UserWarning: `use_label_encoder` is deprecated in 1.7.0.\n",
      "  warnings.warn(\"`use_label_encoder` is deprecated in 1.7.0.\")\n"
     ]
    },
    {
     "data": {
      "image/png": "[encoded data removed]",
      "text/plain": [
       "<Figure size 432x288 with 2 Axes>"
      ]
     },
     "metadata": {
      "needs_background": "light"
     },
     "output_type": "display_data"
    },
    {
     "name": "stdout",
     "output_type": "stream",
     "text": [
      "\n",
      "The XGBoost accuracy is: 0.487378640776699\n",
      "The XGBoost F1 is: 0.4264185367633644\n",
      "\n",
      "\n",
      "----------------------------------- After the feature selection -----------------------------------\n",
      "\n",
      "The indices of selected features are: \n",
      "['Mean Right']\n",
      "\n"
     ]
    },
    {
     "data": {
      "image/png": "[encoded data removed]",
      "text/plain": [
       "<Figure size 432x288 with 2 Axes>"
      ]
     },
     "metadata": {
      "needs_background": "light"
     },
     "output_type": "display_data"
    },
    {
     "name": "stdout",
     "output_type": "stream",
     "text": [
      "\n",
      "The Random Forest accuracy is: 0.487378640776699\n",
      "The Random Forest F1 is: 0.4264185367633644\n",
      "\n"
     ]
    },
    {
     "name": "stderr",
     "output_type": "stream",
     "text": [
      "D:\\Users\\91584\\anaconda3\\lib\\site-packages\\xgboost\\sklearn.py:1421: UserWarning: `use_label_encoder` is deprecated in 1.7.0.\n",
      "  warnings.warn(\"`use_label_encoder` is deprecated in 1.7.0.\")\n"
     ]
    },
    {
     "data": {
      "image/png": "[encoded data removed]",
      "text/plain": [
       "<Figure size 432x288 with 2 Axes>"
      ]
     },
     "metadata": {
      "needs_background": "light"
     },
     "output_type": "display_data"
    },
    {
     "name": "stdout",
     "output_type": "stream",
     "text": [
      "\n",
      "The XGBoost accuracy is: 0.487378640776699\n",
      "The XGBoost F1 is: 0.4264185367633644\n",
      "\n",
      "\n",
      "################################### All Time and Frequency Domain Baseline Features Model ###################################\n"
     ]
    },
    {
     "data": {
      "image/png": "[encoded data removed]",
      "text/plain": [
       "<Figure size 432x288 with 2 Axes>"
      ]
     },
     "metadata": {
      "needs_background": "light"
     },
     "output_type": "display_data"
    },
    {
     "name": "stdout",
     "output_type": "stream",
     "text": [
      "\n",
      "The Random Forest accuracy is: 0.2912621359223301\n",
      "The Random Forest F1 is: 0.2812277526790989\n",
      "\n"
     ]
    },
    {
     "name": "stderr",
     "output_type": "stream",
     "text": [
      "D:\\Users\\91584\\anaconda3\\lib\\site-packages\\xgboost\\sklearn.py:1421: UserWarning: `use_label_encoder` is deprecated in 1.7.0.\n",
      "  warnings.warn(\"`use_label_encoder` is deprecated in 1.7.0.\")\n"
     ]
    },
    {
     "data": {
      "image/png": "[encoded data removed]",
      "text/plain": [
       "<Figure size 432x288 with 2 Axes>"
      ]
     },
     "metadata": {
      "needs_background": "light"
     },
     "output_type": "display_data"
    },
    {
     "name": "stdout",
     "output_type": "stream",
     "text": [
      "\n",
      "The XGBoost accuracy is: 0.4796116504854369\n",
      "The XGBoost F1 is: 0.42144938727856074\n",
      "\n",
      "\n",
      "----------------------------------- After the feature selection -----------------------------------\n",
      "\n",
      "The indices of selected features are: \n",
      "['Averaged Diameter', 'Difference Diameter', 'Mean Left', 'Mean Right', 'Med Left', 'Med Right']\n",
      "\n"
     ]
    },
    {
     "data": {
      "image/png": "[encoded data removed]",
      "text/plain": [
       "<Figure size 432x288 with 2 Axes>"
      ]
     },
     "metadata": {
      "needs_background": "light"
     },
     "output_type": "display_data"
    },
    {
     "name": "stdout",
     "output_type": "stream",
     "text": [
      "\n",
      "The Random Forest accuracy is: 0.27184466019417475\n",
      "The Random Forest F1 is: 0.26852060206020606\n",
      "\n"
     ]
    },
    {
     "name": "stderr",
     "output_type": "stream",
     "text": [
      "D:\\Users\\91584\\anaconda3\\lib\\site-packages\\xgboost\\sklearn.py:1421: UserWarning: `use_label_encoder` is deprecated in 1.7.0.\n",
      "  warnings.warn(\"`use_label_encoder` is deprecated in 1.7.0.\")\n"
     ]
    },
    {
     "data": {
      "image/png": "[encoded data removed]",
      "text/plain": [
       "<Figure size 432x288 with 2 Axes>"
      ]
     },
     "metadata": {
      "needs_background": "light"
     },
     "output_type": "display_data"
    },
    {
     "name": "stdout",
     "output_type": "stream",
     "text": [
      "\n",
      "The XGBoost accuracy is: 0.487378640776699\n",
      "The XGBoost F1 is: 0.4264185367633644\n",
      "\n",
      "\n",
      "################################### My Proposed Features Model ###################################\n"
     ]
    },
    {
     "data": {
      "image/png": "[encoded data removed]",
      "text/plain": [
       "<Figure size 432x288 with 2 Axes>"
      ]
     },
     "metadata": {
      "needs_background": "light"
     },
     "output_type": "display_data"
    },
    {
     "name": "stdout",
     "output_type": "stream",
     "text": [
      "\n",
      "The Random Forest accuracy is: 0.3320388349514563\n",
      "The Random Forest F1 is: 0.3184163399641837\n",
      "\n"
     ]
    },
    {
     "name": "stderr",
     "output_type": "stream",
     "text": [
      "D:\\Users\\91584\\anaconda3\\lib\\site-packages\\xgboost\\sklearn.py:1421: UserWarning: `use_label_encoder` is deprecated in 1.7.0.\n",
      "  warnings.warn(\"`use_label_encoder` is deprecated in 1.7.0.\")\n"
     ]
    },
    {
     "data": {
      "image/png": "[encoded data removed]",
      "text/plain": [
       "<Figure size 432x288 with 2 Axes>"
      ]
     },
     "metadata": {
      "needs_background": "light"
     },
     "output_type": "display_data"
    },
    {
     "name": "stdout",
     "output_type": "stream",
     "text": [
      "\n",
      "The XGBoost accuracy is: 0.4854368932038835\n",
      "The XGBoost F1 is: 0.4255144032921811\n",
      "\n",
      "\n",
      "----------------------------------- After the feature selection -----------------------------------\n",
      "\n",
      "The indices of selected features are: \n",
      "['Left-0', 'Left-1', 'Left-4', 'Left-29', 'Left-35', 'Left-45', 'Left-92', 'Left-97', 'Left-100', 'Left-104', 'Left-115', 'Left-117', 'Left-137', 'Left-142', 'Left-144', 'Left-145', 'Left-146', 'Left-148', 'Right-0', 'Right-9', 'Right-10', 'Right-20', 'Right-43', 'Right-109', 'Right-112', 'Right-117', 'Right-119', 'Right-120', 'Right-121', 'Right-125', 'Right-127', 'Right-146', 'Right-147', 'Averaged Diameter', 'Difference Diameter', 'Mean Left', 'Mean Right', 'MAX Left', 'MAX Right', 'STD Left', 'STD Right', 'Skew Left', 'Skew Right', 'Med Left', 'Med Right', 'Var Left', 'Var Right']\n",
      "\n"
     ]
    },
    {
     "data": {
      "image/png": "[encoded data removed]",
      "text/plain": [
       "<Figure size 432x288 with 2 Axes>"
      ]
     },
     "metadata": {
      "needs_background": "light"
     },
     "output_type": "display_data"
    },
    {
     "name": "stdout",
     "output_type": "stream",
     "text": [
      "\n",
      "The Random Forest accuracy is: 0.3650485436893204\n",
      "The Random Forest F1 is: 0.3617663938579408\n",
      "\n"
     ]
    },
    {
     "name": "stderr",
     "output_type": "stream",
     "text": [
      "D:\\Users\\91584\\anaconda3\\lib\\site-packages\\xgboost\\sklearn.py:1421: UserWarning: `use_label_encoder` is deprecated in 1.7.0.\n",
      "  warnings.warn(\"`use_label_encoder` is deprecated in 1.7.0.\")\n"
     ]
    },
    {
     "data": {
      "image/png": "[encoded data removed]",
      "text/plain": [
       "<Figure size 432x288 with 2 Axes>"
      ]
     },
     "metadata": {
      "needs_background": "light"
     },
     "output_type": "display_data"
    },
    {
     "name": "stdout",
     "output_type": "stream",
     "text": [
      "\n",
      "The XGBoost accuracy is: 0.4854368932038835\n",
      "The XGBoost F1 is: 0.4255144032921811\n",
      "\n"
     ]
    }
   ],
   "source": [
    "# Implement.\n",
    "# Get arguments.\n",
    "args = parse_args()\n",
    "# Run the pipeline.\n",
    "run(args=args)\n",
    "# Output the results.\n",
    "output(args=args)"
   ]
  }
 ],
 "metadata": {
  "kernelspec": {
   "display_name": "Python 3 (ipykernel)",
   "language": "python",
   "name": "python3"
  },
  "language_info": {
   "codemirror_mode": {
    "name": "ipython",
    "version": 3
   },
   "file_extension": ".py",
   "mimetype": "text/x-python",
   "name": "python",
   "nbconvert_exporter": "python",
   "pygments_lexer": "ipython3",
   "version": "3.9.12"
  }
 },
 "nbformat": 4,
 "nbformat_minor": 5
}
