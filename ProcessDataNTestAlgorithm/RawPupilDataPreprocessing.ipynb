{
 "cells": [
  {
   "cell_type": "markdown",
   "id": "11221662",
   "metadata": {},
   "source": [
    "## Raw pupil data preprocessing"
   ]
  },
  {
   "cell_type": "markdown",
   "id": "cd93970d",
   "metadata": {},
   "source": [
    "### Reference"
   ]
  },
  {
   "cell_type": "markdown",
   "id": "2024040e",
   "metadata": {},
   "source": [
    "Major referenced papers:\n",
    "1. Total VREcall, https://dl-acm-org.libproxy1.nus.edu.sg/doi/10.1145/3534615 \n",
    "2. GazeR: A Package for Processing Gaze Position and Pupil Size Data. https://pubmed.ncbi.nlm.nih.gov/32291732/ \n",
    "3. ComputationalMR. https://github.com/eth-ait/ComputationalMR \n",
    "4. Preprocessing pupil data: guidelines and code. https://link.springer.com/content/pdf/10.3758/s13428-018-1075-y.pdf Github repository https://github.com/ElioS-S/pupil-size. Check this when have time, seems no need to integrate it now because it is too complicated but won't improve my LHIPA score much."
   ]
  },
  {
   "cell_type": "code",
   "execution_count": 1,
   "id": "ef2d9d0c",
   "metadata": {},
   "outputs": [],
   "source": [
    "import pandas as pd\n",
    "from matplotlib import pyplot as plt\n",
    "import numpy as np\n",
    "from numba import jit\n",
    "import math, os\n",
    "\n",
    "def plotter(ax, data1, data2, param_dict):\n",
    "    out = ax.plot(data1, data2, **param_dict)\n",
    "    return out"
   ]
  },
  {
   "cell_type": "markdown",
   "id": "2c962dda",
   "metadata": {},
   "source": [
    "### Read raw data"
   ]
  },
  {
   "cell_type": "code",
   "execution_count": 2,
   "id": "8ada7035",
   "metadata": {},
   "outputs": [],
   "source": [
    "read_file_path = '../Data/RawData/08-09-13-02-lowlux-TWOBACK/right3D_102Hz.csv'\n",
    "SAMPLING_RATE = int((read_file_path.split('_')[-1]).split('Hz')[0])\n",
    "data = pd.read_csv(read_file_path)"
   ]
  },
  {
   "cell_type": "code",
   "execution_count": 3,
   "id": "ecde1faa",
   "metadata": {},
   "outputs": [
    {
     "data": {
      "text/html": [
       "<div>\n",
       "<style scoped>\n",
       "    .dataframe tbody tr th:only-of-type {\n",
       "        vertical-align: middle;\n",
       "    }\n",
       "\n",
       "    .dataframe tbody tr th {\n",
       "        vertical-align: top;\n",
       "    }\n",
       "\n",
       "    .dataframe thead th {\n",
       "        text-align: right;\n",
       "    }\n",
       "</style>\n",
       "<table border=\"1\" class=\"dataframe\">\n",
       "  <thead>\n",
       "    <tr style=\"text-align: right;\">\n",
       "      <th></th>\n",
       "      <th>Timestamp</th>\n",
       "      <th>Confidence</th>\n",
       "      <th>Diameter</th>\n",
       "      <th>Event</th>\n",
       "    </tr>\n",
       "  </thead>\n",
       "  <tbody>\n",
       "    <tr>\n",
       "      <th>0</th>\n",
       "      <td>424859.221620</td>\n",
       "      <td>0.528680</td>\n",
       "      <td>2.598907</td>\n",
       "      <td>default</td>\n",
       "    </tr>\n",
       "    <tr>\n",
       "      <th>1</th>\n",
       "      <td>424859.233974</td>\n",
       "      <td>0.555372</td>\n",
       "      <td>2.654401</td>\n",
       "      <td>default</td>\n",
       "    </tr>\n",
       "    <tr>\n",
       "      <th>2</th>\n",
       "      <td>424859.242680</td>\n",
       "      <td>0.508382</td>\n",
       "      <td>2.810635</td>\n",
       "      <td>default</td>\n",
       "    </tr>\n",
       "    <tr>\n",
       "      <th>3</th>\n",
       "      <td>424859.253524</td>\n",
       "      <td>0.572342</td>\n",
       "      <td>2.763808</td>\n",
       "      <td>default</td>\n",
       "    </tr>\n",
       "    <tr>\n",
       "      <th>4</th>\n",
       "      <td>424859.269089</td>\n",
       "      <td>0.531896</td>\n",
       "      <td>2.738094</td>\n",
       "      <td>default</td>\n",
       "    </tr>\n",
       "    <tr>\n",
       "      <th>...</th>\n",
       "      <td>...</td>\n",
       "      <td>...</td>\n",
       "      <td>...</td>\n",
       "      <td>...</td>\n",
       "    </tr>\n",
       "    <tr>\n",
       "      <th>11881</th>\n",
       "      <td>424974.957097</td>\n",
       "      <td>1.000000</td>\n",
       "      <td>3.367360</td>\n",
       "      <td>sitting</td>\n",
       "    </tr>\n",
       "    <tr>\n",
       "      <th>11882</th>\n",
       "      <td>424974.967029</td>\n",
       "      <td>1.000000</td>\n",
       "      <td>3.343468</td>\n",
       "      <td>sitting</td>\n",
       "    </tr>\n",
       "    <tr>\n",
       "      <th>11883</th>\n",
       "      <td>424974.974336</td>\n",
       "      <td>0.955047</td>\n",
       "      <td>3.379915</td>\n",
       "      <td>sitting</td>\n",
       "    </tr>\n",
       "    <tr>\n",
       "      <th>11884</th>\n",
       "      <td>424974.985883</td>\n",
       "      <td>1.000000</td>\n",
       "      <td>3.366611</td>\n",
       "      <td>sitting</td>\n",
       "    </tr>\n",
       "    <tr>\n",
       "      <th>11885</th>\n",
       "      <td>424974.996229</td>\n",
       "      <td>1.000000</td>\n",
       "      <td>3.416086</td>\n",
       "      <td>sitting</td>\n",
       "    </tr>\n",
       "  </tbody>\n",
       "</table>\n",
       "<p>11886 rows × 4 columns</p>\n",
       "</div>"
      ],
      "text/plain": [
       "           Timestamp  Confidence  Diameter    Event\n",
       "0      424859.221620    0.528680  2.598907  default\n",
       "1      424859.233974    0.555372  2.654401  default\n",
       "2      424859.242680    0.508382  2.810635  default\n",
       "3      424859.253524    0.572342  2.763808  default\n",
       "4      424859.269089    0.531896  2.738094  default\n",
       "...              ...         ...       ...      ...\n",
       "11881  424974.957097    1.000000  3.367360  sitting\n",
       "11882  424974.967029    1.000000  3.343468  sitting\n",
       "11883  424974.974336    0.955047  3.379915  sitting\n",
       "11884  424974.985883    1.000000  3.366611  sitting\n",
       "11885  424974.996229    1.000000  3.416086  sitting\n",
       "\n",
       "[11886 rows x 4 columns]"
      ]
     },
     "execution_count": 3,
     "metadata": {},
     "output_type": "execute_result"
    }
   ],
   "source": [
    "df = data[['Timestamp','Confidence','Diameter','Event']].copy()\n",
    "df"
   ]
  },
  {
   "cell_type": "markdown",
   "id": "f93e9d7d",
   "metadata": {},
   "source": [
    "### De-blinking and remove data with low confidence"
   ]
  },
  {
   "cell_type": "markdown",
   "id": "44fb06c4",
   "metadata": {},
   "source": [
    "#### Extending blinks"
   ]
  },
  {
   "cell_type": "code",
   "execution_count": 4,
   "id": "1880a52b",
   "metadata": {},
   "outputs": [],
   "source": [
    "## Check how David Linderbaure's group deal with the blinks. Use confidence to identify blinks. They removed the data within 200ms. However, they did not interpolate the eliminated ones.\n",
    "## Here I clean data before and after 200ms of blinks. The input is the numpy data list of the \"confidence\" conlumn. Then return a list that marks which indecies are blinks. \n",
    "def mark_blinks(data):\n",
    "    # Variables initialization:\n",
    "    blinks = []\n",
    "    \n",
    "    min_num_blinks = 2\n",
    "    num_samples = len(data)\n",
    "    i = 0\n",
    "    min_conf = 0.25\n",
    "    \n",
    "    duration_sample_remove_ms = 200\n",
    "    num_samples_removed = int(math.ceil(SAMPLING_RATE / (1000 / duration_sample_remove_ms)))\n",
    "    \n",
    "    # Find blinks, identified by low confidence data.##TODO: get the data into a class.\n",
    "    while i < num_samples:\n",
    "        if data[i] < min_conf and i < num_samples - 1:\n",
    "            runner = 1\n",
    "            next_data = data[i + runner]\n",
    "            while next_data < min_conf:\n",
    "                runner = runner + 1\n",
    "                if i + runner >= num_samples:\n",
    "                    break\n",
    "                next_data = data[i + runner]\n",
    "            \n",
    "            if runner >= min_num_blinks:\n",
    "                blinks.append((i, runner))\n",
    "                \n",
    "            i = i + runner  # This blink is over, update to the next.\n",
    "        else:\n",
    "            i = i + 1\n",
    "    \n",
    "    # Mark data before and after 200ms of blinks.\n",
    "    blink_markers = np.ones(num_samples)\n",
    "    for i in range(len(blinks)):\n",
    "        blink_index = blinks[i][0]\n",
    "        blink_length = blinks[i][1]\n",
    "        \n",
    "        for j in range(0, blink_length):\n",
    "            blink_markers[blink_index + j] = 0\n",
    "        \n",
    "        for j in range(0, num_samples_removed):\n",
    "            decrement_index = blink_index - j\n",
    "            increment_index = blink_index + blink_length + j\n",
    "            \n",
    "            # Check the boundary conditions.\n",
    "            if decrement_index >=0:\n",
    "                blink_markers[decrement_index] = 0\n",
    "            \n",
    "            if increment_index < num_samples:\n",
    "                blink_markers[increment_index] = 0\n",
    "    \n",
    "    return blink_markers"
   ]
  },
  {
   "cell_type": "code",
   "execution_count": 5,
   "id": "7696fd6e",
   "metadata": {},
   "outputs": [
    {
     "data": {
      "text/plain": [
       "0        0.528680\n",
       "1        0.555372\n",
       "2        0.508382\n",
       "3        0.572342\n",
       "4        0.531896\n",
       "           ...   \n",
       "11881    1.000000\n",
       "11882    1.000000\n",
       "11883    0.955047\n",
       "11884    1.000000\n",
       "11885    1.000000\n",
       "Name: Confidence, Length: 11886, dtype: float64"
      ]
     },
     "execution_count": 5,
     "metadata": {},
     "output_type": "execute_result"
    }
   ],
   "source": [
    "## Get confidence column.\n",
    "data_conf = df['Confidence'].copy()\n",
    "data_conf"
   ]
  },
  {
   "cell_type": "code",
   "execution_count": 6,
   "id": "c46699fa",
   "metadata": {},
   "outputs": [
    {
     "data": {
      "text/plain": [
       "array([1., 1., 1., ..., 1., 1., 1.])"
      ]
     },
     "execution_count": 6,
     "metadata": {},
     "output_type": "execute_result"
    }
   ],
   "source": [
    "blink_markers = mark_blinks(data=data_conf)\n",
    "blink_markers"
   ]
  },
  {
   "cell_type": "code",
   "execution_count": 7,
   "id": "397a9bcc",
   "metadata": {},
   "outputs": [
    {
     "name": "stdout",
     "output_type": "stream",
     "text": [
      "192\n"
     ]
    }
   ],
   "source": [
    "## Count the number of data that marked as blinks.\n",
    "print(len(blink_markers[np.where(blink_markers==0)]))"
   ]
  },
  {
   "cell_type": "code",
   "execution_count": 8,
   "id": "1ee191cb",
   "metadata": {},
   "outputs": [
    {
     "data": {
      "text/html": [
       "<div>\n",
       "<style scoped>\n",
       "    .dataframe tbody tr th:only-of-type {\n",
       "        vertical-align: middle;\n",
       "    }\n",
       "\n",
       "    .dataframe tbody tr th {\n",
       "        vertical-align: top;\n",
       "    }\n",
       "\n",
       "    .dataframe thead th {\n",
       "        text-align: right;\n",
       "    }\n",
       "</style>\n",
       "<table border=\"1\" class=\"dataframe\">\n",
       "  <thead>\n",
       "    <tr style=\"text-align: right;\">\n",
       "      <th></th>\n",
       "      <th>Timestamp</th>\n",
       "      <th>Confidence</th>\n",
       "      <th>Diameter</th>\n",
       "      <th>Event</th>\n",
       "      <th>Blink_marks</th>\n",
       "    </tr>\n",
       "  </thead>\n",
       "  <tbody>\n",
       "    <tr>\n",
       "      <th>0</th>\n",
       "      <td>424859.221620</td>\n",
       "      <td>0.528680</td>\n",
       "      <td>2.598907</td>\n",
       "      <td>default</td>\n",
       "      <td>1.0</td>\n",
       "    </tr>\n",
       "    <tr>\n",
       "      <th>1</th>\n",
       "      <td>424859.233974</td>\n",
       "      <td>0.555372</td>\n",
       "      <td>2.654401</td>\n",
       "      <td>default</td>\n",
       "      <td>1.0</td>\n",
       "    </tr>\n",
       "    <tr>\n",
       "      <th>2</th>\n",
       "      <td>424859.242680</td>\n",
       "      <td>0.508382</td>\n",
       "      <td>2.810635</td>\n",
       "      <td>default</td>\n",
       "      <td>1.0</td>\n",
       "    </tr>\n",
       "    <tr>\n",
       "      <th>3</th>\n",
       "      <td>424859.253524</td>\n",
       "      <td>0.572342</td>\n",
       "      <td>2.763808</td>\n",
       "      <td>default</td>\n",
       "      <td>1.0</td>\n",
       "    </tr>\n",
       "    <tr>\n",
       "      <th>4</th>\n",
       "      <td>424859.269089</td>\n",
       "      <td>0.531896</td>\n",
       "      <td>2.738094</td>\n",
       "      <td>default</td>\n",
       "      <td>1.0</td>\n",
       "    </tr>\n",
       "    <tr>\n",
       "      <th>...</th>\n",
       "      <td>...</td>\n",
       "      <td>...</td>\n",
       "      <td>...</td>\n",
       "      <td>...</td>\n",
       "      <td>...</td>\n",
       "    </tr>\n",
       "    <tr>\n",
       "      <th>11881</th>\n",
       "      <td>424974.957097</td>\n",
       "      <td>1.000000</td>\n",
       "      <td>3.367360</td>\n",
       "      <td>sitting</td>\n",
       "      <td>1.0</td>\n",
       "    </tr>\n",
       "    <tr>\n",
       "      <th>11882</th>\n",
       "      <td>424974.967029</td>\n",
       "      <td>1.000000</td>\n",
       "      <td>3.343468</td>\n",
       "      <td>sitting</td>\n",
       "      <td>1.0</td>\n",
       "    </tr>\n",
       "    <tr>\n",
       "      <th>11883</th>\n",
       "      <td>424974.974336</td>\n",
       "      <td>0.955047</td>\n",
       "      <td>3.379915</td>\n",
       "      <td>sitting</td>\n",
       "      <td>1.0</td>\n",
       "    </tr>\n",
       "    <tr>\n",
       "      <th>11884</th>\n",
       "      <td>424974.985883</td>\n",
       "      <td>1.000000</td>\n",
       "      <td>3.366611</td>\n",
       "      <td>sitting</td>\n",
       "      <td>1.0</td>\n",
       "    </tr>\n",
       "    <tr>\n",
       "      <th>11885</th>\n",
       "      <td>424974.996229</td>\n",
       "      <td>1.000000</td>\n",
       "      <td>3.416086</td>\n",
       "      <td>sitting</td>\n",
       "      <td>1.0</td>\n",
       "    </tr>\n",
       "  </tbody>\n",
       "</table>\n",
       "<p>11886 rows × 5 columns</p>\n",
       "</div>"
      ],
      "text/plain": [
       "           Timestamp  Confidence  Diameter    Event  Blink_marks\n",
       "0      424859.221620    0.528680  2.598907  default          1.0\n",
       "1      424859.233974    0.555372  2.654401  default          1.0\n",
       "2      424859.242680    0.508382  2.810635  default          1.0\n",
       "3      424859.253524    0.572342  2.763808  default          1.0\n",
       "4      424859.269089    0.531896  2.738094  default          1.0\n",
       "...              ...         ...       ...      ...          ...\n",
       "11881  424974.957097    1.000000  3.367360  sitting          1.0\n",
       "11882  424974.967029    1.000000  3.343468  sitting          1.0\n",
       "11883  424974.974336    0.955047  3.379915  sitting          1.0\n",
       "11884  424974.985883    1.000000  3.366611  sitting          1.0\n",
       "11885  424974.996229    1.000000  3.416086  sitting          1.0\n",
       "\n",
       "[11886 rows x 5 columns]"
      ]
     },
     "execution_count": 8,
     "metadata": {},
     "output_type": "execute_result"
    }
   ],
   "source": [
    "## Add this column into the dataframe.\n",
    "df['Blink_marks'] = blink_markers\n",
    "df"
   ]
  },
  {
   "cell_type": "code",
   "execution_count": 9,
   "id": "002cb88f",
   "metadata": {},
   "outputs": [
    {
     "name": "stdout",
     "output_type": "stream",
     "text": [
      "192\n",
      "192\n"
     ]
    }
   ],
   "source": [
    "## Remove the blinks.\n",
    "df_no_blinks = df.copy()\n",
    "df_no_blinks['Dia_Deblinked'] = df_no_blinks['Diameter'].copy()\n",
    "df_no_blinks.loc[(df_no_blinks.Blink_marks == 0),'Dia_Deblinked'] = np.nan\n",
    "print(df_no_blinks['Dia_Deblinked'].isna().sum())\n",
    "\n",
    "## Remove data with low confidence.\n",
    "threshold_low_conf = 0.6\n",
    "df_no_low_conf = df_no_blinks.copy()\n",
    "df_no_low_conf.loc[(df_no_low_conf.Blink_marks <= threshold_low_conf),'Dia_Deblinked'] = np.nan\n",
    "print(df_no_low_conf['Dia_Deblinked'].isna().sum())"
   ]
  },
  {
   "cell_type": "code",
   "execution_count": 10,
   "id": "8dcc368b",
   "metadata": {},
   "outputs": [
    {
     "data": {
      "text/plain": [
       "<AxesSubplot:>"
      ]
     },
     "execution_count": 10,
     "metadata": {},
     "output_type": "execute_result"
    },
    {
     "data": {
      "image/png": "[encoded data removed]",
      "text/plain": [
       "<Figure size 432x288 with 1 Axes>"
      ]
     },
     "metadata": {
      "needs_background": "light"
     },
     "output_type": "display_data"
    }
   ],
   "source": [
    "df_de_blinks = df_no_low_conf.copy()\n",
    "df_de_blinks.Dia_Deblinked.plot()"
   ]
  },
  {
   "cell_type": "markdown",
   "id": "c63acc4e",
   "metadata": {},
   "source": [
    "#### Smoothing"
   ]
  },
  {
   "cell_type": "code",
   "execution_count": 11,
   "id": "e80b5626",
   "metadata": {},
   "outputs": [
    {
     "data": {
      "text/plain": [
       "<AxesSubplot:>"
      ]
     },
     "execution_count": 11,
     "metadata": {},
     "output_type": "execute_result"
    },
    {
     "data": {
      "image/png": "[encoded data removed]",
      "text/plain": [
       "<Figure size 432x288 with 1 Axes>"
      ]
     },
     "metadata": {
      "needs_background": "light"
     },
     "output_type": "display_data"
    }
   ],
   "source": [
    "## Smoothing via Moving average or Hanning window.\n",
    "# Hanning window moving average.\n",
    "df_hann = df_de_blinks.copy()\n",
    "df_hann['Dia_Hann'] = df_hann['Dia_Deblinked'].rolling(window=5, center=True, win_type='hann').mean()\n",
    "\n",
    "# Plot.\n",
    "df_hann.Dia_Deblinked.plot()\n",
    "df_hann.Dia_Hann.plot()"
   ]
  },
  {
   "cell_type": "code",
   "execution_count": 12,
   "id": "cf0303fe",
   "metadata": {},
   "outputs": [
    {
     "data": {
      "text/plain": [
       "<AxesSubplot:>"
      ]
     },
     "execution_count": 12,
     "metadata": {},
     "output_type": "execute_result"
    },
    {
     "data": {
      "image/png": "[encoded data removed]",
      "text/plain": [
       "<Figure size 432x288 with 1 Axes>"
      ]
     },
     "metadata": {
      "needs_background": "light"
     },
     "output_type": "display_data"
    }
   ],
   "source": [
    "## Check one data portion.\n",
    "df_hann.Dia_Deblinked.plot(xlim=(2000,3000))\n",
    "df_hann.Dia_Hann.plot()"
   ]
  },
  {
   "cell_type": "markdown",
   "id": "f59c32ab",
   "metadata": {},
   "source": [
    "#### Interpolation"
   ]
  },
  {
   "cell_type": "code",
   "execution_count": 13,
   "id": "8bf7be97",
   "metadata": {},
   "outputs": [],
   "source": [
    "## Interpolation (linear and spline)\n",
    "df_interpolate = df_hann.copy()\n",
    "df_interpolate['Dia_Spline3'] = df_interpolate['Dia_Hann'].interpolate(method='spline',order=3)\n",
    "df_interpolate['Dia_Linear'] = df_interpolate['Dia_Hann'].interpolate(method='linear') # piecewise and linear look almost the same\n",
    "df_interpolate['Dia_Cubic'] = df_interpolate['Dia_Hann'].interpolate(method='cubic')\n",
    "df_interpolate['Dia_PiecewisePoly'] = df_interpolate['Dia_Hann'].interpolate(method='piecewise_polynomial')"
   ]
  },
  {
   "cell_type": "code",
   "execution_count": 14,
   "id": "659a0550",
   "metadata": {},
   "outputs": [
    {
     "data": {
      "text/plain": [
       "<AxesSubplot:>"
      ]
     },
     "execution_count": 14,
     "metadata": {},
     "output_type": "execute_result"
    },
    {
     "data": {
      "image/png": "[encoded data removed]",
      "text/plain": [
       "<Figure size 432x288 with 1 Axes>"
      ]
     },
     "metadata": {
      "needs_background": "light"
     },
     "output_type": "display_data"
    }
   ],
   "source": [
    "# Plot and see the curves.\n",
    "# Initialize boundaries.\n",
    "# xlim_low = 0\n",
    "# xlim_high = 3000\n",
    "# ylim_low = 10\n",
    "# ylim_high = 35\n",
    "\n",
    "# df_interpolate.Dia_Spline3.plot(xlim=(xlim_low,xlim_high),ylim=(ylim_low,ylim_high))\n",
    "df_interpolate.Dia_Spline3.plot() # Feels this interpolation tactic is better.\n",
    "df_interpolate.Dia_Linear.plot()\n",
    "df_interpolate.Dia_Hann.plot()\n",
    "# df_interpolate.Dia_Cubic.plot()\n",
    "# df_interpolate.Dia_PiecewisePoly.plot()  # This seems good as well. Transitions are smooth and natural."
   ]
  },
  {
   "cell_type": "markdown",
   "id": "0f6de0d9",
   "metadata": {},
   "source": [
    "### Artifact rejection"
   ]
  },
  {
   "cell_type": "code",
   "execution_count": 15,
   "id": "19a16254",
   "metadata": {},
   "outputs": [],
   "source": [
    "## This part is directly cited from Sam's work.\n",
    "\n",
    "# Filtering outliers \n",
    "# Lan et al. 2020 - median filter with sliding window of 10s\n",
    "# Testing with numba optimised for-loop implementation of a Hampel Filter\n",
    "# Note to self: I think this filter is also commonly used for pupil diameter filtering\n",
    "\n",
    "@jit(nopython=True)\n",
    "def hampel_filter_forloop_numba(input_series, window_size, n_sigmas=3):\n",
    "    \n",
    "    n = len(input_series)\n",
    "    new_series = input_series.copy()\n",
    "    k = 1.4826 # scale factor for Gaussian distribution\n",
    "    indices = []\n",
    "    \n",
    "    for i in range((window_size),(n - window_size)):\n",
    "        x0 = np.nanmedian(input_series[(i - window_size):(i + window_size)])\n",
    "        S0 = k * np.nanmedian(np.abs(input_series[(i - window_size):(i + window_size)] - x0))\n",
    "        if (np.abs(input_series[i] - x0) > n_sigmas * S0):\n",
    "            new_series[i] = x0\n",
    "            indices.append(i)\n",
    "    \n",
    "    return new_series, indices"
   ]
  },
  {
   "cell_type": "code",
   "execution_count": 16,
   "id": "f6019d9a",
   "metadata": {},
   "outputs": [],
   "source": [
    "df_outlier_reject = df_interpolate.copy()\n",
    "\n",
    "x_SP3, outlier_x_SP3 = hampel_filter_forloop_numba(df_outlier_reject.Dia_Spline3.to_numpy(), 10) #applying hampel filter with win size 10\n",
    "x_L, outlier_x_L = hampel_filter_forloop_numba(df_outlier_reject.Dia_Linear.to_numpy(), 10)\n",
    "df_outlier_reject['Dia_Spline3_Ham'] = x_SP3.tolist()\n",
    "df_outlier_reject['Dia_Linear_Ham'] = x_L.tolist()"
   ]
  },
  {
   "cell_type": "code",
   "execution_count": 17,
   "id": "0faad156",
   "metadata": {},
   "outputs": [
    {
     "data": {
      "text/plain": [
       "<AxesSubplot:>"
      ]
     },
     "execution_count": 17,
     "metadata": {},
     "output_type": "execute_result"
    },
    {
     "data": {
      "image/png": "[encoded data removed]",
      "text/plain": [
       "<Figure size 432x288 with 1 Axes>"
      ]
     },
     "metadata": {
      "needs_background": "light"
     },
     "output_type": "display_data"
    }
   ],
   "source": [
    "# Test spline curve.\n",
    "df_outlier_reject.Dia_Spline3.plot()\n",
    "df_outlier_reject.Dia_Spline3_Ham.plot()"
   ]
  },
  {
   "cell_type": "code",
   "execution_count": 18,
   "id": "bbcc9894",
   "metadata": {},
   "outputs": [
    {
     "data": {
      "text/plain": [
       "<AxesSubplot:>"
      ]
     },
     "execution_count": 18,
     "metadata": {},
     "output_type": "execute_result"
    },
    {
     "data": {
      "image/png": "[encoded data removed]",
      "text/plain": [
       "<Figure size 432x288 with 1 Axes>"
      ]
     },
     "metadata": {
      "needs_background": "light"
     },
     "output_type": "display_data"
    }
   ],
   "source": [
    "# Test linear curve.\n",
    "df_outlier_reject.Dia_Linear.plot()\n",
    "df_outlier_reject.Dia_Linear_Ham.plot()"
   ]
  },
  {
   "cell_type": "markdown",
   "id": "32aa0fc5",
   "metadata": {},
   "source": [
    "### Baseline correction (subtractive)"
   ]
  },
  {
   "cell_type": "code",
   "execution_count": 19,
   "id": "0b4b2a8f",
   "metadata": {},
   "outputs": [
    {
     "data": {
      "text/html": [
       "<div>\n",
       "<style scoped>\n",
       "    .dataframe tbody tr th:only-of-type {\n",
       "        vertical-align: middle;\n",
       "    }\n",
       "\n",
       "    .dataframe tbody tr th {\n",
       "        vertical-align: top;\n",
       "    }\n",
       "\n",
       "    .dataframe thead th {\n",
       "        text-align: right;\n",
       "    }\n",
       "</style>\n",
       "<table border=\"1\" class=\"dataframe\">\n",
       "  <thead>\n",
       "    <tr style=\"text-align: right;\">\n",
       "      <th></th>\n",
       "      <th>Timestamp</th>\n",
       "      <th>Confidence</th>\n",
       "      <th>Diameter</th>\n",
       "      <th>Event</th>\n",
       "      <th>Blink_marks</th>\n",
       "      <th>Dia_Deblinked</th>\n",
       "      <th>Dia_Hann</th>\n",
       "      <th>Dia_Spline3</th>\n",
       "      <th>Dia_Linear</th>\n",
       "      <th>Dia_Cubic</th>\n",
       "      <th>Dia_PiecewisePoly</th>\n",
       "      <th>Dia_Spline3_Ham</th>\n",
       "      <th>Dia_Linear_Ham</th>\n",
       "    </tr>\n",
       "  </thead>\n",
       "  <tbody>\n",
       "    <tr>\n",
       "      <th>0</th>\n",
       "      <td>424859.221620</td>\n",
       "      <td>0.528680</td>\n",
       "      <td>2.598907</td>\n",
       "      <td>default</td>\n",
       "      <td>1.0</td>\n",
       "      <td>2.598907</td>\n",
       "      <td>NaN</td>\n",
       "      <td>NaN</td>\n",
       "      <td>NaN</td>\n",
       "      <td>NaN</td>\n",
       "      <td>NaN</td>\n",
       "      <td>NaN</td>\n",
       "      <td>NaN</td>\n",
       "    </tr>\n",
       "    <tr>\n",
       "      <th>1</th>\n",
       "      <td>424859.233974</td>\n",
       "      <td>0.555372</td>\n",
       "      <td>2.654401</td>\n",
       "      <td>default</td>\n",
       "      <td>1.0</td>\n",
       "      <td>2.654401</td>\n",
       "      <td>NaN</td>\n",
       "      <td>NaN</td>\n",
       "      <td>NaN</td>\n",
       "      <td>NaN</td>\n",
       "      <td>NaN</td>\n",
       "      <td>NaN</td>\n",
       "      <td>NaN</td>\n",
       "    </tr>\n",
       "    <tr>\n",
       "      <th>2</th>\n",
       "      <td>424859.242680</td>\n",
       "      <td>0.508382</td>\n",
       "      <td>2.810635</td>\n",
       "      <td>default</td>\n",
       "      <td>1.0</td>\n",
       "      <td>2.810635</td>\n",
       "      <td>2.759870</td>\n",
       "      <td>2.759870</td>\n",
       "      <td>2.759870</td>\n",
       "      <td>2.759870</td>\n",
       "      <td>2.759870</td>\n",
       "      <td>2.759870</td>\n",
       "      <td>2.759870</td>\n",
       "    </tr>\n",
       "    <tr>\n",
       "      <th>3</th>\n",
       "      <td>424859.253524</td>\n",
       "      <td>0.572342</td>\n",
       "      <td>2.763808</td>\n",
       "      <td>default</td>\n",
       "      <td>1.0</td>\n",
       "      <td>2.763808</td>\n",
       "      <td>2.769086</td>\n",
       "      <td>2.769086</td>\n",
       "      <td>2.769086</td>\n",
       "      <td>2.769086</td>\n",
       "      <td>2.769086</td>\n",
       "      <td>2.769086</td>\n",
       "      <td>2.769086</td>\n",
       "    </tr>\n",
       "    <tr>\n",
       "      <th>4</th>\n",
       "      <td>424859.269089</td>\n",
       "      <td>0.531896</td>\n",
       "      <td>2.738094</td>\n",
       "      <td>default</td>\n",
       "      <td>1.0</td>\n",
       "      <td>2.738094</td>\n",
       "      <td>2.751070</td>\n",
       "      <td>2.751070</td>\n",
       "      <td>2.751070</td>\n",
       "      <td>2.751070</td>\n",
       "      <td>2.751070</td>\n",
       "      <td>2.751070</td>\n",
       "      <td>2.751070</td>\n",
       "    </tr>\n",
       "    <tr>\n",
       "      <th>...</th>\n",
       "      <td>...</td>\n",
       "      <td>...</td>\n",
       "      <td>...</td>\n",
       "      <td>...</td>\n",
       "      <td>...</td>\n",
       "      <td>...</td>\n",
       "      <td>...</td>\n",
       "      <td>...</td>\n",
       "      <td>...</td>\n",
       "      <td>...</td>\n",
       "      <td>...</td>\n",
       "      <td>...</td>\n",
       "      <td>...</td>\n",
       "    </tr>\n",
       "    <tr>\n",
       "      <th>1491</th>\n",
       "      <td>424874.277970</td>\n",
       "      <td>0.914892</td>\n",
       "      <td>2.805184</td>\n",
       "      <td>default</td>\n",
       "      <td>1.0</td>\n",
       "      <td>2.805184</td>\n",
       "      <td>2.798578</td>\n",
       "      <td>2.798578</td>\n",
       "      <td>2.798578</td>\n",
       "      <td>2.798578</td>\n",
       "      <td>2.798578</td>\n",
       "      <td>2.798578</td>\n",
       "      <td>2.798578</td>\n",
       "    </tr>\n",
       "    <tr>\n",
       "      <th>1492</th>\n",
       "      <td>424874.289375</td>\n",
       "      <td>0.831757</td>\n",
       "      <td>2.782688</td>\n",
       "      <td>default</td>\n",
       "      <td>1.0</td>\n",
       "      <td>2.782688</td>\n",
       "      <td>2.795203</td>\n",
       "      <td>2.795203</td>\n",
       "      <td>2.795203</td>\n",
       "      <td>2.795203</td>\n",
       "      <td>2.795203</td>\n",
       "      <td>2.795203</td>\n",
       "      <td>2.795203</td>\n",
       "    </tr>\n",
       "    <tr>\n",
       "      <th>1493</th>\n",
       "      <td>424874.298534</td>\n",
       "      <td>0.901028</td>\n",
       "      <td>2.810254</td>\n",
       "      <td>default</td>\n",
       "      <td>1.0</td>\n",
       "      <td>2.810254</td>\n",
       "      <td>2.804596</td>\n",
       "      <td>2.804596</td>\n",
       "      <td>2.804596</td>\n",
       "      <td>2.804596</td>\n",
       "      <td>2.804596</td>\n",
       "      <td>2.804596</td>\n",
       "      <td>2.804596</td>\n",
       "    </tr>\n",
       "    <tr>\n",
       "      <th>1494</th>\n",
       "      <td>424874.309159</td>\n",
       "      <td>0.798587</td>\n",
       "      <td>2.815188</td>\n",
       "      <td>default</td>\n",
       "      <td>1.0</td>\n",
       "      <td>2.815188</td>\n",
       "      <td>2.810131</td>\n",
       "      <td>2.810131</td>\n",
       "      <td>2.810131</td>\n",
       "      <td>2.810131</td>\n",
       "      <td>2.810131</td>\n",
       "      <td>2.810131</td>\n",
       "      <td>2.810131</td>\n",
       "    </tr>\n",
       "    <tr>\n",
       "      <th>1495</th>\n",
       "      <td>424874.319911</td>\n",
       "      <td>0.921996</td>\n",
       "      <td>2.799894</td>\n",
       "      <td>default</td>\n",
       "      <td>1.0</td>\n",
       "      <td>2.799894</td>\n",
       "      <td>2.800196</td>\n",
       "      <td>2.800196</td>\n",
       "      <td>2.800196</td>\n",
       "      <td>2.800196</td>\n",
       "      <td>2.800196</td>\n",
       "      <td>2.800196</td>\n",
       "      <td>2.800196</td>\n",
       "    </tr>\n",
       "  </tbody>\n",
       "</table>\n",
       "<p>1496 rows × 13 columns</p>\n",
       "</div>"
      ],
      "text/plain": [
       "          Timestamp  Confidence  Diameter    Event  Blink_marks  \\\n",
       "0     424859.221620    0.528680  2.598907  default          1.0   \n",
       "1     424859.233974    0.555372  2.654401  default          1.0   \n",
       "2     424859.242680    0.508382  2.810635  default          1.0   \n",
       "3     424859.253524    0.572342  2.763808  default          1.0   \n",
       "4     424859.269089    0.531896  2.738094  default          1.0   \n",
       "...             ...         ...       ...      ...          ...   \n",
       "1491  424874.277970    0.914892  2.805184  default          1.0   \n",
       "1492  424874.289375    0.831757  2.782688  default          1.0   \n",
       "1493  424874.298534    0.901028  2.810254  default          1.0   \n",
       "1494  424874.309159    0.798587  2.815188  default          1.0   \n",
       "1495  424874.319911    0.921996  2.799894  default          1.0   \n",
       "\n",
       "      Dia_Deblinked  Dia_Hann  Dia_Spline3  Dia_Linear  Dia_Cubic  \\\n",
       "0          2.598907       NaN          NaN         NaN        NaN   \n",
       "1          2.654401       NaN          NaN         NaN        NaN   \n",
       "2          2.810635  2.759870     2.759870    2.759870   2.759870   \n",
       "3          2.763808  2.769086     2.769086    2.769086   2.769086   \n",
       "4          2.738094  2.751070     2.751070    2.751070   2.751070   \n",
       "...             ...       ...          ...         ...        ...   \n",
       "1491       2.805184  2.798578     2.798578    2.798578   2.798578   \n",
       "1492       2.782688  2.795203     2.795203    2.795203   2.795203   \n",
       "1493       2.810254  2.804596     2.804596    2.804596   2.804596   \n",
       "1494       2.815188  2.810131     2.810131    2.810131   2.810131   \n",
       "1495       2.799894  2.800196     2.800196    2.800196   2.800196   \n",
       "\n",
       "      Dia_PiecewisePoly  Dia_Spline3_Ham  Dia_Linear_Ham  \n",
       "0                   NaN              NaN             NaN  \n",
       "1                   NaN              NaN             NaN  \n",
       "2              2.759870         2.759870        2.759870  \n",
       "3              2.769086         2.769086        2.769086  \n",
       "4              2.751070         2.751070        2.751070  \n",
       "...                 ...              ...             ...  \n",
       "1491           2.798578         2.798578        2.798578  \n",
       "1492           2.795203         2.795203        2.795203  \n",
       "1493           2.804596         2.804596        2.804596  \n",
       "1494           2.810131         2.810131        2.810131  \n",
       "1495           2.800196         2.800196        2.800196  \n",
       "\n",
       "[1496 rows x 13 columns]"
      ]
     },
     "execution_count": 19,
     "metadata": {},
     "output_type": "execute_result"
    }
   ],
   "source": [
    "df_baseline_corr = df_outlier_reject.copy()\n",
    "df_baseline = df_baseline_corr[(df_outlier_reject.Event == 'default')]\n",
    "df_baseline"
   ]
  },
  {
   "cell_type": "code",
   "execution_count": 20,
   "id": "549428e2",
   "metadata": {},
   "outputs": [
    {
     "data": {
      "text/html": [
       "<div>\n",
       "<style scoped>\n",
       "    .dataframe tbody tr th:only-of-type {\n",
       "        vertical-align: middle;\n",
       "    }\n",
       "\n",
       "    .dataframe tbody tr th {\n",
       "        vertical-align: top;\n",
       "    }\n",
       "\n",
       "    .dataframe thead th {\n",
       "        text-align: right;\n",
       "    }\n",
       "</style>\n",
       "<table border=\"1\" class=\"dataframe\">\n",
       "  <thead>\n",
       "    <tr style=\"text-align: right;\">\n",
       "      <th></th>\n",
       "      <th>Timestamp</th>\n",
       "      <th>Confidence</th>\n",
       "      <th>Diameter</th>\n",
       "      <th>Event</th>\n",
       "      <th>Blink_marks</th>\n",
       "      <th>Dia_Deblinked</th>\n",
       "      <th>Dia_Hann</th>\n",
       "      <th>Dia_Spline3</th>\n",
       "      <th>Dia_Linear</th>\n",
       "      <th>Dia_Cubic</th>\n",
       "      <th>Dia_PiecewisePoly</th>\n",
       "      <th>Dia_Spline3_Ham</th>\n",
       "      <th>Dia_Linear_Ham</th>\n",
       "      <th>Dia_Spline3_Base</th>\n",
       "    </tr>\n",
       "  </thead>\n",
       "  <tbody>\n",
       "    <tr>\n",
       "      <th>0</th>\n",
       "      <td>424859.221620</td>\n",
       "      <td>0.528680</td>\n",
       "      <td>2.598907</td>\n",
       "      <td>default</td>\n",
       "      <td>1.0</td>\n",
       "      <td>2.598907</td>\n",
       "      <td>NaN</td>\n",
       "      <td>NaN</td>\n",
       "      <td>NaN</td>\n",
       "      <td>NaN</td>\n",
       "      <td>NaN</td>\n",
       "      <td>NaN</td>\n",
       "      <td>NaN</td>\n",
       "      <td>NaN</td>\n",
       "    </tr>\n",
       "    <tr>\n",
       "      <th>1</th>\n",
       "      <td>424859.233974</td>\n",
       "      <td>0.555372</td>\n",
       "      <td>2.654401</td>\n",
       "      <td>default</td>\n",
       "      <td>1.0</td>\n",
       "      <td>2.654401</td>\n",
       "      <td>NaN</td>\n",
       "      <td>NaN</td>\n",
       "      <td>NaN</td>\n",
       "      <td>NaN</td>\n",
       "      <td>NaN</td>\n",
       "      <td>NaN</td>\n",
       "      <td>NaN</td>\n",
       "      <td>NaN</td>\n",
       "    </tr>\n",
       "    <tr>\n",
       "      <th>2</th>\n",
       "      <td>424859.242680</td>\n",
       "      <td>0.508382</td>\n",
       "      <td>2.810635</td>\n",
       "      <td>default</td>\n",
       "      <td>1.0</td>\n",
       "      <td>2.810635</td>\n",
       "      <td>2.759870</td>\n",
       "      <td>2.759870</td>\n",
       "      <td>2.759870</td>\n",
       "      <td>2.759870</td>\n",
       "      <td>2.759870</td>\n",
       "      <td>2.759870</td>\n",
       "      <td>2.759870</td>\n",
       "      <td>0.268914</td>\n",
       "    </tr>\n",
       "    <tr>\n",
       "      <th>3</th>\n",
       "      <td>424859.253524</td>\n",
       "      <td>0.572342</td>\n",
       "      <td>2.763808</td>\n",
       "      <td>default</td>\n",
       "      <td>1.0</td>\n",
       "      <td>2.763808</td>\n",
       "      <td>2.769086</td>\n",
       "      <td>2.769086</td>\n",
       "      <td>2.769086</td>\n",
       "      <td>2.769086</td>\n",
       "      <td>2.769086</td>\n",
       "      <td>2.769086</td>\n",
       "      <td>2.769086</td>\n",
       "      <td>0.278130</td>\n",
       "    </tr>\n",
       "    <tr>\n",
       "      <th>4</th>\n",
       "      <td>424859.269089</td>\n",
       "      <td>0.531896</td>\n",
       "      <td>2.738094</td>\n",
       "      <td>default</td>\n",
       "      <td>1.0</td>\n",
       "      <td>2.738094</td>\n",
       "      <td>2.751070</td>\n",
       "      <td>2.751070</td>\n",
       "      <td>2.751070</td>\n",
       "      <td>2.751070</td>\n",
       "      <td>2.751070</td>\n",
       "      <td>2.751070</td>\n",
       "      <td>2.751070</td>\n",
       "      <td>0.260114</td>\n",
       "    </tr>\n",
       "    <tr>\n",
       "      <th>...</th>\n",
       "      <td>...</td>\n",
       "      <td>...</td>\n",
       "      <td>...</td>\n",
       "      <td>...</td>\n",
       "      <td>...</td>\n",
       "      <td>...</td>\n",
       "      <td>...</td>\n",
       "      <td>...</td>\n",
       "      <td>...</td>\n",
       "      <td>...</td>\n",
       "      <td>...</td>\n",
       "      <td>...</td>\n",
       "      <td>...</td>\n",
       "      <td>...</td>\n",
       "    </tr>\n",
       "    <tr>\n",
       "      <th>11881</th>\n",
       "      <td>424974.957097</td>\n",
       "      <td>1.000000</td>\n",
       "      <td>3.367360</td>\n",
       "      <td>sitting</td>\n",
       "      <td>1.0</td>\n",
       "      <td>3.367360</td>\n",
       "      <td>3.362873</td>\n",
       "      <td>3.362873</td>\n",
       "      <td>3.362873</td>\n",
       "      <td>3.362873</td>\n",
       "      <td>3.362873</td>\n",
       "      <td>3.362873</td>\n",
       "      <td>3.362873</td>\n",
       "      <td>0.871917</td>\n",
       "    </tr>\n",
       "    <tr>\n",
       "      <th>11882</th>\n",
       "      <td>424974.967029</td>\n",
       "      <td>1.000000</td>\n",
       "      <td>3.343468</td>\n",
       "      <td>sitting</td>\n",
       "      <td>1.0</td>\n",
       "      <td>3.343468</td>\n",
       "      <td>3.358553</td>\n",
       "      <td>3.358553</td>\n",
       "      <td>3.358553</td>\n",
       "      <td>3.358553</td>\n",
       "      <td>3.358553</td>\n",
       "      <td>3.358553</td>\n",
       "      <td>3.358553</td>\n",
       "      <td>0.867597</td>\n",
       "    </tr>\n",
       "    <tr>\n",
       "      <th>11883</th>\n",
       "      <td>424974.974336</td>\n",
       "      <td>0.955047</td>\n",
       "      <td>3.379915</td>\n",
       "      <td>sitting</td>\n",
       "      <td>1.0</td>\n",
       "      <td>3.379915</td>\n",
       "      <td>3.367477</td>\n",
       "      <td>3.367477</td>\n",
       "      <td>3.367477</td>\n",
       "      <td>3.367477</td>\n",
       "      <td>3.367477</td>\n",
       "      <td>3.367477</td>\n",
       "      <td>3.367477</td>\n",
       "      <td>0.876521</td>\n",
       "    </tr>\n",
       "    <tr>\n",
       "      <th>11884</th>\n",
       "      <td>424974.985883</td>\n",
       "      <td>1.000000</td>\n",
       "      <td>3.366611</td>\n",
       "      <td>sitting</td>\n",
       "      <td>1.0</td>\n",
       "      <td>3.366611</td>\n",
       "      <td>NaN</td>\n",
       "      <td>3.282103</td>\n",
       "      <td>3.367477</td>\n",
       "      <td>NaN</td>\n",
       "      <td>NaN</td>\n",
       "      <td>3.282103</td>\n",
       "      <td>3.367477</td>\n",
       "      <td>0.791146</td>\n",
       "    </tr>\n",
       "    <tr>\n",
       "      <th>11885</th>\n",
       "      <td>424974.996229</td>\n",
       "      <td>1.000000</td>\n",
       "      <td>3.416086</td>\n",
       "      <td>sitting</td>\n",
       "      <td>1.0</td>\n",
       "      <td>3.416086</td>\n",
       "      <td>NaN</td>\n",
       "      <td>3.282333</td>\n",
       "      <td>3.367477</td>\n",
       "      <td>NaN</td>\n",
       "      <td>NaN</td>\n",
       "      <td>3.282333</td>\n",
       "      <td>3.367477</td>\n",
       "      <td>0.791377</td>\n",
       "    </tr>\n",
       "  </tbody>\n",
       "</table>\n",
       "<p>11886 rows × 14 columns</p>\n",
       "</div>"
      ],
      "text/plain": [
       "           Timestamp  Confidence  Diameter    Event  Blink_marks  \\\n",
       "0      424859.221620    0.528680  2.598907  default          1.0   \n",
       "1      424859.233974    0.555372  2.654401  default          1.0   \n",
       "2      424859.242680    0.508382  2.810635  default          1.0   \n",
       "3      424859.253524    0.572342  2.763808  default          1.0   \n",
       "4      424859.269089    0.531896  2.738094  default          1.0   \n",
       "...              ...         ...       ...      ...          ...   \n",
       "11881  424974.957097    1.000000  3.367360  sitting          1.0   \n",
       "11882  424974.967029    1.000000  3.343468  sitting          1.0   \n",
       "11883  424974.974336    0.955047  3.379915  sitting          1.0   \n",
       "11884  424974.985883    1.000000  3.366611  sitting          1.0   \n",
       "11885  424974.996229    1.000000  3.416086  sitting          1.0   \n",
       "\n",
       "       Dia_Deblinked  Dia_Hann  Dia_Spline3  Dia_Linear  Dia_Cubic  \\\n",
       "0           2.598907       NaN          NaN         NaN        NaN   \n",
       "1           2.654401       NaN          NaN         NaN        NaN   \n",
       "2           2.810635  2.759870     2.759870    2.759870   2.759870   \n",
       "3           2.763808  2.769086     2.769086    2.769086   2.769086   \n",
       "4           2.738094  2.751070     2.751070    2.751070   2.751070   \n",
       "...              ...       ...          ...         ...        ...   \n",
       "11881       3.367360  3.362873     3.362873    3.362873   3.362873   \n",
       "11882       3.343468  3.358553     3.358553    3.358553   3.358553   \n",
       "11883       3.379915  3.367477     3.367477    3.367477   3.367477   \n",
       "11884       3.366611       NaN     3.282103    3.367477        NaN   \n",
       "11885       3.416086       NaN     3.282333    3.367477        NaN   \n",
       "\n",
       "       Dia_PiecewisePoly  Dia_Spline3_Ham  Dia_Linear_Ham  Dia_Spline3_Base  \n",
       "0                    NaN              NaN             NaN               NaN  \n",
       "1                    NaN              NaN             NaN               NaN  \n",
       "2               2.759870         2.759870        2.759870          0.268914  \n",
       "3               2.769086         2.769086        2.769086          0.278130  \n",
       "4               2.751070         2.751070        2.751070          0.260114  \n",
       "...                  ...              ...             ...               ...  \n",
       "11881           3.362873         3.362873        3.362873          0.871917  \n",
       "11882           3.358553         3.358553        3.358553          0.867597  \n",
       "11883           3.367477         3.367477        3.367477          0.876521  \n",
       "11884                NaN         3.282103        3.367477          0.791146  \n",
       "11885                NaN         3.282333        3.367477          0.791377  \n",
       "\n",
       "[11886 rows x 14 columns]"
      ]
     },
     "execution_count": 20,
     "metadata": {},
     "output_type": "execute_result"
    }
   ],
   "source": [
    "base_median = df_baseline.Dia_Spline3_Ham.median()\n",
    "df_baseline_corr['Dia_Spline3_Base'] = df_baseline_corr['Dia_Spline3_Ham'] - base_median\n",
    "# df_baseline_corr['Dia_Spline3_Base'] = df_baseline_corr['Dia_Spline3_Ham'] / base_median\n",
    "df_baseline_corr"
   ]
  },
  {
   "cell_type": "code",
   "execution_count": 21,
   "id": "a4c39add",
   "metadata": {},
   "outputs": [
    {
     "data": {
      "text/plain": [
       "<AxesSubplot:>"
      ]
     },
     "execution_count": 21,
     "metadata": {},
     "output_type": "execute_result"
    },
    {
     "data": {
      "image/png": "[encoded data removed]",
      "text/plain": [
       "<Figure size 432x288 with 1 Axes>"
      ]
     },
     "metadata": {
      "needs_background": "light"
     },
     "output_type": "display_data"
    }
   ],
   "source": [
    "# Test with plots.\n",
    "df_baseline_corr.Dia_Spline3_Ham.plot()\n",
    "df_baseline_corr.Dia_Spline3_Base.plot()"
   ]
  },
  {
   "cell_type": "code",
   "execution_count": 22,
   "id": "694a4742",
   "metadata": {},
   "outputs": [],
   "source": [
    "# Split data according to different events. Return one-d arrays that could be directly processed later.\n",
    "diameter_default = df_baseline_corr[(df_baseline_corr.Event == 'default')].Dia_Spline3_Base\n",
    "diameter_sitting = df_baseline_corr[(df_baseline_corr.Event == 'sitting')].Dia_Spline3_Base\n",
    "diameter_reading_sitting = df_baseline_corr[(df_baseline_corr.Event == 'reading-sitting')].Dia_Spline3_Base"
   ]
  },
  {
   "cell_type": "markdown",
   "id": "9ff86356",
   "metadata": {},
   "source": [
    "### Export data to csv for processing"
   ]
  },
  {
   "cell_type": "code",
   "execution_count": 23,
   "id": "692b05cc",
   "metadata": {},
   "outputs": [
    {
     "data": {
      "text/html": [
       "<div>\n",
       "<style scoped>\n",
       "    .dataframe tbody tr th:only-of-type {\n",
       "        vertical-align: middle;\n",
       "    }\n",
       "\n",
       "    .dataframe tbody tr th {\n",
       "        vertical-align: top;\n",
       "    }\n",
       "\n",
       "    .dataframe thead th {\n",
       "        text-align: right;\n",
       "    }\n",
       "</style>\n",
       "<table border=\"1\" class=\"dataframe\">\n",
       "  <thead>\n",
       "    <tr style=\"text-align: right;\">\n",
       "      <th></th>\n",
       "      <th>Dia_Spline3_Base</th>\n",
       "      <th>Event</th>\n",
       "    </tr>\n",
       "  </thead>\n",
       "  <tbody>\n",
       "    <tr>\n",
       "      <th>2</th>\n",
       "      <td>0.268914</td>\n",
       "      <td>default</td>\n",
       "    </tr>\n",
       "    <tr>\n",
       "      <th>3</th>\n",
       "      <td>0.278130</td>\n",
       "      <td>default</td>\n",
       "    </tr>\n",
       "    <tr>\n",
       "      <th>4</th>\n",
       "      <td>0.260114</td>\n",
       "      <td>default</td>\n",
       "    </tr>\n",
       "    <tr>\n",
       "      <th>5</th>\n",
       "      <td>0.334476</td>\n",
       "      <td>default</td>\n",
       "    </tr>\n",
       "    <tr>\n",
       "      <th>6</th>\n",
       "      <td>0.424272</td>\n",
       "      <td>default</td>\n",
       "    </tr>\n",
       "    <tr>\n",
       "      <th>...</th>\n",
       "      <td>...</td>\n",
       "      <td>...</td>\n",
       "    </tr>\n",
       "    <tr>\n",
       "      <th>11881</th>\n",
       "      <td>0.871917</td>\n",
       "      <td>sitting</td>\n",
       "    </tr>\n",
       "    <tr>\n",
       "      <th>11882</th>\n",
       "      <td>0.867597</td>\n",
       "      <td>sitting</td>\n",
       "    </tr>\n",
       "    <tr>\n",
       "      <th>11883</th>\n",
       "      <td>0.876521</td>\n",
       "      <td>sitting</td>\n",
       "    </tr>\n",
       "    <tr>\n",
       "      <th>11884</th>\n",
       "      <td>0.791146</td>\n",
       "      <td>sitting</td>\n",
       "    </tr>\n",
       "    <tr>\n",
       "      <th>11885</th>\n",
       "      <td>0.791377</td>\n",
       "      <td>sitting</td>\n",
       "    </tr>\n",
       "  </tbody>\n",
       "</table>\n",
       "<p>11884 rows × 2 columns</p>\n",
       "</div>"
      ],
      "text/plain": [
       "       Dia_Spline3_Base    Event\n",
       "2              0.268914  default\n",
       "3              0.278130  default\n",
       "4              0.260114  default\n",
       "5              0.334476  default\n",
       "6              0.424272  default\n",
       "...                 ...      ...\n",
       "11881          0.871917  sitting\n",
       "11882          0.867597  sitting\n",
       "11883          0.876521  sitting\n",
       "11884          0.791146  sitting\n",
       "11885          0.791377  sitting\n",
       "\n",
       "[11884 rows x 2 columns]"
      ]
     },
     "execution_count": 23,
     "metadata": {},
     "output_type": "execute_result"
    }
   ],
   "source": [
    "df_export = df_baseline_corr[['Dia_Spline3_Base', 'Event']].copy()\n",
    "# Get rid of the nan values.\n",
    "df_export = df_export.dropna()\n",
    "df_export"
   ]
  },
  {
   "cell_type": "code",
   "execution_count": 24,
   "id": "d6f41d28",
   "metadata": {},
   "outputs": [],
   "source": [
    "# Export data.\n",
    "file_name = read_file_path.split('/')[-2:]\n",
    "\n",
    "folder_path = '../Data/PreprocessedData/' + file_name[0] + '/'\n",
    "if os.path.exists(folder_path) is False:\n",
    "    os.makedirs(folder_path)\n",
    "\n",
    "write_file_path = folder_path + file_name[1]\n",
    "df_export.to_csv(write_file_path)"
   ]
  },
  {
   "cell_type": "code",
   "execution_count": 25,
   "id": "fc5774ce",
   "metadata": {},
   "outputs": [
    {
     "name": "stdout",
     "output_type": "stream",
     "text": [
      "Stored 'write_file_path' (str)\n",
      "Stored 'SAMPLING_RATE' (int)\n"
     ]
    }
   ],
   "source": [
    "# Store the file name to be used in computing file.\n",
    "%store write_file_path\n",
    "\n",
    "# Store the sampling rate to be used in the computing file.\n",
    "%store SAMPLING_RATE"
   ]
  },
  {
   "cell_type": "code",
   "execution_count": 26,
   "id": "7c891da0",
   "metadata": {},
   "outputs": [
    {
     "name": "stdout",
     "output_type": "stream",
     "text": [
      "Data read from: ../Data/PreprocessedData/08-09-13-02-lowlux-TWOBACK/right3D_102Hz.csv\n"
     ]
    },
    {
     "data": {
      "text/plain": [
       "2.0515"
      ]
     },
     "execution_count": 26,
     "metadata": {},
     "output_type": "execute_result"
    }
   ],
   "source": [
    "# Run the algorithm from the specific file.\n",
    "%run ./PreprocessedPupilDataIPAComputing.ipynb\n",
    "lhipa  # Directly access to the target data."
   ]
  },
  {
   "cell_type": "code",
   "execution_count": 27,
   "id": "21180d6c",
   "metadata": {},
   "outputs": [],
   "source": [
    "# import papermill as pm\n",
    "\n",
    "# pm.execute_notebook(\n",
    "#    './PreprocessedPupilDataIPAComputing.ipynb',\n",
    "#    './Results.ipynb'\n",
    "# )"
   ]
  },
  {
   "cell_type": "code",
   "execution_count": null,
   "id": "80c91f70",
   "metadata": {},
   "outputs": [],
   "source": []
  }
 ],
 "metadata": {
  "kernelspec": {
   "display_name": "Python 3 (ipykernel)",
   "language": "python",
   "name": "python3"
  },
  "language_info": {
   "codemirror_mode": {
    "name": "ipython",
    "version": 3
   },
   "file_extension": ".py",
   "mimetype": "text/x-python",
   "name": "python",
   "nbconvert_exporter": "python",
   "pygments_lexer": "ipython3",
   "version": "3.9.12"
  }
 },
 "nbformat": 4,
 "nbformat_minor": 5
}
