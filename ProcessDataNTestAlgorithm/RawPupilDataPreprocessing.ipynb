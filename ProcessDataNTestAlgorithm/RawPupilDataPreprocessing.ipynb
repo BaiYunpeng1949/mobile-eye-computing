{
 "cells": [
  {
   "cell_type": "markdown",
   "id": "11221662",
   "metadata": {},
   "source": [
    "## Raw pupil data preprocessing"
   ]
  },
  {
   "cell_type": "markdown",
   "id": "cd93970d",
   "metadata": {},
   "source": [
    "### Reference"
   ]
  },
  {
   "cell_type": "markdown",
   "id": "2024040e",
   "metadata": {},
   "source": [
    "Major referenced papers:\n",
    "1. Total VREcall, https://dl-acm-org.libproxy1.nus.edu.sg/doi/10.1145/3534615 \n",
    "2. GazeR: A Package for Processing Gaze Position and Pupil Size Data. https://pubmed.ncbi.nlm.nih.gov/32291732/ \n",
    "3. ComputationalMR. https://github.com/eth-ait/ComputationalMR "
   ]
  },
  {
   "cell_type": "code",
   "execution_count": 1,
   "id": "ef2d9d0c",
   "metadata": {},
   "outputs": [],
   "source": [
    "import pandas as pd\n",
    "from matplotlib import pyplot as plt\n",
    "import numpy as np\n",
    "from numba import jit\n",
    "import math, os\n",
    "\n",
    "def plotter(ax, data1, data2, param_dict):\n",
    "    out = ax.plot(data1, data2, **param_dict)\n",
    "    return out"
   ]
  },
  {
   "cell_type": "markdown",
   "id": "2c962dda",
   "metadata": {},
   "source": [
    "### Read raw data"
   ]
  },
  {
   "cell_type": "code",
   "execution_count": 2,
   "id": "8ada7035",
   "metadata": {},
   "outputs": [],
   "source": [
    "read_file_path = '../Data/RawData/24-08-16-20-stand-noread/left2D_84Hz.csv'\n",
    "SAMPLING_RATE = int((read_file_path.split('_')[-1]).split('Hz')[0])\n",
    "data = pd.read_csv(read_file_path)"
   ]
  },
  {
   "cell_type": "code",
   "execution_count": 3,
   "id": "ecde1faa",
   "metadata": {},
   "outputs": [
    {
     "data": {
      "text/html": [
       "<div>\n",
       "<style scoped>\n",
       "    .dataframe tbody tr th:only-of-type {\n",
       "        vertical-align: middle;\n",
       "    }\n",
       "\n",
       "    .dataframe tbody tr th {\n",
       "        vertical-align: top;\n",
       "    }\n",
       "\n",
       "    .dataframe thead th {\n",
       "        text-align: right;\n",
       "    }\n",
       "</style>\n",
       "<table border=\"1\" class=\"dataframe\">\n",
       "  <thead>\n",
       "    <tr style=\"text-align: right;\">\n",
       "      <th></th>\n",
       "      <th>Timestamp</th>\n",
       "      <th>Confidence</th>\n",
       "      <th>Diameter</th>\n",
       "      <th>Event</th>\n",
       "    </tr>\n",
       "  </thead>\n",
       "  <tbody>\n",
       "    <tr>\n",
       "      <th>0</th>\n",
       "      <td>706449.878971</td>\n",
       "      <td>1.000000</td>\n",
       "      <td>25.834919</td>\n",
       "      <td>default</td>\n",
       "    </tr>\n",
       "    <tr>\n",
       "      <th>1</th>\n",
       "      <td>706449.888028</td>\n",
       "      <td>1.000000</td>\n",
       "      <td>25.952595</td>\n",
       "      <td>default</td>\n",
       "    </tr>\n",
       "    <tr>\n",
       "      <th>2</th>\n",
       "      <td>706449.899402</td>\n",
       "      <td>1.000000</td>\n",
       "      <td>26.135017</td>\n",
       "      <td>default</td>\n",
       "    </tr>\n",
       "    <tr>\n",
       "      <th>3</th>\n",
       "      <td>706449.919906</td>\n",
       "      <td>0.941435</td>\n",
       "      <td>25.987923</td>\n",
       "      <td>default</td>\n",
       "    </tr>\n",
       "    <tr>\n",
       "      <th>4</th>\n",
       "      <td>706449.933139</td>\n",
       "      <td>1.000000</td>\n",
       "      <td>25.943304</td>\n",
       "      <td>default</td>\n",
       "    </tr>\n",
       "    <tr>\n",
       "      <th>...</th>\n",
       "      <td>...</td>\n",
       "      <td>...</td>\n",
       "      <td>...</td>\n",
       "      <td>...</td>\n",
       "    </tr>\n",
       "    <tr>\n",
       "      <th>3415</th>\n",
       "      <td>706490.179684</td>\n",
       "      <td>1.000000</td>\n",
       "      <td>19.809399</td>\n",
       "      <td>sitting</td>\n",
       "    </tr>\n",
       "    <tr>\n",
       "      <th>3416</th>\n",
       "      <td>706490.192706</td>\n",
       "      <td>1.000000</td>\n",
       "      <td>19.893776</td>\n",
       "      <td>sitting</td>\n",
       "    </tr>\n",
       "    <tr>\n",
       "      <th>3417</th>\n",
       "      <td>706490.202138</td>\n",
       "      <td>1.000000</td>\n",
       "      <td>19.820501</td>\n",
       "      <td>sitting</td>\n",
       "    </tr>\n",
       "    <tr>\n",
       "      <th>3418</th>\n",
       "      <td>706490.211511</td>\n",
       "      <td>1.000000</td>\n",
       "      <td>19.988155</td>\n",
       "      <td>sitting</td>\n",
       "    </tr>\n",
       "    <tr>\n",
       "      <th>3419</th>\n",
       "      <td>706490.223947</td>\n",
       "      <td>1.000000</td>\n",
       "      <td>19.833395</td>\n",
       "      <td>sitting</td>\n",
       "    </tr>\n",
       "  </tbody>\n",
       "</table>\n",
       "<p>3420 rows × 4 columns</p>\n",
       "</div>"
      ],
      "text/plain": [
       "          Timestamp  Confidence   Diameter    Event\n",
       "0     706449.878971    1.000000  25.834919  default\n",
       "1     706449.888028    1.000000  25.952595  default\n",
       "2     706449.899402    1.000000  26.135017  default\n",
       "3     706449.919906    0.941435  25.987923  default\n",
       "4     706449.933139    1.000000  25.943304  default\n",
       "...             ...         ...        ...      ...\n",
       "3415  706490.179684    1.000000  19.809399  sitting\n",
       "3416  706490.192706    1.000000  19.893776  sitting\n",
       "3417  706490.202138    1.000000  19.820501  sitting\n",
       "3418  706490.211511    1.000000  19.988155  sitting\n",
       "3419  706490.223947    1.000000  19.833395  sitting\n",
       "\n",
       "[3420 rows x 4 columns]"
      ]
     },
     "execution_count": 3,
     "metadata": {},
     "output_type": "execute_result"
    }
   ],
   "source": [
    "df = data[['Timestamp','Confidence','Diameter','Event']].copy()\n",
    "df"
   ]
  },
  {
   "cell_type": "markdown",
   "id": "f93e9d7d",
   "metadata": {},
   "source": [
    "### De-blinking and remove data with low confidence"
   ]
  },
  {
   "cell_type": "markdown",
   "id": "44fb06c4",
   "metadata": {},
   "source": [
    "#### Extending blinks"
   ]
  },
  {
   "cell_type": "code",
   "execution_count": 4,
   "id": "1880a52b",
   "metadata": {},
   "outputs": [],
   "source": [
    "## Check how David Linderbaure's group deal with the blinks. Use confidence to identify blinks. They removed the data within 200ms. However, they did not interpolate the eliminated ones.\n",
    "## Here I clean data before and after 200ms of blinks. The input is the numpy data list of the \"confidence\" conlumn. Then return a list that marks which indecies are blinks. \n",
    "def mark_blinks(data):\n",
    "    # Variables initialization:\n",
    "    blinks = []\n",
    "    \n",
    "    min_num_blinks = 2\n",
    "    num_samples = len(data)\n",
    "    i = 0\n",
    "    min_conf = 0.25\n",
    "    \n",
    "    duration_sample_remove_ms = 200\n",
    "    num_samples_removed = int(math.ceil(SAMPLING_RATE / (1000 / duration_sample_remove_ms)))\n",
    "    \n",
    "    # Find blinks, identified by low confidence data.##TODO: get the data into a class.\n",
    "    while i < num_samples:\n",
    "        if data[i] < min_conf and i < num_samples - 1:\n",
    "            runner = 1\n",
    "            next_data = data[i + runner]\n",
    "            while next_data < min_conf:\n",
    "                runner = runner + 1\n",
    "                if i + runner >= num_samples:\n",
    "                    break\n",
    "                next_data = data[i + runner]\n",
    "            \n",
    "            if runner >= min_num_blinks:\n",
    "                blinks.append((i, runner))\n",
    "                \n",
    "            i = i + runner  # This blink is over, update to the next.\n",
    "        else:\n",
    "            i = i + 1\n",
    "    \n",
    "    # Mark data before and after 200ms of blinks.\n",
    "    blink_markers = np.ones(num_samples)\n",
    "    for i in range(len(blinks)):\n",
    "        blink_index = blinks[i][0]\n",
    "        blink_length = blinks[i][1]\n",
    "        \n",
    "        for j in range(0, blink_length):\n",
    "            blink_markers[blink_index + j] = 0\n",
    "        \n",
    "        for j in range(0, num_samples_removed):\n",
    "            decrement_index = blink_index - j\n",
    "            increment_index = blink_index + blink_length + j\n",
    "            \n",
    "            # Check the boundary conditions.\n",
    "            if decrement_index >=0:\n",
    "                blink_markers[decrement_index] = 0\n",
    "            \n",
    "            if increment_index < num_samples:\n",
    "                blink_markers[increment_index] = 0\n",
    "    \n",
    "    return blink_markers"
   ]
  },
  {
   "cell_type": "code",
   "execution_count": 5,
   "id": "7696fd6e",
   "metadata": {},
   "outputs": [
    {
     "data": {
      "text/plain": [
       "0       1.000000\n",
       "1       1.000000\n",
       "2       1.000000\n",
       "3       0.941435\n",
       "4       1.000000\n",
       "          ...   \n",
       "3415    1.000000\n",
       "3416    1.000000\n",
       "3417    1.000000\n",
       "3418    1.000000\n",
       "3419    1.000000\n",
       "Name: Confidence, Length: 3420, dtype: float64"
      ]
     },
     "execution_count": 5,
     "metadata": {},
     "output_type": "execute_result"
    }
   ],
   "source": [
    "## Get confidence column.\n",
    "data_conf = df['Confidence'].copy()\n",
    "data_conf"
   ]
  },
  {
   "cell_type": "code",
   "execution_count": 6,
   "id": "c46699fa",
   "metadata": {},
   "outputs": [
    {
     "data": {
      "text/plain": [
       "array([1., 1., 1., ..., 1., 1., 1.])"
      ]
     },
     "execution_count": 6,
     "metadata": {},
     "output_type": "execute_result"
    }
   ],
   "source": [
    "blink_markers = mark_blinks(data=data_conf)\n",
    "blink_markers"
   ]
  },
  {
   "cell_type": "code",
   "execution_count": 7,
   "id": "397a9bcc",
   "metadata": {},
   "outputs": [
    {
     "name": "stdout",
     "output_type": "stream",
     "text": [
      "504\n"
     ]
    }
   ],
   "source": [
    "## Count the number of data that marked as blinks.\n",
    "print(len(blink_markers[np.where(blink_markers==0)]))"
   ]
  },
  {
   "cell_type": "code",
   "execution_count": 8,
   "id": "1ee191cb",
   "metadata": {},
   "outputs": [
    {
     "data": {
      "text/html": [
       "<div>\n",
       "<style scoped>\n",
       "    .dataframe tbody tr th:only-of-type {\n",
       "        vertical-align: middle;\n",
       "    }\n",
       "\n",
       "    .dataframe tbody tr th {\n",
       "        vertical-align: top;\n",
       "    }\n",
       "\n",
       "    .dataframe thead th {\n",
       "        text-align: right;\n",
       "    }\n",
       "</style>\n",
       "<table border=\"1\" class=\"dataframe\">\n",
       "  <thead>\n",
       "    <tr style=\"text-align: right;\">\n",
       "      <th></th>\n",
       "      <th>Timestamp</th>\n",
       "      <th>Confidence</th>\n",
       "      <th>Diameter</th>\n",
       "      <th>Event</th>\n",
       "      <th>Blink_marks</th>\n",
       "    </tr>\n",
       "  </thead>\n",
       "  <tbody>\n",
       "    <tr>\n",
       "      <th>0</th>\n",
       "      <td>706449.878971</td>\n",
       "      <td>1.000000</td>\n",
       "      <td>25.834919</td>\n",
       "      <td>default</td>\n",
       "      <td>1.0</td>\n",
       "    </tr>\n",
       "    <tr>\n",
       "      <th>1</th>\n",
       "      <td>706449.888028</td>\n",
       "      <td>1.000000</td>\n",
       "      <td>25.952595</td>\n",
       "      <td>default</td>\n",
       "      <td>1.0</td>\n",
       "    </tr>\n",
       "    <tr>\n",
       "      <th>2</th>\n",
       "      <td>706449.899402</td>\n",
       "      <td>1.000000</td>\n",
       "      <td>26.135017</td>\n",
       "      <td>default</td>\n",
       "      <td>1.0</td>\n",
       "    </tr>\n",
       "    <tr>\n",
       "      <th>3</th>\n",
       "      <td>706449.919906</td>\n",
       "      <td>0.941435</td>\n",
       "      <td>25.987923</td>\n",
       "      <td>default</td>\n",
       "      <td>1.0</td>\n",
       "    </tr>\n",
       "    <tr>\n",
       "      <th>4</th>\n",
       "      <td>706449.933139</td>\n",
       "      <td>1.000000</td>\n",
       "      <td>25.943304</td>\n",
       "      <td>default</td>\n",
       "      <td>1.0</td>\n",
       "    </tr>\n",
       "    <tr>\n",
       "      <th>...</th>\n",
       "      <td>...</td>\n",
       "      <td>...</td>\n",
       "      <td>...</td>\n",
       "      <td>...</td>\n",
       "      <td>...</td>\n",
       "    </tr>\n",
       "    <tr>\n",
       "      <th>3415</th>\n",
       "      <td>706490.179684</td>\n",
       "      <td>1.000000</td>\n",
       "      <td>19.809399</td>\n",
       "      <td>sitting</td>\n",
       "      <td>1.0</td>\n",
       "    </tr>\n",
       "    <tr>\n",
       "      <th>3416</th>\n",
       "      <td>706490.192706</td>\n",
       "      <td>1.000000</td>\n",
       "      <td>19.893776</td>\n",
       "      <td>sitting</td>\n",
       "      <td>1.0</td>\n",
       "    </tr>\n",
       "    <tr>\n",
       "      <th>3417</th>\n",
       "      <td>706490.202138</td>\n",
       "      <td>1.000000</td>\n",
       "      <td>19.820501</td>\n",
       "      <td>sitting</td>\n",
       "      <td>1.0</td>\n",
       "    </tr>\n",
       "    <tr>\n",
       "      <th>3418</th>\n",
       "      <td>706490.211511</td>\n",
       "      <td>1.000000</td>\n",
       "      <td>19.988155</td>\n",
       "      <td>sitting</td>\n",
       "      <td>1.0</td>\n",
       "    </tr>\n",
       "    <tr>\n",
       "      <th>3419</th>\n",
       "      <td>706490.223947</td>\n",
       "      <td>1.000000</td>\n",
       "      <td>19.833395</td>\n",
       "      <td>sitting</td>\n",
       "      <td>1.0</td>\n",
       "    </tr>\n",
       "  </tbody>\n",
       "</table>\n",
       "<p>3420 rows × 5 columns</p>\n",
       "</div>"
      ],
      "text/plain": [
       "          Timestamp  Confidence   Diameter    Event  Blink_marks\n",
       "0     706449.878971    1.000000  25.834919  default          1.0\n",
       "1     706449.888028    1.000000  25.952595  default          1.0\n",
       "2     706449.899402    1.000000  26.135017  default          1.0\n",
       "3     706449.919906    0.941435  25.987923  default          1.0\n",
       "4     706449.933139    1.000000  25.943304  default          1.0\n",
       "...             ...         ...        ...      ...          ...\n",
       "3415  706490.179684    1.000000  19.809399  sitting          1.0\n",
       "3416  706490.192706    1.000000  19.893776  sitting          1.0\n",
       "3417  706490.202138    1.000000  19.820501  sitting          1.0\n",
       "3418  706490.211511    1.000000  19.988155  sitting          1.0\n",
       "3419  706490.223947    1.000000  19.833395  sitting          1.0\n",
       "\n",
       "[3420 rows x 5 columns]"
      ]
     },
     "execution_count": 8,
     "metadata": {},
     "output_type": "execute_result"
    }
   ],
   "source": [
    "## Add this column into the dataframe.\n",
    "df['Blink_marks'] = blink_markers\n",
    "df"
   ]
  },
  {
   "cell_type": "code",
   "execution_count": 9,
   "id": "002cb88f",
   "metadata": {},
   "outputs": [
    {
     "name": "stdout",
     "output_type": "stream",
     "text": [
      "504\n",
      "504\n"
     ]
    }
   ],
   "source": [
    "## Remove the blinks.\n",
    "df_no_blinks = df.copy()\n",
    "df_no_blinks['Dia_Deblinked'] = df_no_blinks['Diameter'].copy()\n",
    "df_no_blinks.loc[(df_no_blinks.Blink_marks == 0),'Dia_Deblinked'] = np.nan\n",
    "print(df_no_blinks['Dia_Deblinked'].isna().sum())\n",
    "\n",
    "## Remove data with low confidence.\n",
    "threshold_low_conf = 0.6\n",
    "df_no_low_conf = df_no_blinks.copy()\n",
    "df_no_low_conf.loc[(df_no_low_conf.Blink_marks <= threshold_low_conf),'Dia_Deblinked'] = np.nan\n",
    "print(df_no_low_conf['Dia_Deblinked'].isna().sum())"
   ]
  },
  {
   "cell_type": "code",
   "execution_count": 10,
   "id": "8dcc368b",
   "metadata": {},
   "outputs": [
    {
     "data": {
      "text/plain": [
       "<AxesSubplot:>"
      ]
     },
     "execution_count": 10,
     "metadata": {},
     "output_type": "execute_result"
    },
    {
     "data": {
      "image/png": "[encoded data removed]",
      "text/plain": [
       "<Figure size 432x288 with 1 Axes>"
      ]
     },
     "metadata": {
      "needs_background": "light"
     },
     "output_type": "display_data"
    }
   ],
   "source": [
    "df_de_blinks = df_no_low_conf.copy()\n",
    "df_de_blinks.Dia_Deblinked.plot()"
   ]
  },
  {
   "cell_type": "markdown",
   "id": "c63acc4e",
   "metadata": {},
   "source": [
    "#### Smoothing"
   ]
  },
  {
   "cell_type": "code",
   "execution_count": 11,
   "id": "e80b5626",
   "metadata": {},
   "outputs": [
    {
     "data": {
      "text/plain": [
       "<AxesSubplot:>"
      ]
     },
     "execution_count": 11,
     "metadata": {},
     "output_type": "execute_result"
    },
    {
     "data": {
      "image/png": "[encoded data removed]",
      "text/plain": [
       "<Figure size 432x288 with 1 Axes>"
      ]
     },
     "metadata": {
      "needs_background": "light"
     },
     "output_type": "display_data"
    }
   ],
   "source": [
    "## Smoothing via Moving average or Hanning window.\n",
    "# Hanning window moving average.\n",
    "df_hann = df_de_blinks.copy()\n",
    "df_hann['Dia_Hann'] = df_hann['Dia_Deblinked'].rolling(window=5, center=True, win_type='hann').mean()\n",
    "\n",
    "# Plot.\n",
    "df_hann.Dia_Deblinked.plot()\n",
    "df_hann.Dia_Hann.plot()"
   ]
  },
  {
   "cell_type": "code",
   "execution_count": 12,
   "id": "cf0303fe",
   "metadata": {},
   "outputs": [
    {
     "data": {
      "text/plain": [
       "<AxesSubplot:>"
      ]
     },
     "execution_count": 12,
     "metadata": {},
     "output_type": "execute_result"
    },
    {
     "data": {
      "image/png": "[encoded data removed]",
      "text/plain": [
       "<Figure size 432x288 with 1 Axes>"
      ]
     },
     "metadata": {
      "needs_background": "light"
     },
     "output_type": "display_data"
    }
   ],
   "source": [
    "## Check one data portion.\n",
    "df_hann.Dia_Deblinked.plot(xlim=(2000,3000))\n",
    "df_hann.Dia_Hann.plot()"
   ]
  },
  {
   "cell_type": "markdown",
   "id": "f59c32ab",
   "metadata": {},
   "source": [
    "#### Interpolation"
   ]
  },
  {
   "cell_type": "code",
   "execution_count": 13,
   "id": "8bf7be97",
   "metadata": {},
   "outputs": [],
   "source": [
    "## Interpolation (linear and spline)\n",
    "df_interpolate = df_hann.copy()\n",
    "df_interpolate['Dia_Spline3'] = df_interpolate['Dia_Hann'].interpolate(method='spline',order=3)\n",
    "df_interpolate['Dia_Linear'] = df_interpolate['Dia_Hann'].interpolate(method='linear') # piecewise and linear look almost the same\n",
    "df_interpolate['Dia_Cubic'] = df_interpolate['Dia_Hann'].interpolate(method='cubic')\n",
    "df_interpolate['Dia_PiecewisePoly'] = df_interpolate['Dia_Hann'].interpolate(method='piecewise_polynomial')"
   ]
  },
  {
   "cell_type": "code",
   "execution_count": 14,
   "id": "659a0550",
   "metadata": {},
   "outputs": [
    {
     "data": {
      "text/plain": [
       "<AxesSubplot:>"
      ]
     },
     "execution_count": 14,
     "metadata": {},
     "output_type": "execute_result"
    },
    {
     "data": {
      "image/png": "[encoded data removed]",
      "text/plain": [
       "<Figure size 432x288 with 1 Axes>"
      ]
     },
     "metadata": {
      "needs_background": "light"
     },
     "output_type": "display_data"
    }
   ],
   "source": [
    "# Plot and see the curves.\n",
    "# Initialize boundaries.\n",
    "# xlim_low = 0\n",
    "# xlim_high = 3000\n",
    "# ylim_low = 10\n",
    "# ylim_high = 35\n",
    "\n",
    "# df_interpolate.Dia_Spline3.plot(xlim=(xlim_low,xlim_high),ylim=(ylim_low,ylim_high))\n",
    "df_interpolate.Dia_Spline3.plot() # Feels this interpolation tactic is better.\n",
    "df_interpolate.Dia_Linear.plot()\n",
    "df_interpolate.Dia_Hann.plot()\n",
    "# df_interpolate.Dia_Cubic.plot()\n",
    "# df_interpolate.Dia_PiecewisePoly.plot()  # This seems good as well. Transitions are smooth and natural."
   ]
  },
  {
   "cell_type": "markdown",
   "id": "0f6de0d9",
   "metadata": {},
   "source": [
    "### Artifact rejection"
   ]
  },
  {
   "cell_type": "code",
   "execution_count": 15,
   "id": "19a16254",
   "metadata": {},
   "outputs": [],
   "source": [
    "## This part is directly cited from Sam's work.\n",
    "\n",
    "# Filtering outliers \n",
    "# Lan et al. 2020 - median filter with sliding window of 10s\n",
    "# Testing with numba optimised for-loop implementation of a Hampel Filter\n",
    "# Note to self: I think this filter is also commonly used for pupil diameter filtering\n",
    "\n",
    "@jit(nopython=True)\n",
    "def hampel_filter_forloop_numba(input_series, window_size, n_sigmas=3):\n",
    "    \n",
    "    n = len(input_series)\n",
    "    new_series = input_series.copy()\n",
    "    k = 1.4826 # scale factor for Gaussian distribution\n",
    "    indices = []\n",
    "    \n",
    "    for i in range((window_size),(n - window_size)):\n",
    "        x0 = np.nanmedian(input_series[(i - window_size):(i + window_size)])\n",
    "        S0 = k * np.nanmedian(np.abs(input_series[(i - window_size):(i + window_size)] - x0))\n",
    "        if (np.abs(input_series[i] - x0) > n_sigmas * S0):\n",
    "            new_series[i] = x0\n",
    "            indices.append(i)\n",
    "    \n",
    "    return new_series, indices"
   ]
  },
  {
   "cell_type": "code",
   "execution_count": 16,
   "id": "f6019d9a",
   "metadata": {},
   "outputs": [],
   "source": [
    "df_outlier_reject = df_interpolate.copy()\n",
    "\n",
    "x_SP3, outlier_x_SP3 = hampel_filter_forloop_numba(df_outlier_reject.Dia_Spline3.to_numpy(), 10) #applying hampel filter with win size 10\n",
    "x_L, outlier_x_L = hampel_filter_forloop_numba(df_outlier_reject.Dia_Linear.to_numpy(), 10)\n",
    "df_outlier_reject['Dia_Spline3_Ham'] = x_SP3.tolist()\n",
    "df_outlier_reject['Dia_Linear_Ham'] = x_L.tolist()"
   ]
  },
  {
   "cell_type": "code",
   "execution_count": 17,
   "id": "0faad156",
   "metadata": {},
   "outputs": [
    {
     "data": {
      "text/plain": [
       "<AxesSubplot:>"
      ]
     },
     "execution_count": 17,
     "metadata": {},
     "output_type": "execute_result"
    },
    {
     "data": {
      "image/png": "[encoded data removed]",
      "text/plain": [
       "<Figure size 432x288 with 1 Axes>"
      ]
     },
     "metadata": {
      "needs_background": "light"
     },
     "output_type": "display_data"
    }
   ],
   "source": [
    "# Test spline curve.\n",
    "df_outlier_reject.Dia_Spline3.plot()\n",
    "df_outlier_reject.Dia_Spline3_Ham.plot()"
   ]
  },
  {
   "cell_type": "code",
   "execution_count": 18,
   "id": "bbcc9894",
   "metadata": {},
   "outputs": [
    {
     "data": {
      "text/plain": [
       "<AxesSubplot:>"
      ]
     },
     "execution_count": 18,
     "metadata": {},
     "output_type": "execute_result"
    },
    {
     "data": {
      "image/png": "[encoded data removed]",
      "text/plain": [
       "<Figure size 432x288 with 1 Axes>"
      ]
     },
     "metadata": {
      "needs_background": "light"
     },
     "output_type": "display_data"
    }
   ],
   "source": [
    "# Test linear curve.\n",
    "df_outlier_reject.Dia_Linear.plot()\n",
    "df_outlier_reject.Dia_Linear_Ham.plot()"
   ]
  },
  {
   "cell_type": "markdown",
   "id": "32aa0fc5",
   "metadata": {},
   "source": [
    "### Baseline correction (subtractive)"
   ]
  },
  {
   "cell_type": "code",
   "execution_count": 19,
   "id": "0b4b2a8f",
   "metadata": {},
   "outputs": [
    {
     "data": {
      "text/html": [
       "<div>\n",
       "<style scoped>\n",
       "    .dataframe tbody tr th:only-of-type {\n",
       "        vertical-align: middle;\n",
       "    }\n",
       "\n",
       "    .dataframe tbody tr th {\n",
       "        vertical-align: top;\n",
       "    }\n",
       "\n",
       "    .dataframe thead th {\n",
       "        text-align: right;\n",
       "    }\n",
       "</style>\n",
       "<table border=\"1\" class=\"dataframe\">\n",
       "  <thead>\n",
       "    <tr style=\"text-align: right;\">\n",
       "      <th></th>\n",
       "      <th>Timestamp</th>\n",
       "      <th>Confidence</th>\n",
       "      <th>Diameter</th>\n",
       "      <th>Event</th>\n",
       "      <th>Blink_marks</th>\n",
       "      <th>Dia_Deblinked</th>\n",
       "      <th>Dia_Hann</th>\n",
       "      <th>Dia_Spline3</th>\n",
       "      <th>Dia_Linear</th>\n",
       "      <th>Dia_Cubic</th>\n",
       "      <th>Dia_PiecewisePoly</th>\n",
       "      <th>Dia_Spline3_Ham</th>\n",
       "      <th>Dia_Linear_Ham</th>\n",
       "    </tr>\n",
       "  </thead>\n",
       "  <tbody>\n",
       "    <tr>\n",
       "      <th>0</th>\n",
       "      <td>706449.878971</td>\n",
       "      <td>1.000000</td>\n",
       "      <td>25.834919</td>\n",
       "      <td>default</td>\n",
       "      <td>1.0</td>\n",
       "      <td>25.834919</td>\n",
       "      <td>NaN</td>\n",
       "      <td>NaN</td>\n",
       "      <td>NaN</td>\n",
       "      <td>NaN</td>\n",
       "      <td>NaN</td>\n",
       "      <td>NaN</td>\n",
       "      <td>NaN</td>\n",
       "    </tr>\n",
       "    <tr>\n",
       "      <th>1</th>\n",
       "      <td>706449.888028</td>\n",
       "      <td>1.000000</td>\n",
       "      <td>25.952595</td>\n",
       "      <td>default</td>\n",
       "      <td>1.0</td>\n",
       "      <td>25.952595</td>\n",
       "      <td>NaN</td>\n",
       "      <td>NaN</td>\n",
       "      <td>NaN</td>\n",
       "      <td>NaN</td>\n",
       "      <td>NaN</td>\n",
       "      <td>NaN</td>\n",
       "      <td>NaN</td>\n",
       "    </tr>\n",
       "    <tr>\n",
       "      <th>2</th>\n",
       "      <td>706449.899402</td>\n",
       "      <td>1.000000</td>\n",
       "      <td>26.135017</td>\n",
       "      <td>default</td>\n",
       "      <td>1.0</td>\n",
       "      <td>26.135017</td>\n",
       "      <td>26.052638</td>\n",
       "      <td>26.052638</td>\n",
       "      <td>26.052638</td>\n",
       "      <td>26.052638</td>\n",
       "      <td>26.052638</td>\n",
       "      <td>26.052638</td>\n",
       "      <td>26.052638</td>\n",
       "    </tr>\n",
       "    <tr>\n",
       "      <th>3</th>\n",
       "      <td>706449.919906</td>\n",
       "      <td>0.941435</td>\n",
       "      <td>25.987923</td>\n",
       "      <td>default</td>\n",
       "      <td>1.0</td>\n",
       "      <td>25.987923</td>\n",
       "      <td>26.013542</td>\n",
       "      <td>26.013542</td>\n",
       "      <td>26.013542</td>\n",
       "      <td>26.013542</td>\n",
       "      <td>26.013542</td>\n",
       "      <td>26.013542</td>\n",
       "      <td>26.013542</td>\n",
       "    </tr>\n",
       "    <tr>\n",
       "      <th>4</th>\n",
       "      <td>706449.933139</td>\n",
       "      <td>1.000000</td>\n",
       "      <td>25.943304</td>\n",
       "      <td>default</td>\n",
       "      <td>1.0</td>\n",
       "      <td>25.943304</td>\n",
       "      <td>25.916343</td>\n",
       "      <td>25.916343</td>\n",
       "      <td>25.916343</td>\n",
       "      <td>25.916343</td>\n",
       "      <td>25.916343</td>\n",
       "      <td>25.916343</td>\n",
       "      <td>25.916343</td>\n",
       "    </tr>\n",
       "    <tr>\n",
       "      <th>...</th>\n",
       "      <td>...</td>\n",
       "      <td>...</td>\n",
       "      <td>...</td>\n",
       "      <td>...</td>\n",
       "      <td>...</td>\n",
       "      <td>...</td>\n",
       "      <td>...</td>\n",
       "      <td>...</td>\n",
       "      <td>...</td>\n",
       "      <td>...</td>\n",
       "      <td>...</td>\n",
       "      <td>...</td>\n",
       "      <td>...</td>\n",
       "    </tr>\n",
       "    <tr>\n",
       "      <th>1278</th>\n",
       "      <td>706465.142028</td>\n",
       "      <td>1.000000</td>\n",
       "      <td>19.046545</td>\n",
       "      <td>default</td>\n",
       "      <td>1.0</td>\n",
       "      <td>19.046545</td>\n",
       "      <td>19.126828</td>\n",
       "      <td>19.126828</td>\n",
       "      <td>19.126828</td>\n",
       "      <td>19.126828</td>\n",
       "      <td>19.126828</td>\n",
       "      <td>19.126828</td>\n",
       "      <td>19.126828</td>\n",
       "    </tr>\n",
       "    <tr>\n",
       "      <th>1279</th>\n",
       "      <td>706465.153847</td>\n",
       "      <td>0.928790</td>\n",
       "      <td>19.338066</td>\n",
       "      <td>default</td>\n",
       "      <td>1.0</td>\n",
       "      <td>19.338066</td>\n",
       "      <td>19.223314</td>\n",
       "      <td>19.223314</td>\n",
       "      <td>19.223314</td>\n",
       "      <td>19.223314</td>\n",
       "      <td>19.223314</td>\n",
       "      <td>19.223314</td>\n",
       "      <td>19.223314</td>\n",
       "    </tr>\n",
       "    <tr>\n",
       "      <th>1280</th>\n",
       "      <td>706465.167483</td>\n",
       "      <td>1.000000</td>\n",
       "      <td>19.170580</td>\n",
       "      <td>default</td>\n",
       "      <td>1.0</td>\n",
       "      <td>19.170580</td>\n",
       "      <td>19.215996</td>\n",
       "      <td>19.215996</td>\n",
       "      <td>19.215996</td>\n",
       "      <td>19.215996</td>\n",
       "      <td>19.215996</td>\n",
       "      <td>19.215996</td>\n",
       "      <td>19.215996</td>\n",
       "    </tr>\n",
       "    <tr>\n",
       "      <th>1281</th>\n",
       "      <td>706465.178269</td>\n",
       "      <td>1.000000</td>\n",
       "      <td>19.184759</td>\n",
       "      <td>default</td>\n",
       "      <td>1.0</td>\n",
       "      <td>19.184759</td>\n",
       "      <td>19.287147</td>\n",
       "      <td>19.287147</td>\n",
       "      <td>19.287147</td>\n",
       "      <td>19.287147</td>\n",
       "      <td>19.287147</td>\n",
       "      <td>19.287147</td>\n",
       "      <td>19.287147</td>\n",
       "    </tr>\n",
       "    <tr>\n",
       "      <th>1282</th>\n",
       "      <td>706465.190302</td>\n",
       "      <td>0.927050</td>\n",
       "      <td>19.608490</td>\n",
       "      <td>default</td>\n",
       "      <td>1.0</td>\n",
       "      <td>19.608490</td>\n",
       "      <td>19.417486</td>\n",
       "      <td>19.417486</td>\n",
       "      <td>19.417486</td>\n",
       "      <td>19.417486</td>\n",
       "      <td>19.417486</td>\n",
       "      <td>19.417486</td>\n",
       "      <td>19.417486</td>\n",
       "    </tr>\n",
       "  </tbody>\n",
       "</table>\n",
       "<p>1283 rows × 13 columns</p>\n",
       "</div>"
      ],
      "text/plain": [
       "          Timestamp  Confidence   Diameter    Event  Blink_marks  \\\n",
       "0     706449.878971    1.000000  25.834919  default          1.0   \n",
       "1     706449.888028    1.000000  25.952595  default          1.0   \n",
       "2     706449.899402    1.000000  26.135017  default          1.0   \n",
       "3     706449.919906    0.941435  25.987923  default          1.0   \n",
       "4     706449.933139    1.000000  25.943304  default          1.0   \n",
       "...             ...         ...        ...      ...          ...   \n",
       "1278  706465.142028    1.000000  19.046545  default          1.0   \n",
       "1279  706465.153847    0.928790  19.338066  default          1.0   \n",
       "1280  706465.167483    1.000000  19.170580  default          1.0   \n",
       "1281  706465.178269    1.000000  19.184759  default          1.0   \n",
       "1282  706465.190302    0.927050  19.608490  default          1.0   \n",
       "\n",
       "      Dia_Deblinked   Dia_Hann  Dia_Spline3  Dia_Linear  Dia_Cubic  \\\n",
       "0         25.834919        NaN          NaN         NaN        NaN   \n",
       "1         25.952595        NaN          NaN         NaN        NaN   \n",
       "2         26.135017  26.052638    26.052638   26.052638  26.052638   \n",
       "3         25.987923  26.013542    26.013542   26.013542  26.013542   \n",
       "4         25.943304  25.916343    25.916343   25.916343  25.916343   \n",
       "...             ...        ...          ...         ...        ...   \n",
       "1278      19.046545  19.126828    19.126828   19.126828  19.126828   \n",
       "1279      19.338066  19.223314    19.223314   19.223314  19.223314   \n",
       "1280      19.170580  19.215996    19.215996   19.215996  19.215996   \n",
       "1281      19.184759  19.287147    19.287147   19.287147  19.287147   \n",
       "1282      19.608490  19.417486    19.417486   19.417486  19.417486   \n",
       "\n",
       "      Dia_PiecewisePoly  Dia_Spline3_Ham  Dia_Linear_Ham  \n",
       "0                   NaN              NaN             NaN  \n",
       "1                   NaN              NaN             NaN  \n",
       "2             26.052638        26.052638       26.052638  \n",
       "3             26.013542        26.013542       26.013542  \n",
       "4             25.916343        25.916343       25.916343  \n",
       "...                 ...              ...             ...  \n",
       "1278          19.126828        19.126828       19.126828  \n",
       "1279          19.223314        19.223314       19.223314  \n",
       "1280          19.215996        19.215996       19.215996  \n",
       "1281          19.287147        19.287147       19.287147  \n",
       "1282          19.417486        19.417486       19.417486  \n",
       "\n",
       "[1283 rows x 13 columns]"
      ]
     },
     "execution_count": 19,
     "metadata": {},
     "output_type": "execute_result"
    }
   ],
   "source": [
    "df_baseline_corr = df_outlier_reject.copy()\n",
    "df_baseline = df_baseline_corr[(df_outlier_reject.Event == 'default')]\n",
    "df_baseline"
   ]
  },
  {
   "cell_type": "code",
   "execution_count": 20,
   "id": "549428e2",
   "metadata": {},
   "outputs": [
    {
     "data": {
      "text/html": [
       "<div>\n",
       "<style scoped>\n",
       "    .dataframe tbody tr th:only-of-type {\n",
       "        vertical-align: middle;\n",
       "    }\n",
       "\n",
       "    .dataframe tbody tr th {\n",
       "        vertical-align: top;\n",
       "    }\n",
       "\n",
       "    .dataframe thead th {\n",
       "        text-align: right;\n",
       "    }\n",
       "</style>\n",
       "<table border=\"1\" class=\"dataframe\">\n",
       "  <thead>\n",
       "    <tr style=\"text-align: right;\">\n",
       "      <th></th>\n",
       "      <th>Timestamp</th>\n",
       "      <th>Confidence</th>\n",
       "      <th>Diameter</th>\n",
       "      <th>Event</th>\n",
       "      <th>Blink_marks</th>\n",
       "      <th>Dia_Deblinked</th>\n",
       "      <th>Dia_Hann</th>\n",
       "      <th>Dia_Spline3</th>\n",
       "      <th>Dia_Linear</th>\n",
       "      <th>Dia_Cubic</th>\n",
       "      <th>Dia_PiecewisePoly</th>\n",
       "      <th>Dia_Spline3_Ham</th>\n",
       "      <th>Dia_Linear_Ham</th>\n",
       "      <th>Dia_Spline3_Base</th>\n",
       "    </tr>\n",
       "  </thead>\n",
       "  <tbody>\n",
       "    <tr>\n",
       "      <th>0</th>\n",
       "      <td>706449.878971</td>\n",
       "      <td>1.000000</td>\n",
       "      <td>25.834919</td>\n",
       "      <td>default</td>\n",
       "      <td>1.0</td>\n",
       "      <td>25.834919</td>\n",
       "      <td>NaN</td>\n",
       "      <td>NaN</td>\n",
       "      <td>NaN</td>\n",
       "      <td>NaN</td>\n",
       "      <td>NaN</td>\n",
       "      <td>NaN</td>\n",
       "      <td>NaN</td>\n",
       "      <td>NaN</td>\n",
       "    </tr>\n",
       "    <tr>\n",
       "      <th>1</th>\n",
       "      <td>706449.888028</td>\n",
       "      <td>1.000000</td>\n",
       "      <td>25.952595</td>\n",
       "      <td>default</td>\n",
       "      <td>1.0</td>\n",
       "      <td>25.952595</td>\n",
       "      <td>NaN</td>\n",
       "      <td>NaN</td>\n",
       "      <td>NaN</td>\n",
       "      <td>NaN</td>\n",
       "      <td>NaN</td>\n",
       "      <td>NaN</td>\n",
       "      <td>NaN</td>\n",
       "      <td>NaN</td>\n",
       "    </tr>\n",
       "    <tr>\n",
       "      <th>2</th>\n",
       "      <td>706449.899402</td>\n",
       "      <td>1.000000</td>\n",
       "      <td>26.135017</td>\n",
       "      <td>default</td>\n",
       "      <td>1.0</td>\n",
       "      <td>26.135017</td>\n",
       "      <td>26.052638</td>\n",
       "      <td>26.052638</td>\n",
       "      <td>26.052638</td>\n",
       "      <td>26.052638</td>\n",
       "      <td>26.052638</td>\n",
       "      <td>26.052638</td>\n",
       "      <td>26.052638</td>\n",
       "      <td>3.820658</td>\n",
       "    </tr>\n",
       "    <tr>\n",
       "      <th>3</th>\n",
       "      <td>706449.919906</td>\n",
       "      <td>0.941435</td>\n",
       "      <td>25.987923</td>\n",
       "      <td>default</td>\n",
       "      <td>1.0</td>\n",
       "      <td>25.987923</td>\n",
       "      <td>26.013542</td>\n",
       "      <td>26.013542</td>\n",
       "      <td>26.013542</td>\n",
       "      <td>26.013542</td>\n",
       "      <td>26.013542</td>\n",
       "      <td>26.013542</td>\n",
       "      <td>26.013542</td>\n",
       "      <td>3.781562</td>\n",
       "    </tr>\n",
       "    <tr>\n",
       "      <th>4</th>\n",
       "      <td>706449.933139</td>\n",
       "      <td>1.000000</td>\n",
       "      <td>25.943304</td>\n",
       "      <td>default</td>\n",
       "      <td>1.0</td>\n",
       "      <td>25.943304</td>\n",
       "      <td>25.916343</td>\n",
       "      <td>25.916343</td>\n",
       "      <td>25.916343</td>\n",
       "      <td>25.916343</td>\n",
       "      <td>25.916343</td>\n",
       "      <td>25.916343</td>\n",
       "      <td>25.916343</td>\n",
       "      <td>3.684363</td>\n",
       "    </tr>\n",
       "    <tr>\n",
       "      <th>...</th>\n",
       "      <td>...</td>\n",
       "      <td>...</td>\n",
       "      <td>...</td>\n",
       "      <td>...</td>\n",
       "      <td>...</td>\n",
       "      <td>...</td>\n",
       "      <td>...</td>\n",
       "      <td>...</td>\n",
       "      <td>...</td>\n",
       "      <td>...</td>\n",
       "      <td>...</td>\n",
       "      <td>...</td>\n",
       "      <td>...</td>\n",
       "      <td>...</td>\n",
       "    </tr>\n",
       "    <tr>\n",
       "      <th>3415</th>\n",
       "      <td>706490.179684</td>\n",
       "      <td>1.000000</td>\n",
       "      <td>19.809399</td>\n",
       "      <td>sitting</td>\n",
       "      <td>1.0</td>\n",
       "      <td>19.809399</td>\n",
       "      <td>19.798482</td>\n",
       "      <td>19.798482</td>\n",
       "      <td>19.798482</td>\n",
       "      <td>19.798482</td>\n",
       "      <td>19.798482</td>\n",
       "      <td>19.798482</td>\n",
       "      <td>19.798482</td>\n",
       "      <td>-2.433498</td>\n",
       "    </tr>\n",
       "    <tr>\n",
       "      <th>3416</th>\n",
       "      <td>706490.192706</td>\n",
       "      <td>1.000000</td>\n",
       "      <td>19.893776</td>\n",
       "      <td>sitting</td>\n",
       "      <td>1.0</td>\n",
       "      <td>19.893776</td>\n",
       "      <td>19.854363</td>\n",
       "      <td>19.854363</td>\n",
       "      <td>19.854363</td>\n",
       "      <td>19.854363</td>\n",
       "      <td>19.854363</td>\n",
       "      <td>19.854363</td>\n",
       "      <td>19.854363</td>\n",
       "      <td>-2.377617</td>\n",
       "    </tr>\n",
       "    <tr>\n",
       "      <th>3417</th>\n",
       "      <td>706490.202138</td>\n",
       "      <td>1.000000</td>\n",
       "      <td>19.820501</td>\n",
       "      <td>sitting</td>\n",
       "      <td>1.0</td>\n",
       "      <td>19.820501</td>\n",
       "      <td>19.880733</td>\n",
       "      <td>19.880733</td>\n",
       "      <td>19.880733</td>\n",
       "      <td>19.880733</td>\n",
       "      <td>19.880733</td>\n",
       "      <td>19.880733</td>\n",
       "      <td>19.880733</td>\n",
       "      <td>-2.351246</td>\n",
       "    </tr>\n",
       "    <tr>\n",
       "      <th>3418</th>\n",
       "      <td>706490.211511</td>\n",
       "      <td>1.000000</td>\n",
       "      <td>19.988155</td>\n",
       "      <td>sitting</td>\n",
       "      <td>1.0</td>\n",
       "      <td>19.988155</td>\n",
       "      <td>NaN</td>\n",
       "      <td>18.887420</td>\n",
       "      <td>19.880733</td>\n",
       "      <td>NaN</td>\n",
       "      <td>NaN</td>\n",
       "      <td>18.887420</td>\n",
       "      <td>19.880733</td>\n",
       "      <td>-3.344560</td>\n",
       "    </tr>\n",
       "    <tr>\n",
       "      <th>3419</th>\n",
       "      <td>706490.223947</td>\n",
       "      <td>1.000000</td>\n",
       "      <td>19.833395</td>\n",
       "      <td>sitting</td>\n",
       "      <td>1.0</td>\n",
       "      <td>19.833395</td>\n",
       "      <td>NaN</td>\n",
       "      <td>18.855000</td>\n",
       "      <td>19.880733</td>\n",
       "      <td>NaN</td>\n",
       "      <td>NaN</td>\n",
       "      <td>18.855000</td>\n",
       "      <td>19.880733</td>\n",
       "      <td>-3.376980</td>\n",
       "    </tr>\n",
       "  </tbody>\n",
       "</table>\n",
       "<p>3420 rows × 14 columns</p>\n",
       "</div>"
      ],
      "text/plain": [
       "          Timestamp  Confidence   Diameter    Event  Blink_marks  \\\n",
       "0     706449.878971    1.000000  25.834919  default          1.0   \n",
       "1     706449.888028    1.000000  25.952595  default          1.0   \n",
       "2     706449.899402    1.000000  26.135017  default          1.0   \n",
       "3     706449.919906    0.941435  25.987923  default          1.0   \n",
       "4     706449.933139    1.000000  25.943304  default          1.0   \n",
       "...             ...         ...        ...      ...          ...   \n",
       "3415  706490.179684    1.000000  19.809399  sitting          1.0   \n",
       "3416  706490.192706    1.000000  19.893776  sitting          1.0   \n",
       "3417  706490.202138    1.000000  19.820501  sitting          1.0   \n",
       "3418  706490.211511    1.000000  19.988155  sitting          1.0   \n",
       "3419  706490.223947    1.000000  19.833395  sitting          1.0   \n",
       "\n",
       "      Dia_Deblinked   Dia_Hann  Dia_Spline3  Dia_Linear  Dia_Cubic  \\\n",
       "0         25.834919        NaN          NaN         NaN        NaN   \n",
       "1         25.952595        NaN          NaN         NaN        NaN   \n",
       "2         26.135017  26.052638    26.052638   26.052638  26.052638   \n",
       "3         25.987923  26.013542    26.013542   26.013542  26.013542   \n",
       "4         25.943304  25.916343    25.916343   25.916343  25.916343   \n",
       "...             ...        ...          ...         ...        ...   \n",
       "3415      19.809399  19.798482    19.798482   19.798482  19.798482   \n",
       "3416      19.893776  19.854363    19.854363   19.854363  19.854363   \n",
       "3417      19.820501  19.880733    19.880733   19.880733  19.880733   \n",
       "3418      19.988155        NaN    18.887420   19.880733        NaN   \n",
       "3419      19.833395        NaN    18.855000   19.880733        NaN   \n",
       "\n",
       "      Dia_PiecewisePoly  Dia_Spline3_Ham  Dia_Linear_Ham  Dia_Spline3_Base  \n",
       "0                   NaN              NaN             NaN               NaN  \n",
       "1                   NaN              NaN             NaN               NaN  \n",
       "2             26.052638        26.052638       26.052638          3.820658  \n",
       "3             26.013542        26.013542       26.013542          3.781562  \n",
       "4             25.916343        25.916343       25.916343          3.684363  \n",
       "...                 ...              ...             ...               ...  \n",
       "3415          19.798482        19.798482       19.798482         -2.433498  \n",
       "3416          19.854363        19.854363       19.854363         -2.377617  \n",
       "3417          19.880733        19.880733       19.880733         -2.351246  \n",
       "3418                NaN        18.887420       19.880733         -3.344560  \n",
       "3419                NaN        18.855000       19.880733         -3.376980  \n",
       "\n",
       "[3420 rows x 14 columns]"
      ]
     },
     "execution_count": 20,
     "metadata": {},
     "output_type": "execute_result"
    }
   ],
   "source": [
    "base_median = df_baseline.Dia_Spline3_Ham.median()\n",
    "df_baseline_corr['Dia_Spline3_Base'] = df_baseline_corr['Dia_Spline3_Ham'] - base_median\n",
    "# df_baseline_corr['Dia_Spline3_Base'] = df_baseline_corr['Dia_Spline3_Ham'] / base_median\n",
    "df_baseline_corr"
   ]
  },
  {
   "cell_type": "code",
   "execution_count": 21,
   "id": "a4c39add",
   "metadata": {},
   "outputs": [
    {
     "data": {
      "text/plain": [
       "<AxesSubplot:>"
      ]
     },
     "execution_count": 21,
     "metadata": {},
     "output_type": "execute_result"
    },
    {
     "data": {
      "image/png": "[encoded data removed]",
      "text/plain": [
       "<Figure size 432x288 with 1 Axes>"
      ]
     },
     "metadata": {
      "needs_background": "light"
     },
     "output_type": "display_data"
    }
   ],
   "source": [
    "# Test with plots.\n",
    "df_baseline_corr.Dia_Spline3_Ham.plot()\n",
    "df_baseline_corr.Dia_Spline3_Base.plot()"
   ]
  },
  {
   "cell_type": "code",
   "execution_count": 22,
   "id": "694a4742",
   "metadata": {},
   "outputs": [],
   "source": [
    "# Split data according to different events. Return one-d arrays that could be directly processed later.\n",
    "diameter_default = df_baseline_corr[(df_baseline_corr.Event == 'default')].Dia_Spline3_Base\n",
    "diameter_sitting = df_baseline_corr[(df_baseline_corr.Event == 'sitting')].Dia_Spline3_Base\n",
    "diameter_reading_sitting = df_baseline_corr[(df_baseline_corr.Event == 'reading-sitting')].Dia_Spline3_Base"
   ]
  },
  {
   "cell_type": "markdown",
   "id": "9ff86356",
   "metadata": {},
   "source": [
    "### Export data to csv for processing"
   ]
  },
  {
   "cell_type": "code",
   "execution_count": 23,
   "id": "692b05cc",
   "metadata": {},
   "outputs": [
    {
     "data": {
      "text/html": [
       "<div>\n",
       "<style scoped>\n",
       "    .dataframe tbody tr th:only-of-type {\n",
       "        vertical-align: middle;\n",
       "    }\n",
       "\n",
       "    .dataframe tbody tr th {\n",
       "        vertical-align: top;\n",
       "    }\n",
       "\n",
       "    .dataframe thead th {\n",
       "        text-align: right;\n",
       "    }\n",
       "</style>\n",
       "<table border=\"1\" class=\"dataframe\">\n",
       "  <thead>\n",
       "    <tr style=\"text-align: right;\">\n",
       "      <th></th>\n",
       "      <th>Dia_Spline3_Base</th>\n",
       "      <th>Event</th>\n",
       "    </tr>\n",
       "  </thead>\n",
       "  <tbody>\n",
       "    <tr>\n",
       "      <th>2</th>\n",
       "      <td>3.820658</td>\n",
       "      <td>default</td>\n",
       "    </tr>\n",
       "    <tr>\n",
       "      <th>3</th>\n",
       "      <td>3.781562</td>\n",
       "      <td>default</td>\n",
       "    </tr>\n",
       "    <tr>\n",
       "      <th>4</th>\n",
       "      <td>3.684363</td>\n",
       "      <td>default</td>\n",
       "    </tr>\n",
       "    <tr>\n",
       "      <th>5</th>\n",
       "      <td>3.680976</td>\n",
       "      <td>default</td>\n",
       "    </tr>\n",
       "    <tr>\n",
       "      <th>6</th>\n",
       "      <td>3.830007</td>\n",
       "      <td>default</td>\n",
       "    </tr>\n",
       "    <tr>\n",
       "      <th>...</th>\n",
       "      <td>...</td>\n",
       "      <td>...</td>\n",
       "    </tr>\n",
       "    <tr>\n",
       "      <th>3415</th>\n",
       "      <td>-2.433498</td>\n",
       "      <td>sitting</td>\n",
       "    </tr>\n",
       "    <tr>\n",
       "      <th>3416</th>\n",
       "      <td>-2.377617</td>\n",
       "      <td>sitting</td>\n",
       "    </tr>\n",
       "    <tr>\n",
       "      <th>3417</th>\n",
       "      <td>-2.351246</td>\n",
       "      <td>sitting</td>\n",
       "    </tr>\n",
       "    <tr>\n",
       "      <th>3418</th>\n",
       "      <td>-3.344560</td>\n",
       "      <td>sitting</td>\n",
       "    </tr>\n",
       "    <tr>\n",
       "      <th>3419</th>\n",
       "      <td>-3.376980</td>\n",
       "      <td>sitting</td>\n",
       "    </tr>\n",
       "  </tbody>\n",
       "</table>\n",
       "<p>3418 rows × 2 columns</p>\n",
       "</div>"
      ],
      "text/plain": [
       "      Dia_Spline3_Base    Event\n",
       "2             3.820658  default\n",
       "3             3.781562  default\n",
       "4             3.684363  default\n",
       "5             3.680976  default\n",
       "6             3.830007  default\n",
       "...                ...      ...\n",
       "3415         -2.433498  sitting\n",
       "3416         -2.377617  sitting\n",
       "3417         -2.351246  sitting\n",
       "3418         -3.344560  sitting\n",
       "3419         -3.376980  sitting\n",
       "\n",
       "[3418 rows x 2 columns]"
      ]
     },
     "execution_count": 23,
     "metadata": {},
     "output_type": "execute_result"
    }
   ],
   "source": [
    "df_export = df_baseline_corr[['Dia_Spline3_Base', 'Event']].copy()\n",
    "# Get rid of the nan values.\n",
    "df_export = df_export.dropna()\n",
    "df_export"
   ]
  },
  {
   "cell_type": "code",
   "execution_count": 24,
   "id": "d6f41d28",
   "metadata": {},
   "outputs": [],
   "source": [
    "# Export data.\n",
    "file_name = read_file_path.split('/')[-2:]\n",
    "\n",
    "folder_path = '../Data/PreprocessedData/' + file_name[0] + '/'\n",
    "if os.path.exists(folder_path) is False:\n",
    "    os.makedirs(folder_path)\n",
    "\n",
    "write_file_path = folder_path + file_name[1]\n",
    "df_export.to_csv(write_file_path)"
   ]
  },
  {
   "cell_type": "code",
   "execution_count": 25,
   "id": "fc5774ce",
   "metadata": {},
   "outputs": [
    {
     "name": "stdout",
     "output_type": "stream",
     "text": [
      "Stored 'write_file_path' (str)\n",
      "Stored 'SAMPLING_RATE' (int)\n"
     ]
    }
   ],
   "source": [
    "# Store the file name to be used in computing file.\n",
    "%store write_file_path\n",
    "\n",
    "# Store the sampling rate to be used in the computing file.\n",
    "%store SAMPLING_RATE"
   ]
  },
  {
   "cell_type": "code",
   "execution_count": 26,
   "id": "7c891da0",
   "metadata": {},
   "outputs": [
    {
     "name": "stdout",
     "output_type": "stream",
     "text": [
      "Data read from: ../Data/PreprocessedData/24-08-16-20-stand-noread/left2D_84Hz.csv\n"
     ]
    },
    {
     "data": {
      "text/plain": [
       "3.0975"
      ]
     },
     "execution_count": 26,
     "metadata": {},
     "output_type": "execute_result"
    }
   ],
   "source": [
    "# Run the algorithm from the specific file.\n",
    "%run ./PreprocessedPupilDataIPAComputing.ipynb\n",
    "lhipa  # Directly access to the target data."
   ]
  },
  {
   "cell_type": "code",
   "execution_count": 27,
   "id": "21180d6c",
   "metadata": {},
   "outputs": [],
   "source": [
    "# import papermill as pm\n",
    "\n",
    "# pm.execute_notebook(\n",
    "#    './PreprocessedPupilDataIPAComputing.ipynb',\n",
    "#    './Results.ipynb'\n",
    "# )"
   ]
  },
  {
   "cell_type": "code",
   "execution_count": null,
   "id": "80c91f70",
   "metadata": {},
   "outputs": [],
   "source": []
  }
 ],
 "metadata": {
  "kernelspec": {
   "display_name": "Python 3 (ipykernel)",
   "language": "python",
   "name": "python3"
  },
  "language_info": {
   "codemirror_mode": {
    "name": "ipython",
    "version": 3
   },
   "file_extension": ".py",
   "mimetype": "text/x-python",
   "name": "python",
   "nbconvert_exporter": "python",
   "pygments_lexer": "ipython3",
   "version": "3.9.12"
  }
 },
 "nbformat": 4,
 "nbformat_minor": 5
}
