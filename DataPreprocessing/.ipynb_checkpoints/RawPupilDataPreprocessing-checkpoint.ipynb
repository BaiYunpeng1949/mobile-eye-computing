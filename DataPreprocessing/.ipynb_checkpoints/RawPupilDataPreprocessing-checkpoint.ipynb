{
 "cells": [
  {
   "cell_type": "markdown",
   "id": "11221662",
   "metadata": {},
   "source": [
    "## Raw pupil data preprocessing"
   ]
  },
  {
   "cell_type": "markdown",
   "id": "cd93970d",
   "metadata": {},
   "source": [
    "### Reference"
   ]
  },
  {
   "cell_type": "markdown",
   "id": "2024040e",
   "metadata": {},
   "source": [
    "Major referenced papers:\n",
    "1. Total VREcall, https://dl-acm-org.libproxy1.nus.edu.sg/doi/10.1145/3534615 \n",
    "2. GazeR: A Package for Processing Gaze Position and Pupil Size Data. https://pubmed.ncbi.nlm.nih.gov/32291732/ \n",
    "3. ComputationalMR. https://github.com/eth-ait/ComputationalMR "
   ]
  },
  {
   "cell_type": "code",
   "execution_count": 1,
   "id": "ef2d9d0c",
   "metadata": {},
   "outputs": [],
   "source": [
    "import pandas as pd\n",
    "from matplotlib import pyplot as plt\n",
    "import numpy as np\n",
    "from numba import jit\n",
    "import math\n",
    "\n",
    "def plotter(ax, data1, data2, param_dict):\n",
    "    out = ax.plot(data1, data2, **param_dict)\n",
    "    return out"
   ]
  },
  {
   "cell_type": "markdown",
   "id": "2c962dda",
   "metadata": {},
   "source": [
    "### Read raw data"
   ]
  },
  {
   "cell_type": "code",
   "execution_count": 2,
   "id": "8ada7035",
   "metadata": {},
   "outputs": [],
   "source": [
    "read_file_path = '../Data/RawData/19-08-10-09/left2D_113Hz.csv'\n",
    "data = pd.read_csv(read_file_path)"
   ]
  },
  {
   "cell_type": "code",
   "execution_count": 3,
   "id": "ecde1faa",
   "metadata": {},
   "outputs": [
    {
     "data": {
      "text/html": [
       "<div>\n",
       "<style scoped>\n",
       "    .dataframe tbody tr th:only-of-type {\n",
       "        vertical-align: middle;\n",
       "    }\n",
       "\n",
       "    .dataframe tbody tr th {\n",
       "        vertical-align: top;\n",
       "    }\n",
       "\n",
       "    .dataframe thead th {\n",
       "        text-align: right;\n",
       "    }\n",
       "</style>\n",
       "<table border=\"1\" class=\"dataframe\">\n",
       "  <thead>\n",
       "    <tr style=\"text-align: right;\">\n",
       "      <th></th>\n",
       "      <th>Timestamp</th>\n",
       "      <th>Confidence</th>\n",
       "      <th>Diameter</th>\n",
       "      <th>Event</th>\n",
       "    </tr>\n",
       "  </thead>\n",
       "  <tbody>\n",
       "    <tr>\n",
       "      <th>0</th>\n",
       "      <td>252144.9580</td>\n",
       "      <td>1.000000</td>\n",
       "      <td>19.901718</td>\n",
       "      <td>default</td>\n",
       "    </tr>\n",
       "    <tr>\n",
       "      <th>1</th>\n",
       "      <td>252144.9659</td>\n",
       "      <td>0.970446</td>\n",
       "      <td>19.722092</td>\n",
       "      <td>default</td>\n",
       "    </tr>\n",
       "    <tr>\n",
       "      <th>2</th>\n",
       "      <td>252144.9739</td>\n",
       "      <td>1.000000</td>\n",
       "      <td>19.066351</td>\n",
       "      <td>default</td>\n",
       "    </tr>\n",
       "    <tr>\n",
       "      <th>3</th>\n",
       "      <td>252144.9823</td>\n",
       "      <td>1.000000</td>\n",
       "      <td>19.318655</td>\n",
       "      <td>default</td>\n",
       "    </tr>\n",
       "    <tr>\n",
       "      <th>4</th>\n",
       "      <td>252144.9899</td>\n",
       "      <td>0.935560</td>\n",
       "      <td>19.731487</td>\n",
       "      <td>default</td>\n",
       "    </tr>\n",
       "    <tr>\n",
       "      <th>...</th>\n",
       "      <td>...</td>\n",
       "      <td>...</td>\n",
       "      <td>...</td>\n",
       "      <td>...</td>\n",
       "    </tr>\n",
       "    <tr>\n",
       "      <th>3114</th>\n",
       "      <td>252172.4050</td>\n",
       "      <td>0.860225</td>\n",
       "      <td>18.310524</td>\n",
       "      <td>reading-sitting</td>\n",
       "    </tr>\n",
       "    <tr>\n",
       "      <th>3115</th>\n",
       "      <td>252172.4109</td>\n",
       "      <td>1.000000</td>\n",
       "      <td>18.938297</td>\n",
       "      <td>reading-sitting</td>\n",
       "    </tr>\n",
       "    <tr>\n",
       "      <th>3116</th>\n",
       "      <td>252172.4189</td>\n",
       "      <td>1.000000</td>\n",
       "      <td>18.801401</td>\n",
       "      <td>reading-sitting</td>\n",
       "    </tr>\n",
       "    <tr>\n",
       "      <th>3117</th>\n",
       "      <td>252172.4271</td>\n",
       "      <td>0.954118</td>\n",
       "      <td>19.711922</td>\n",
       "      <td>reading-sitting</td>\n",
       "    </tr>\n",
       "    <tr>\n",
       "      <th>3118</th>\n",
       "      <td>252172.4350</td>\n",
       "      <td>0.434675</td>\n",
       "      <td>22.220198</td>\n",
       "      <td>reading-sitting</td>\n",
       "    </tr>\n",
       "  </tbody>\n",
       "</table>\n",
       "<p>3119 rows × 4 columns</p>\n",
       "</div>"
      ],
      "text/plain": [
       "        Timestamp  Confidence   Diameter            Event\n",
       "0     252144.9580    1.000000  19.901718          default\n",
       "1     252144.9659    0.970446  19.722092          default\n",
       "2     252144.9739    1.000000  19.066351          default\n",
       "3     252144.9823    1.000000  19.318655          default\n",
       "4     252144.9899    0.935560  19.731487          default\n",
       "...           ...         ...        ...              ...\n",
       "3114  252172.4050    0.860225  18.310524  reading-sitting\n",
       "3115  252172.4109    1.000000  18.938297  reading-sitting\n",
       "3116  252172.4189    1.000000  18.801401  reading-sitting\n",
       "3117  252172.4271    0.954118  19.711922  reading-sitting\n",
       "3118  252172.4350    0.434675  22.220198  reading-sitting\n",
       "\n",
       "[3119 rows x 4 columns]"
      ]
     },
     "execution_count": 3,
     "metadata": {},
     "output_type": "execute_result"
    }
   ],
   "source": [
    "df = data[['Timestamp','Confidence','Diameter','Event']].copy()\n",
    "df"
   ]
  },
  {
   "cell_type": "markdown",
   "id": "f93e9d7d",
   "metadata": {},
   "source": [
    "### De-blinking and remove data with low confidence"
   ]
  },
  {
   "cell_type": "markdown",
   "id": "44fb06c4",
   "metadata": {},
   "source": [
    "#### Extending blinks"
   ]
  },
  {
   "cell_type": "code",
   "execution_count": 4,
   "id": "1880a52b",
   "metadata": {},
   "outputs": [],
   "source": [
    "## Check how David Linderbaure's group deal with the blinks. Use confidence to identify blinks. They removed the data within 200ms. However, they did not interpolate the eliminated ones.\n",
    "## Here I clean data before and after 200ms of blinks. The input is the numpy data list of the \"confidence\" conlumn. Then return a list that marks which indecies are blinks. \n",
    "def mark_blinks(data):\n",
    "    # Variables initialization:\n",
    "    blinks = []\n",
    "    \n",
    "    min_num_blinks = 2\n",
    "    num_samples = len(data)\n",
    "    i = 0\n",
    "    min_conf = 0.25\n",
    "    \n",
    "    duration_sample_remove_ms = 200\n",
    "    num_samples_removed = int(math.ceil(120 / (1000 / duration_sample_remove_ms)))\n",
    "    \n",
    "    # Find blinks, identified by low confidence data.##TODO: get the data into a class.\n",
    "    while i < num_samples:\n",
    "        if data[i] < min_conf and i < num_samples - 1:\n",
    "            runner = 1\n",
    "            next_data = data[i + runner]\n",
    "            while next_data < min_conf:\n",
    "                runner = runner + 1\n",
    "                if i + runner >= num_samples:\n",
    "                    break\n",
    "                next_data = data[i + runner]\n",
    "            \n",
    "            if runner >= min_num_blinks:\n",
    "                blinks.append((i, runner))\n",
    "                \n",
    "            i = i + runner  # This blink is over, update to the next.\n",
    "        else:\n",
    "            i = i + 1\n",
    "    \n",
    "    # Mark data before and after 200ms of blinks.\n",
    "    blink_markers = np.ones(num_samples)\n",
    "    for i in range(len(blinks)):\n",
    "        blink_index = blinks[i][0]\n",
    "        blink_length = blinks[i][1]\n",
    "        \n",
    "        for j in range(0, blink_length):\n",
    "            blink_markers[blink_index + j] = 0\n",
    "        \n",
    "        for j in range(0, num_samples_removed):\n",
    "            decrement_index = blink_index - j\n",
    "            increment_index = blink_index + blink_length + j\n",
    "            \n",
    "            # Check the boundary conditions.\n",
    "            if decrement_index >=0:\n",
    "                blink_markers[decrement_index] = 0\n",
    "            \n",
    "            if increment_index < num_samples:\n",
    "                blink_markers[increment_index] = 0\n",
    "    \n",
    "    return blink_markers"
   ]
  },
  {
   "cell_type": "code",
   "execution_count": 5,
   "id": "7696fd6e",
   "metadata": {},
   "outputs": [
    {
     "data": {
      "text/plain": [
       "0       1.000000\n",
       "1       0.970446\n",
       "2       1.000000\n",
       "3       1.000000\n",
       "4       0.935560\n",
       "          ...   \n",
       "3114    0.860225\n",
       "3115    1.000000\n",
       "3116    1.000000\n",
       "3117    0.954118\n",
       "3118    0.434675\n",
       "Name: Confidence, Length: 3119, dtype: float64"
      ]
     },
     "execution_count": 5,
     "metadata": {},
     "output_type": "execute_result"
    }
   ],
   "source": [
    "## Get confidence column.\n",
    "data_conf = df['Confidence'].copy()\n",
    "data_conf"
   ]
  },
  {
   "cell_type": "code",
   "execution_count": 6,
   "id": "c46699fa",
   "metadata": {},
   "outputs": [
    {
     "data": {
      "text/plain": [
       "array([1., 1., 1., ..., 1., 1., 1.])"
      ]
     },
     "execution_count": 6,
     "metadata": {},
     "output_type": "execute_result"
    }
   ],
   "source": [
    "blink_markers = mark_blinks(data=data_conf)\n",
    "blink_markers"
   ]
  },
  {
   "cell_type": "code",
   "execution_count": 7,
   "id": "397a9bcc",
   "metadata": {},
   "outputs": [
    {
     "name": "stdout",
     "output_type": "stream",
     "text": [
      "1014\n"
     ]
    }
   ],
   "source": [
    "## Count the number of data that marked as blinks.\n",
    "print(len(blink_markers[np.where(blink_markers==0)]))"
   ]
  },
  {
   "cell_type": "code",
   "execution_count": 8,
   "id": "1ee191cb",
   "metadata": {},
   "outputs": [
    {
     "data": {
      "text/html": [
       "<div>\n",
       "<style scoped>\n",
       "    .dataframe tbody tr th:only-of-type {\n",
       "        vertical-align: middle;\n",
       "    }\n",
       "\n",
       "    .dataframe tbody tr th {\n",
       "        vertical-align: top;\n",
       "    }\n",
       "\n",
       "    .dataframe thead th {\n",
       "        text-align: right;\n",
       "    }\n",
       "</style>\n",
       "<table border=\"1\" class=\"dataframe\">\n",
       "  <thead>\n",
       "    <tr style=\"text-align: right;\">\n",
       "      <th></th>\n",
       "      <th>Timestamp</th>\n",
       "      <th>Confidence</th>\n",
       "      <th>Diameter</th>\n",
       "      <th>Event</th>\n",
       "      <th>Blink_marks</th>\n",
       "    </tr>\n",
       "  </thead>\n",
       "  <tbody>\n",
       "    <tr>\n",
       "      <th>0</th>\n",
       "      <td>252144.9580</td>\n",
       "      <td>1.000000</td>\n",
       "      <td>19.901718</td>\n",
       "      <td>default</td>\n",
       "      <td>1.0</td>\n",
       "    </tr>\n",
       "    <tr>\n",
       "      <th>1</th>\n",
       "      <td>252144.9659</td>\n",
       "      <td>0.970446</td>\n",
       "      <td>19.722092</td>\n",
       "      <td>default</td>\n",
       "      <td>1.0</td>\n",
       "    </tr>\n",
       "    <tr>\n",
       "      <th>2</th>\n",
       "      <td>252144.9739</td>\n",
       "      <td>1.000000</td>\n",
       "      <td>19.066351</td>\n",
       "      <td>default</td>\n",
       "      <td>1.0</td>\n",
       "    </tr>\n",
       "    <tr>\n",
       "      <th>3</th>\n",
       "      <td>252144.9823</td>\n",
       "      <td>1.000000</td>\n",
       "      <td>19.318655</td>\n",
       "      <td>default</td>\n",
       "      <td>1.0</td>\n",
       "    </tr>\n",
       "    <tr>\n",
       "      <th>4</th>\n",
       "      <td>252144.9899</td>\n",
       "      <td>0.935560</td>\n",
       "      <td>19.731487</td>\n",
       "      <td>default</td>\n",
       "      <td>1.0</td>\n",
       "    </tr>\n",
       "    <tr>\n",
       "      <th>...</th>\n",
       "      <td>...</td>\n",
       "      <td>...</td>\n",
       "      <td>...</td>\n",
       "      <td>...</td>\n",
       "      <td>...</td>\n",
       "    </tr>\n",
       "    <tr>\n",
       "      <th>3114</th>\n",
       "      <td>252172.4050</td>\n",
       "      <td>0.860225</td>\n",
       "      <td>18.310524</td>\n",
       "      <td>reading-sitting</td>\n",
       "      <td>1.0</td>\n",
       "    </tr>\n",
       "    <tr>\n",
       "      <th>3115</th>\n",
       "      <td>252172.4109</td>\n",
       "      <td>1.000000</td>\n",
       "      <td>18.938297</td>\n",
       "      <td>reading-sitting</td>\n",
       "      <td>1.0</td>\n",
       "    </tr>\n",
       "    <tr>\n",
       "      <th>3116</th>\n",
       "      <td>252172.4189</td>\n",
       "      <td>1.000000</td>\n",
       "      <td>18.801401</td>\n",
       "      <td>reading-sitting</td>\n",
       "      <td>1.0</td>\n",
       "    </tr>\n",
       "    <tr>\n",
       "      <th>3117</th>\n",
       "      <td>252172.4271</td>\n",
       "      <td>0.954118</td>\n",
       "      <td>19.711922</td>\n",
       "      <td>reading-sitting</td>\n",
       "      <td>1.0</td>\n",
       "    </tr>\n",
       "    <tr>\n",
       "      <th>3118</th>\n",
       "      <td>252172.4350</td>\n",
       "      <td>0.434675</td>\n",
       "      <td>22.220198</td>\n",
       "      <td>reading-sitting</td>\n",
       "      <td>1.0</td>\n",
       "    </tr>\n",
       "  </tbody>\n",
       "</table>\n",
       "<p>3119 rows × 5 columns</p>\n",
       "</div>"
      ],
      "text/plain": [
       "        Timestamp  Confidence   Diameter            Event  Blink_marks\n",
       "0     252144.9580    1.000000  19.901718          default          1.0\n",
       "1     252144.9659    0.970446  19.722092          default          1.0\n",
       "2     252144.9739    1.000000  19.066351          default          1.0\n",
       "3     252144.9823    1.000000  19.318655          default          1.0\n",
       "4     252144.9899    0.935560  19.731487          default          1.0\n",
       "...           ...         ...        ...              ...          ...\n",
       "3114  252172.4050    0.860225  18.310524  reading-sitting          1.0\n",
       "3115  252172.4109    1.000000  18.938297  reading-sitting          1.0\n",
       "3116  252172.4189    1.000000  18.801401  reading-sitting          1.0\n",
       "3117  252172.4271    0.954118  19.711922  reading-sitting          1.0\n",
       "3118  252172.4350    0.434675  22.220198  reading-sitting          1.0\n",
       "\n",
       "[3119 rows x 5 columns]"
      ]
     },
     "execution_count": 8,
     "metadata": {},
     "output_type": "execute_result"
    }
   ],
   "source": [
    "## Add this column into the dataframe.\n",
    "df['Blink_marks'] = blink_markers\n",
    "df"
   ]
  },
  {
   "cell_type": "code",
   "execution_count": 9,
   "id": "002cb88f",
   "metadata": {},
   "outputs": [
    {
     "name": "stdout",
     "output_type": "stream",
     "text": [
      "1014\n",
      "1014\n"
     ]
    }
   ],
   "source": [
    "## Remove the blinks.\n",
    "df_no_blinks = df.copy()\n",
    "df_no_blinks.loc[(df_no_blinks.Blink_marks == 0),'Diameter'] = np.nan\n",
    "print(df_no_blinks['Diameter'].isna().sum())\n",
    "\n",
    "## Remove data with low confidence.\n",
    "threshold_low_conf = 0.6\n",
    "df_no_low_conf = df_no_blinks.copy()\n",
    "df_no_low_conf.loc[(df_no_low_conf.Blink_marks <= threshold_low_conf),'Diameter'] = np.nan\n",
    "print(df_no_low_conf['Diameter'].isna().sum())"
   ]
  },
  {
   "cell_type": "code",
   "execution_count": 10,
   "id": "8dcc368b",
   "metadata": {},
   "outputs": [
    {
     "data": {
      "text/plain": [
       "<AxesSubplot:>"
      ]
     },
     "execution_count": 10,
     "metadata": {},
     "output_type": "execute_result"
    },
    {
     "data": {
      "image/png": "[encoded data removed]",
      "text/plain": [
       "<Figure size 432x288 with 1 Axes>"
      ]
     },
     "metadata": {
      "needs_background": "light"
     },
     "output_type": "display_data"
    }
   ],
   "source": [
    "df_de_blinks = df_no_low_conf.copy()\n",
    "df_de_blinks.Diameter.plot()"
   ]
  },
  {
   "cell_type": "markdown",
   "id": "c63acc4e",
   "metadata": {},
   "source": [
    "#### Smoothing"
   ]
  },
  {
   "cell_type": "code",
   "execution_count": 11,
   "id": "e80b5626",
   "metadata": {},
   "outputs": [
    {
     "data": {
      "text/plain": [
       "<AxesSubplot:>"
      ]
     },
     "execution_count": 11,
     "metadata": {},
     "output_type": "execute_result"
    },
    {
     "data": {
      "image/png": "[encoded data removed]",
      "text/plain": [
       "<Figure size 432x288 with 1 Axes>"
      ]
     },
     "metadata": {
      "needs_background": "light"
     },
     "output_type": "display_data"
    }
   ],
   "source": [
    "## Smoothing via Moving average or Hanning window.\n",
    "# Hanning window moving average.\n",
    "df_hann = df_de_blinks.copy()\n",
    "df_hann['Dia_Hann'] = df_hann['Diameter'].rolling(window=5, center=True, win_type='hann').mean()\n",
    "\n",
    "# Plot.\n",
    "df_hann.Diameter.plot()\n",
    "df_hann.Dia_Hann.plot()"
   ]
  },
  {
   "cell_type": "code",
   "execution_count": 12,
   "id": "cf0303fe",
   "metadata": {},
   "outputs": [
    {
     "data": {
      "text/plain": [
       "<AxesSubplot:>"
      ]
     },
     "execution_count": 12,
     "metadata": {},
     "output_type": "execute_result"
    },
    {
     "data": {
      "image/png": "[encoded data removed]",
      "text/plain": [
       "<Figure size 432x288 with 1 Axes>"
      ]
     },
     "metadata": {
      "needs_background": "light"
     },
     "output_type": "display_data"
    }
   ],
   "source": [
    "## Check one data portion.\n",
    "df_hann.Diameter.plot(xlim=(2000,3000))\n",
    "df_hann.Dia_Hann.plot()"
   ]
  },
  {
   "cell_type": "markdown",
   "id": "f59c32ab",
   "metadata": {},
   "source": [
    "#### Interpolation"
   ]
  },
  {
   "cell_type": "code",
   "execution_count": 13,
   "id": "8bf7be97",
   "metadata": {},
   "outputs": [],
   "source": [
    "## Interpolation (linear and spline)\n",
    "df_interpolate = df_hann.copy()\n",
    "df_interpolate['Dia_Spline3'] = df_interpolate['Dia_Hann'].interpolate(method='spline',order=3)\n",
    "df_interpolate['Dia_Linear'] = df_interpolate['Dia_Hann'].interpolate(method='linear') # piecewise and linear look almost the same\n",
    "df_interpolate['Dia_Cubic'] = df_interpolate['Dia_Hann'].interpolate(method='cubic')\n",
    "df_interpolate['Dia_PiecewisePoly'] = df_interpolate['Dia_Hann'].interpolate(method='piecewise_polynomial')"
   ]
  },
  {
   "cell_type": "code",
   "execution_count": 14,
   "id": "659a0550",
   "metadata": {},
   "outputs": [
    {
     "data": {
      "text/plain": [
       "<AxesSubplot:>"
      ]
     },
     "execution_count": 14,
     "metadata": {},
     "output_type": "execute_result"
    },
    {
     "data": {
      "image/png": "[encoded data removed]",
      "text/plain": [
       "<Figure size 432x288 with 1 Axes>"
      ]
     },
     "metadata": {
      "needs_background": "light"
     },
     "output_type": "display_data"
    }
   ],
   "source": [
    "# Plot and see the curves.\n",
    "# Initialize boundaries.\n",
    "# xlim_low = 0\n",
    "# xlim_high = 3000\n",
    "# ylim_low = 10\n",
    "# ylim_high = 35\n",
    "\n",
    "# df_interpolate.Dia_Spline3.plot(xlim=(xlim_low,xlim_high),ylim=(ylim_low,ylim_high))\n",
    "df_interpolate.Dia_Spline3.plot() # Feels this interpolation tactic is better.\n",
    "df_interpolate.Dia_Linear.plot()\n",
    "df_interpolate.Dia_Hann.plot()\n",
    "# df_interpolate.Dia_Cubic.plot()\n",
    "# df_interpolate.Dia_PiecewisePoly.plot()  # This seems good as well. Transitions are smooth and natural."
   ]
  },
  {
   "cell_type": "markdown",
   "id": "0f6de0d9",
   "metadata": {},
   "source": [
    "### Artifact rejection"
   ]
  },
  {
   "cell_type": "code",
   "execution_count": 15,
   "id": "19a16254",
   "metadata": {},
   "outputs": [],
   "source": [
    "## This part is directly cited from Sam's work.\n",
    "\n",
    "# Filtering outliers \n",
    "# Lan et al. 2020 - median filter with sliding window of 10s\n",
    "# Testing with numba optimised for-loop implementation of a Hampel Filter\n",
    "# Note to self: I think this filter is also commonly used for pupil diameter filtering\n",
    "\n",
    "@jit(nopython=True)\n",
    "def hampel_filter_forloop_numba(input_series, window_size, n_sigmas=3):\n",
    "    \n",
    "    n = len(input_series)\n",
    "    new_series = input_series.copy()\n",
    "    k = 1.4826 # scale factor for Gaussian distribution\n",
    "    indices = []\n",
    "    \n",
    "    for i in range((window_size),(n - window_size)):\n",
    "        x0 = np.nanmedian(input_series[(i - window_size):(i + window_size)])\n",
    "        S0 = k * np.nanmedian(np.abs(input_series[(i - window_size):(i + window_size)] - x0))\n",
    "        if (np.abs(input_series[i] - x0) > n_sigmas * S0):\n",
    "            new_series[i] = x0\n",
    "            indices.append(i)\n",
    "    \n",
    "    return new_series, indices"
   ]
  },
  {
   "cell_type": "code",
   "execution_count": 16,
   "id": "f6019d9a",
   "metadata": {},
   "outputs": [],
   "source": [
    "df_outlier_reject = df_interpolate.copy()\n",
    "\n",
    "x_SP3, outlier_x_SP3 = hampel_filter_forloop_numba(df_outlier_reject.Dia_Spline3.to_numpy(), 10) #applying hampel filter with win size 10\n",
    "x_L, outlier_x_L = hampel_filter_forloop_numba(df_outlier_reject.Dia_Linear.to_numpy(), 10)\n",
    "df_outlier_reject['Dia_Spline3_Ham'] = x_SP3.tolist()\n",
    "df_outlier_reject['Dia_Linear_Ham'] = x_L.tolist()"
   ]
  },
  {
   "cell_type": "code",
   "execution_count": 17,
   "id": "0faad156",
   "metadata": {},
   "outputs": [
    {
     "data": {
      "text/plain": [
       "<AxesSubplot:>"
      ]
     },
     "execution_count": 17,
     "metadata": {},
     "output_type": "execute_result"
    },
    {
     "data": {
      "image/png": "[encoded data removed]",
      "text/plain": [
       "<Figure size 432x288 with 1 Axes>"
      ]
     },
     "metadata": {
      "needs_background": "light"
     },
     "output_type": "display_data"
    }
   ],
   "source": [
    "# Test spline curve.\n",
    "df_outlier_reject.Dia_Spline3.plot()\n",
    "df_outlier_reject.Dia_Spline3_Ham.plot()"
   ]
  },
  {
   "cell_type": "code",
   "execution_count": 18,
   "id": "bbcc9894",
   "metadata": {},
   "outputs": [
    {
     "data": {
      "text/plain": [
       "<AxesSubplot:>"
      ]
     },
     "execution_count": 18,
     "metadata": {},
     "output_type": "execute_result"
    },
    {
     "data": {
      "image/png": "[encoded data removed]",
      "text/plain": [
       "<Figure size 432x288 with 1 Axes>"
      ]
     },
     "metadata": {
      "needs_background": "light"
     },
     "output_type": "display_data"
    }
   ],
   "source": [
    "# Test linear curve.\n",
    "df_outlier_reject.Dia_Linear.plot()\n",
    "df_outlier_reject.Dia_Linear_Ham.plot()"
   ]
  },
  {
   "cell_type": "markdown",
   "id": "32aa0fc5",
   "metadata": {},
   "source": [
    "### Baseline correction (subtractive)"
   ]
  },
  {
   "cell_type": "code",
   "execution_count": 19,
   "id": "0b4b2a8f",
   "metadata": {},
   "outputs": [
    {
     "data": {
      "text/html": [
       "<div>\n",
       "<style scoped>\n",
       "    .dataframe tbody tr th:only-of-type {\n",
       "        vertical-align: middle;\n",
       "    }\n",
       "\n",
       "    .dataframe tbody tr th {\n",
       "        vertical-align: top;\n",
       "    }\n",
       "\n",
       "    .dataframe thead th {\n",
       "        text-align: right;\n",
       "    }\n",
       "</style>\n",
       "<table border=\"1\" class=\"dataframe\">\n",
       "  <thead>\n",
       "    <tr style=\"text-align: right;\">\n",
       "      <th></th>\n",
       "      <th>Timestamp</th>\n",
       "      <th>Confidence</th>\n",
       "      <th>Diameter</th>\n",
       "      <th>Event</th>\n",
       "      <th>Blink_marks</th>\n",
       "      <th>Dia_Hann</th>\n",
       "      <th>Dia_Spline3</th>\n",
       "      <th>Dia_Linear</th>\n",
       "      <th>Dia_Cubic</th>\n",
       "      <th>Dia_PiecewisePoly</th>\n",
       "      <th>Dia_Spline3_Ham</th>\n",
       "      <th>Dia_Linear_Ham</th>\n",
       "    </tr>\n",
       "  </thead>\n",
       "  <tbody>\n",
       "    <tr>\n",
       "      <th>1274</th>\n",
       "      <td>252156.1658</td>\n",
       "      <td>0.845565</td>\n",
       "      <td>17.736845</td>\n",
       "      <td>sitting</td>\n",
       "      <td>1.0</td>\n",
       "      <td>17.702299</td>\n",
       "      <td>17.702299</td>\n",
       "      <td>17.702299</td>\n",
       "      <td>17.702299</td>\n",
       "      <td>17.702299</td>\n",
       "      <td>17.702299</td>\n",
       "      <td>17.702299</td>\n",
       "    </tr>\n",
       "    <tr>\n",
       "      <th>1275</th>\n",
       "      <td>252156.1741</td>\n",
       "      <td>0.760482</td>\n",
       "      <td>17.667753</td>\n",
       "      <td>sitting</td>\n",
       "      <td>1.0</td>\n",
       "      <td>17.684308</td>\n",
       "      <td>17.684308</td>\n",
       "      <td>17.684308</td>\n",
       "      <td>17.684308</td>\n",
       "      <td>17.684308</td>\n",
       "      <td>17.684308</td>\n",
       "      <td>17.684308</td>\n",
       "    </tr>\n",
       "    <tr>\n",
       "      <th>1276</th>\n",
       "      <td>252156.1839</td>\n",
       "      <td>0.759127</td>\n",
       "      <td>17.664879</td>\n",
       "      <td>sitting</td>\n",
       "      <td>1.0</td>\n",
       "      <td>17.683589</td>\n",
       "      <td>17.683589</td>\n",
       "      <td>17.683589</td>\n",
       "      <td>17.683589</td>\n",
       "      <td>17.683589</td>\n",
       "      <td>17.683589</td>\n",
       "      <td>17.683589</td>\n",
       "    </tr>\n",
       "    <tr>\n",
       "      <th>1277</th>\n",
       "      <td>252156.1929</td>\n",
       "      <td>0.821914</td>\n",
       "      <td>17.736845</td>\n",
       "      <td>sitting</td>\n",
       "      <td>1.0</td>\n",
       "      <td>17.699486</td>\n",
       "      <td>17.699486</td>\n",
       "      <td>17.699486</td>\n",
       "      <td>17.699486</td>\n",
       "      <td>17.699486</td>\n",
       "      <td>17.699486</td>\n",
       "      <td>17.699486</td>\n",
       "    </tr>\n",
       "    <tr>\n",
       "      <th>1278</th>\n",
       "      <td>252156.2011</td>\n",
       "      <td>0.853001</td>\n",
       "      <td>17.659376</td>\n",
       "      <td>sitting</td>\n",
       "      <td>1.0</td>\n",
       "      <td>17.701856</td>\n",
       "      <td>17.701856</td>\n",
       "      <td>17.701856</td>\n",
       "      <td>17.701856</td>\n",
       "      <td>17.701856</td>\n",
       "      <td>17.701856</td>\n",
       "      <td>17.701856</td>\n",
       "    </tr>\n",
       "    <tr>\n",
       "      <th>...</th>\n",
       "      <td>...</td>\n",
       "      <td>...</td>\n",
       "      <td>...</td>\n",
       "      <td>...</td>\n",
       "      <td>...</td>\n",
       "      <td>...</td>\n",
       "      <td>...</td>\n",
       "      <td>...</td>\n",
       "      <td>...</td>\n",
       "      <td>...</td>\n",
       "      <td>...</td>\n",
       "      <td>...</td>\n",
       "    </tr>\n",
       "    <tr>\n",
       "      <th>2214</th>\n",
       "      <td>252164.6002</td>\n",
       "      <td>0.758599</td>\n",
       "      <td>16.068462</td>\n",
       "      <td>sitting</td>\n",
       "      <td>1.0</td>\n",
       "      <td>16.083286</td>\n",
       "      <td>16.083286</td>\n",
       "      <td>16.083286</td>\n",
       "      <td>16.083286</td>\n",
       "      <td>16.083286</td>\n",
       "      <td>16.083286</td>\n",
       "      <td>16.083286</td>\n",
       "    </tr>\n",
       "    <tr>\n",
       "      <th>2215</th>\n",
       "      <td>252164.6077</td>\n",
       "      <td>0.671898</td>\n",
       "      <td>16.156372</td>\n",
       "      <td>sitting</td>\n",
       "      <td>1.0</td>\n",
       "      <td>16.103958</td>\n",
       "      <td>16.103958</td>\n",
       "      <td>16.103958</td>\n",
       "      <td>16.103958</td>\n",
       "      <td>16.103958</td>\n",
       "      <td>16.103958</td>\n",
       "      <td>16.103958</td>\n",
       "    </tr>\n",
       "    <tr>\n",
       "      <th>2216</th>\n",
       "      <td>252164.6212</td>\n",
       "      <td>0.881972</td>\n",
       "      <td>16.034624</td>\n",
       "      <td>sitting</td>\n",
       "      <td>1.0</td>\n",
       "      <td>16.135164</td>\n",
       "      <td>16.135164</td>\n",
       "      <td>16.135164</td>\n",
       "      <td>16.135164</td>\n",
       "      <td>16.135164</td>\n",
       "      <td>16.135164</td>\n",
       "      <td>16.135164</td>\n",
       "    </tr>\n",
       "    <tr>\n",
       "      <th>2217</th>\n",
       "      <td>252164.6297</td>\n",
       "      <td>0.846458</td>\n",
       "      <td>16.315037</td>\n",
       "      <td>sitting</td>\n",
       "      <td>1.0</td>\n",
       "      <td>16.219379</td>\n",
       "      <td>16.219379</td>\n",
       "      <td>16.219379</td>\n",
       "      <td>16.219379</td>\n",
       "      <td>16.219379</td>\n",
       "      <td>16.219379</td>\n",
       "      <td>16.219379</td>\n",
       "    </tr>\n",
       "    <tr>\n",
       "      <th>2218</th>\n",
       "      <td>252164.6343</td>\n",
       "      <td>0.805206</td>\n",
       "      <td>16.212820</td>\n",
       "      <td>sitting</td>\n",
       "      <td>1.0</td>\n",
       "      <td>16.224262</td>\n",
       "      <td>16.224262</td>\n",
       "      <td>16.224262</td>\n",
       "      <td>16.224262</td>\n",
       "      <td>16.224262</td>\n",
       "      <td>16.224262</td>\n",
       "      <td>16.224262</td>\n",
       "    </tr>\n",
       "  </tbody>\n",
       "</table>\n",
       "<p>945 rows × 12 columns</p>\n",
       "</div>"
      ],
      "text/plain": [
       "        Timestamp  Confidence   Diameter    Event  Blink_marks   Dia_Hann  \\\n",
       "1274  252156.1658    0.845565  17.736845  sitting          1.0  17.702299   \n",
       "1275  252156.1741    0.760482  17.667753  sitting          1.0  17.684308   \n",
       "1276  252156.1839    0.759127  17.664879  sitting          1.0  17.683589   \n",
       "1277  252156.1929    0.821914  17.736845  sitting          1.0  17.699486   \n",
       "1278  252156.2011    0.853001  17.659376  sitting          1.0  17.701856   \n",
       "...           ...         ...        ...      ...          ...        ...   \n",
       "2214  252164.6002    0.758599  16.068462  sitting          1.0  16.083286   \n",
       "2215  252164.6077    0.671898  16.156372  sitting          1.0  16.103958   \n",
       "2216  252164.6212    0.881972  16.034624  sitting          1.0  16.135164   \n",
       "2217  252164.6297    0.846458  16.315037  sitting          1.0  16.219379   \n",
       "2218  252164.6343    0.805206  16.212820  sitting          1.0  16.224262   \n",
       "\n",
       "      Dia_Spline3  Dia_Linear  Dia_Cubic  Dia_PiecewisePoly  Dia_Spline3_Ham  \\\n",
       "1274    17.702299   17.702299  17.702299          17.702299        17.702299   \n",
       "1275    17.684308   17.684308  17.684308          17.684308        17.684308   \n",
       "1276    17.683589   17.683589  17.683589          17.683589        17.683589   \n",
       "1277    17.699486   17.699486  17.699486          17.699486        17.699486   \n",
       "1278    17.701856   17.701856  17.701856          17.701856        17.701856   \n",
       "...           ...         ...        ...                ...              ...   \n",
       "2214    16.083286   16.083286  16.083286          16.083286        16.083286   \n",
       "2215    16.103958   16.103958  16.103958          16.103958        16.103958   \n",
       "2216    16.135164   16.135164  16.135164          16.135164        16.135164   \n",
       "2217    16.219379   16.219379  16.219379          16.219379        16.219379   \n",
       "2218    16.224262   16.224262  16.224262          16.224262        16.224262   \n",
       "\n",
       "      Dia_Linear_Ham  \n",
       "1274       17.702299  \n",
       "1275       17.684308  \n",
       "1276       17.683589  \n",
       "1277       17.699486  \n",
       "1278       17.701856  \n",
       "...              ...  \n",
       "2214       16.083286  \n",
       "2215       16.103958  \n",
       "2216       16.135164  \n",
       "2217       16.219379  \n",
       "2218       16.224262  \n",
       "\n",
       "[945 rows x 12 columns]"
      ]
     },
     "execution_count": 19,
     "metadata": {},
     "output_type": "execute_result"
    }
   ],
   "source": [
    "df_baseline_corr = df_outlier_reject.copy()\n",
    "df_baseline = df_baseline_corr[(df_outlier_reject.Event == 'sitting')]\n",
    "df_baseline"
   ]
  },
  {
   "cell_type": "code",
   "execution_count": 20,
   "id": "549428e2",
   "metadata": {},
   "outputs": [
    {
     "data": {
      "text/html": [
       "<div>\n",
       "<style scoped>\n",
       "    .dataframe tbody tr th:only-of-type {\n",
       "        vertical-align: middle;\n",
       "    }\n",
       "\n",
       "    .dataframe tbody tr th {\n",
       "        vertical-align: top;\n",
       "    }\n",
       "\n",
       "    .dataframe thead th {\n",
       "        text-align: right;\n",
       "    }\n",
       "</style>\n",
       "<table border=\"1\" class=\"dataframe\">\n",
       "  <thead>\n",
       "    <tr style=\"text-align: right;\">\n",
       "      <th></th>\n",
       "      <th>Timestamp</th>\n",
       "      <th>Confidence</th>\n",
       "      <th>Diameter</th>\n",
       "      <th>Event</th>\n",
       "      <th>Blink_marks</th>\n",
       "      <th>Dia_Hann</th>\n",
       "      <th>Dia_Spline3</th>\n",
       "      <th>Dia_Linear</th>\n",
       "      <th>Dia_Cubic</th>\n",
       "      <th>Dia_PiecewisePoly</th>\n",
       "      <th>Dia_Spline3_Ham</th>\n",
       "      <th>Dia_Linear_Ham</th>\n",
       "      <th>Dia_Spline3_Base</th>\n",
       "    </tr>\n",
       "  </thead>\n",
       "  <tbody>\n",
       "    <tr>\n",
       "      <th>0</th>\n",
       "      <td>252144.9580</td>\n",
       "      <td>1.000000</td>\n",
       "      <td>19.901718</td>\n",
       "      <td>default</td>\n",
       "      <td>1.0</td>\n",
       "      <td>NaN</td>\n",
       "      <td>NaN</td>\n",
       "      <td>NaN</td>\n",
       "      <td>NaN</td>\n",
       "      <td>NaN</td>\n",
       "      <td>NaN</td>\n",
       "      <td>NaN</td>\n",
       "      <td>NaN</td>\n",
       "    </tr>\n",
       "    <tr>\n",
       "      <th>1</th>\n",
       "      <td>252144.9659</td>\n",
       "      <td>0.970446</td>\n",
       "      <td>19.722092</td>\n",
       "      <td>default</td>\n",
       "      <td>1.0</td>\n",
       "      <td>NaN</td>\n",
       "      <td>NaN</td>\n",
       "      <td>NaN</td>\n",
       "      <td>NaN</td>\n",
       "      <td>NaN</td>\n",
       "      <td>NaN</td>\n",
       "      <td>NaN</td>\n",
       "      <td>NaN</td>\n",
       "    </tr>\n",
       "    <tr>\n",
       "      <th>2</th>\n",
       "      <td>252144.9739</td>\n",
       "      <td>1.000000</td>\n",
       "      <td>19.066351</td>\n",
       "      <td>default</td>\n",
       "      <td>1.0</td>\n",
       "      <td>19.293362</td>\n",
       "      <td>19.293362</td>\n",
       "      <td>19.293362</td>\n",
       "      <td>19.293362</td>\n",
       "      <td>19.293362</td>\n",
       "      <td>19.293362</td>\n",
       "      <td>19.293362</td>\n",
       "      <td>-1.290053</td>\n",
       "    </tr>\n",
       "    <tr>\n",
       "      <th>3</th>\n",
       "      <td>252144.9823</td>\n",
       "      <td>1.000000</td>\n",
       "      <td>19.318655</td>\n",
       "      <td>default</td>\n",
       "      <td>1.0</td>\n",
       "      <td>19.358787</td>\n",
       "      <td>19.358787</td>\n",
       "      <td>19.358787</td>\n",
       "      <td>19.358787</td>\n",
       "      <td>19.358787</td>\n",
       "      <td>19.358787</td>\n",
       "      <td>19.358787</td>\n",
       "      <td>-1.224629</td>\n",
       "    </tr>\n",
       "    <tr>\n",
       "      <th>4</th>\n",
       "      <td>252144.9899</td>\n",
       "      <td>0.935560</td>\n",
       "      <td>19.731487</td>\n",
       "      <td>default</td>\n",
       "      <td>1.0</td>\n",
       "      <td>19.516866</td>\n",
       "      <td>19.516866</td>\n",
       "      <td>19.516866</td>\n",
       "      <td>19.516866</td>\n",
       "      <td>19.516866</td>\n",
       "      <td>19.516866</td>\n",
       "      <td>19.516866</td>\n",
       "      <td>-1.066550</td>\n",
       "    </tr>\n",
       "    <tr>\n",
       "      <th>...</th>\n",
       "      <td>...</td>\n",
       "      <td>...</td>\n",
       "      <td>...</td>\n",
       "      <td>...</td>\n",
       "      <td>...</td>\n",
       "      <td>...</td>\n",
       "      <td>...</td>\n",
       "      <td>...</td>\n",
       "      <td>...</td>\n",
       "      <td>...</td>\n",
       "      <td>...</td>\n",
       "      <td>...</td>\n",
       "      <td>...</td>\n",
       "    </tr>\n",
       "    <tr>\n",
       "      <th>3114</th>\n",
       "      <td>252172.4050</td>\n",
       "      <td>0.860225</td>\n",
       "      <td>18.310524</td>\n",
       "      <td>reading-sitting</td>\n",
       "      <td>1.0</td>\n",
       "      <td>18.543156</td>\n",
       "      <td>18.543156</td>\n",
       "      <td>18.543156</td>\n",
       "      <td>18.543156</td>\n",
       "      <td>18.543156</td>\n",
       "      <td>18.543156</td>\n",
       "      <td>18.543156</td>\n",
       "      <td>-2.040259</td>\n",
       "    </tr>\n",
       "    <tr>\n",
       "      <th>3115</th>\n",
       "      <td>252172.4109</td>\n",
       "      <td>1.000000</td>\n",
       "      <td>18.938297</td>\n",
       "      <td>reading-sitting</td>\n",
       "      <td>1.0</td>\n",
       "      <td>18.747130</td>\n",
       "      <td>18.747130</td>\n",
       "      <td>18.747130</td>\n",
       "      <td>18.747130</td>\n",
       "      <td>18.747130</td>\n",
       "      <td>18.747130</td>\n",
       "      <td>18.747130</td>\n",
       "      <td>-1.836286</td>\n",
       "    </tr>\n",
       "    <tr>\n",
       "      <th>3116</th>\n",
       "      <td>252172.4189</td>\n",
       "      <td>1.000000</td>\n",
       "      <td>18.801401</td>\n",
       "      <td>reading-sitting</td>\n",
       "      <td>1.0</td>\n",
       "      <td>19.063255</td>\n",
       "      <td>19.063255</td>\n",
       "      <td>19.063255</td>\n",
       "      <td>19.063255</td>\n",
       "      <td>19.063255</td>\n",
       "      <td>19.063255</td>\n",
       "      <td>19.063255</td>\n",
       "      <td>-1.520160</td>\n",
       "    </tr>\n",
       "    <tr>\n",
       "      <th>3117</th>\n",
       "      <td>252172.4271</td>\n",
       "      <td>0.954118</td>\n",
       "      <td>19.711922</td>\n",
       "      <td>reading-sitting</td>\n",
       "      <td>1.0</td>\n",
       "      <td>NaN</td>\n",
       "      <td>17.302754</td>\n",
       "      <td>19.063255</td>\n",
       "      <td>NaN</td>\n",
       "      <td>NaN</td>\n",
       "      <td>17.302754</td>\n",
       "      <td>19.063255</td>\n",
       "      <td>-3.280662</td>\n",
       "    </tr>\n",
       "    <tr>\n",
       "      <th>3118</th>\n",
       "      <td>252172.4350</td>\n",
       "      <td>0.434675</td>\n",
       "      <td>22.220198</td>\n",
       "      <td>reading-sitting</td>\n",
       "      <td>1.0</td>\n",
       "      <td>NaN</td>\n",
       "      <td>16.824384</td>\n",
       "      <td>19.063255</td>\n",
       "      <td>NaN</td>\n",
       "      <td>NaN</td>\n",
       "      <td>16.824384</td>\n",
       "      <td>19.063255</td>\n",
       "      <td>-3.759032</td>\n",
       "    </tr>\n",
       "  </tbody>\n",
       "</table>\n",
       "<p>3119 rows × 13 columns</p>\n",
       "</div>"
      ],
      "text/plain": [
       "        Timestamp  Confidence   Diameter            Event  Blink_marks  \\\n",
       "0     252144.9580    1.000000  19.901718          default          1.0   \n",
       "1     252144.9659    0.970446  19.722092          default          1.0   \n",
       "2     252144.9739    1.000000  19.066351          default          1.0   \n",
       "3     252144.9823    1.000000  19.318655          default          1.0   \n",
       "4     252144.9899    0.935560  19.731487          default          1.0   \n",
       "...           ...         ...        ...              ...          ...   \n",
       "3114  252172.4050    0.860225  18.310524  reading-sitting          1.0   \n",
       "3115  252172.4109    1.000000  18.938297  reading-sitting          1.0   \n",
       "3116  252172.4189    1.000000  18.801401  reading-sitting          1.0   \n",
       "3117  252172.4271    0.954118  19.711922  reading-sitting          1.0   \n",
       "3118  252172.4350    0.434675  22.220198  reading-sitting          1.0   \n",
       "\n",
       "       Dia_Hann  Dia_Spline3  Dia_Linear  Dia_Cubic  Dia_PiecewisePoly  \\\n",
       "0           NaN          NaN         NaN        NaN                NaN   \n",
       "1           NaN          NaN         NaN        NaN                NaN   \n",
       "2     19.293362    19.293362   19.293362  19.293362          19.293362   \n",
       "3     19.358787    19.358787   19.358787  19.358787          19.358787   \n",
       "4     19.516866    19.516866   19.516866  19.516866          19.516866   \n",
       "...         ...          ...         ...        ...                ...   \n",
       "3114  18.543156    18.543156   18.543156  18.543156          18.543156   \n",
       "3115  18.747130    18.747130   18.747130  18.747130          18.747130   \n",
       "3116  19.063255    19.063255   19.063255  19.063255          19.063255   \n",
       "3117        NaN    17.302754   19.063255        NaN                NaN   \n",
       "3118        NaN    16.824384   19.063255        NaN                NaN   \n",
       "\n",
       "      Dia_Spline3_Ham  Dia_Linear_Ham  Dia_Spline3_Base  \n",
       "0                 NaN             NaN               NaN  \n",
       "1                 NaN             NaN               NaN  \n",
       "2           19.293362       19.293362         -1.290053  \n",
       "3           19.358787       19.358787         -1.224629  \n",
       "4           19.516866       19.516866         -1.066550  \n",
       "...               ...             ...               ...  \n",
       "3114        18.543156       18.543156         -2.040259  \n",
       "3115        18.747130       18.747130         -1.836286  \n",
       "3116        19.063255       19.063255         -1.520160  \n",
       "3117        17.302754       19.063255         -3.280662  \n",
       "3118        16.824384       19.063255         -3.759032  \n",
       "\n",
       "[3119 rows x 13 columns]"
      ]
     },
     "execution_count": 20,
     "metadata": {},
     "output_type": "execute_result"
    }
   ],
   "source": [
    "base_median = df_baseline.Dia_Spline3_Ham.median()\n",
    "df_baseline_corr['Dia_Spline3_Base'] = df_baseline_corr['Dia_Spline3_Ham'] - base_median\n",
    "# df_baseline_corr['Dia_Spline3_Base'] = df_baseline_corr['Dia_Spline3_Ham'] / base_median\n",
    "df_baseline_corr"
   ]
  },
  {
   "cell_type": "code",
   "execution_count": 21,
   "id": "a4c39add",
   "metadata": {},
   "outputs": [
    {
     "data": {
      "text/plain": [
       "<AxesSubplot:>"
      ]
     },
     "execution_count": 21,
     "metadata": {},
     "output_type": "execute_result"
    },
    {
     "data": {
      "image/png": "[encoded data removed]",
      "text/plain": [
       "<Figure size 432x288 with 1 Axes>"
      ]
     },
     "metadata": {
      "needs_background": "light"
     },
     "output_type": "display_data"
    }
   ],
   "source": [
    "# Test with plots.\n",
    "df_baseline_corr.Dia_Spline3_Ham.plot()\n",
    "df_baseline_corr.Dia_Spline3_Base.plot()"
   ]
  },
  {
   "cell_type": "code",
   "execution_count": 22,
   "id": "694a4742",
   "metadata": {},
   "outputs": [],
   "source": [
    "# Split data according to different events. Return one-d arrays that could be directly processed later.\n",
    "diameter_default = df_baseline_corr[(df_baseline_corr.Event == 'default')].Dia_Spline3_Base\n",
    "diameter_sitting = df_baseline_corr[(df_baseline_corr.Event == 'sitting')].Dia_Spline3_Base\n",
    "diameter_reading_sitting = df_baseline_corr[(df_baseline_corr.Event == 'reading-sitting')].Dia_Spline3_Base"
   ]
  },
  {
   "cell_type": "markdown",
   "id": "9ff86356",
   "metadata": {},
   "source": [
    "### Export data to csv for processing"
   ]
  },
  {
   "cell_type": "code",
   "execution_count": 32,
   "id": "692b05cc",
   "metadata": {},
   "outputs": [
    {
     "data": {
      "text/html": [
       "<div>\n",
       "<style scoped>\n",
       "    .dataframe tbody tr th:only-of-type {\n",
       "        vertical-align: middle;\n",
       "    }\n",
       "\n",
       "    .dataframe tbody tr th {\n",
       "        vertical-align: top;\n",
       "    }\n",
       "\n",
       "    .dataframe thead th {\n",
       "        text-align: right;\n",
       "    }\n",
       "</style>\n",
       "<table border=\"1\" class=\"dataframe\">\n",
       "  <thead>\n",
       "    <tr style=\"text-align: right;\">\n",
       "      <th></th>\n",
       "      <th>Dia_Spline3_Base</th>\n",
       "      <th>Event</th>\n",
       "    </tr>\n",
       "  </thead>\n",
       "  <tbody>\n",
       "    <tr>\n",
       "      <th>0</th>\n",
       "      <td>NaN</td>\n",
       "      <td>default</td>\n",
       "    </tr>\n",
       "    <tr>\n",
       "      <th>1</th>\n",
       "      <td>NaN</td>\n",
       "      <td>default</td>\n",
       "    </tr>\n",
       "    <tr>\n",
       "      <th>2</th>\n",
       "      <td>-1.290053</td>\n",
       "      <td>default</td>\n",
       "    </tr>\n",
       "    <tr>\n",
       "      <th>3</th>\n",
       "      <td>-1.224629</td>\n",
       "      <td>default</td>\n",
       "    </tr>\n",
       "    <tr>\n",
       "      <th>4</th>\n",
       "      <td>-1.066550</td>\n",
       "      <td>default</td>\n",
       "    </tr>\n",
       "    <tr>\n",
       "      <th>...</th>\n",
       "      <td>...</td>\n",
       "      <td>...</td>\n",
       "    </tr>\n",
       "    <tr>\n",
       "      <th>3114</th>\n",
       "      <td>-2.040259</td>\n",
       "      <td>reading-sitting</td>\n",
       "    </tr>\n",
       "    <tr>\n",
       "      <th>3115</th>\n",
       "      <td>-1.836286</td>\n",
       "      <td>reading-sitting</td>\n",
       "    </tr>\n",
       "    <tr>\n",
       "      <th>3116</th>\n",
       "      <td>-1.520160</td>\n",
       "      <td>reading-sitting</td>\n",
       "    </tr>\n",
       "    <tr>\n",
       "      <th>3117</th>\n",
       "      <td>-3.280662</td>\n",
       "      <td>reading-sitting</td>\n",
       "    </tr>\n",
       "    <tr>\n",
       "      <th>3118</th>\n",
       "      <td>-3.759032</td>\n",
       "      <td>reading-sitting</td>\n",
       "    </tr>\n",
       "  </tbody>\n",
       "</table>\n",
       "<p>3119 rows × 2 columns</p>\n",
       "</div>"
      ],
      "text/plain": [
       "      Dia_Spline3_Base            Event\n",
       "0                  NaN          default\n",
       "1                  NaN          default\n",
       "2            -1.290053          default\n",
       "3            -1.224629          default\n",
       "4            -1.066550          default\n",
       "...                ...              ...\n",
       "3114         -2.040259  reading-sitting\n",
       "3115         -1.836286  reading-sitting\n",
       "3116         -1.520160  reading-sitting\n",
       "3117         -3.280662  reading-sitting\n",
       "3118         -3.759032  reading-sitting\n",
       "\n",
       "[3119 rows x 2 columns]"
      ]
     },
     "execution_count": 32,
     "metadata": {},
     "output_type": "execute_result"
    }
   ],
   "source": [
    "write_file_path = '../Data/PreprocessedData/19-08-10-09/left2D_113Hz.csv'\n",
    "df_export = df_baseline_corr[['Dia_Spline3_Base', 'Event']].copy()\n",
    "df_export.to_csv(write_file_path)\n",
    "df_export"
   ]
  },
  {
   "cell_type": "code",
   "execution_count": null,
   "id": "d6f41d28",
   "metadata": {},
   "outputs": [],
   "source": []
  }
 ],
 "metadata": {
  "kernelspec": {
   "display_name": "Python 3 (ipykernel)",
   "language": "python",
   "name": "python3"
  },
  "language_info": {
   "codemirror_mode": {
    "name": "ipython",
    "version": 3
   },
   "file_extension": ".py",
   "mimetype": "text/x-python",
   "name": "python",
   "nbconvert_exporter": "python",
   "pygments_lexer": "ipython3",
   "version": "3.9.12"
  }
 },
 "nbformat": 4,
 "nbformat_minor": 5
}
